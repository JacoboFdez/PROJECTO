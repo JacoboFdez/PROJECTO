{
 "cells": [
  {
   "cell_type": "markdown",
   "id": "65f990e2",
   "metadata": {},
   "source": [
    "\n",
    "# Intentaremos usar selenium para scrapear la pagina de IMBD de videojuegos"
   ]
  },
  {
   "cell_type": "code",
   "execution_count": 38,
   "id": "4813dc18",
   "metadata": {},
   "outputs": [],
   "source": [
    "import requests\n",
    "import pandas as pd\n",
    "from time import sleep\n",
    "import numpy as np\n",
    "import re\n",
    "\n",
    "from bs4 import BeautifulSoup\n",
    "from selenium import webdriver\n",
    "from webdriver_manager.chrome import ChromeDriverManager\n",
    "from selenium.webdriver.common.keys import Keys\n",
    "from selenium.webdriver.chrome.options import Options\n",
    "\n",
    "\n",
    "\n",
    "\n",
    "import warnings\n",
    "warnings.filterwarnings('ignore')"
   ]
  },
  {
   "cell_type": "code",
   "execution_count": 39,
   "id": "43a2e570",
   "metadata": {},
   "outputs": [],
   "source": [
    "opciones= Options()\n",
    "opciones.add_experimental_option('excludeSwitches', ['enable-automation'])\n",
    "opciones.add_experimental_option('useAutomationExtension', False)\n",
    "opciones.add_argument('--start-maximized')\n",
    "opciones.add_argument('user.data-dir=selenium') \n",
    "opciones.add_argument('--incognito')"
   ]
  },
  {
   "cell_type": "markdown",
   "id": "2d9f6d74",
   "metadata": {},
   "source": [
    "# INFORMACIÓN DE RATING "
   ]
  },
  {
   "cell_type": "code",
   "execution_count": null,
   "id": "0c8cf4bf",
   "metadata": {},
   "outputs": [],
   "source": []
  },
  {
   "cell_type": "code",
   "execution_count": 40,
   "id": "449ce3ff",
   "metadata": {},
   "outputs": [],
   "source": [
    "driver = webdriver.Chrome(ChromeDriverManager().install())\n",
    "\n",
    "\n",
    "driver.get(\"https://www.imdb.com/search/title/?sort=user_rating,desc&title_type=game\")\n",
    "driver.implicitly_wait(3)\n",
    "driver.find_element(\"xpath\",'//*[@id=\"main\"]/div/div[3]/div/div[1]/div[3]/h3/a').click()\n",
    "\n",
    "\n",
    "\n",
    "resultado_puntuacion = driver.find_element(\"css selector\",'#__next > main > div > section.ipc-page-background.ipc-page-background--base.sc-9b716f3b-0.xBaTH > section > div:nth-child(4) > section > section > div.sc-80d4314-0.gXdGOt > div.sc-db8c1937-0.kxtFhR.sc-80d4314-3.faFkBF > div > div:nth-child(1) > a > div > div > div.sc-7ab21ed2-0.kkdwNM > div.sc-7ab21ed2-2.gWdbeG > span.sc-7ab21ed2-1.eUYAaq').text"
   ]
  },
  {
   "cell_type": "code",
   "execution_count": 41,
   "id": "dc14e92a",
   "metadata": {},
   "outputs": [
    {
     "data": {
      "text/plain": [
       "''"
      ]
     },
     "execution_count": 41,
     "metadata": {},
     "output_type": "execute_result"
    }
   ],
   "source": [
    "resultado_puntuacion"
   ]
  },
  {
   "cell_type": "code",
   "execution_count": 83,
   "id": "4dbad832",
   "metadata": {},
   "outputs": [],
   "source": [
    "\n",
    "resultados_rating = {\"titulo\":[], \n",
    "                        \"rating\": []}"
   ]
  },
  {
   "cell_type": "code",
   "execution_count": 84,
   "id": "85060478",
   "metadata": {},
   "outputs": [],
   "source": [
    "url = \"https://www.imdb.com/search/title/?sort=user_rating,desc&title_type=game\""
   ]
  },
  {
   "cell_type": "code",
   "execution_count": 85,
   "id": "094317b1",
   "metadata": {},
   "outputs": [],
   "source": [
    "res1 = requests.get(url)"
   ]
  },
  {
   "cell_type": "code",
   "execution_count": 86,
   "id": "91ca639c",
   "metadata": {},
   "outputs": [
    {
     "data": {
      "text/plain": [
       "200"
      ]
     },
     "execution_count": 86,
     "metadata": {},
     "output_type": "execute_result"
    }
   ],
   "source": [
    "res1.status_code"
   ]
  },
  {
   "cell_type": "code",
   "execution_count": 87,
   "id": "32cc8798",
   "metadata": {},
   "outputs": [],
   "source": [
    "sopa = BeautifulSoup(res1.content, 'html.parser') "
   ]
  },
  {
   "cell_type": "code",
   "execution_count": 98,
   "id": "1f86f9b5",
   "metadata": {},
   "outputs": [],
   "source": [
    "titulos = sopa.find_all(\"div\", {\"class\": \"lister-item mode-advanced\"})"
   ]
  },
  {
   "cell_type": "code",
   "execution_count": 99,
   "id": "5bf8ecb6",
   "metadata": {},
   "outputs": [
    {
     "data": {
      "text/plain": [
       "bs4.element.ResultSet"
      ]
     },
     "execution_count": 99,
     "metadata": {},
     "output_type": "execute_result"
    }
   ],
   "source": [
    "type(titulos)"
   ]
  },
  {
   "cell_type": "code",
   "execution_count": 100,
   "id": "def76941",
   "metadata": {},
   "outputs": [
    {
     "data": {
      "text/plain": [
       "50"
      ]
     },
     "execution_count": 100,
     "metadata": {},
     "output_type": "execute_result"
    }
   ],
   "source": [
    "len(titulos)"
   ]
  },
  {
   "cell_type": "code",
   "execution_count": 101,
   "id": "e3f3cda8",
   "metadata": {},
   "outputs": [
    {
     "data": {
      "text/plain": [
       "[<div class=\"lister-item mode-advanced\">\n",
       " <div class=\"lister-top-right\">\n",
       " <div class=\"ribbonize\" data-caller=\"filmosearch\" data-tconst=\"tt20918700\"></div>\n",
       " </div>\n",
       " <div class=\"lister-item-image float-left\">\n",
       " <a href=\"/title/tt20918700/\"> <img alt=\"The Last of Us: Part I\" class=\"loadlate\" data-tconst=\"tt20918700\" height=\"98\" loadlate=\"https://m.media-amazon.com/images/M/MV5BMGUwY2E1MDYtMThjOC00ZGIxLWJkZWYtZDI3OGM1MzM2NzI4XkEyXkFqcGdeQXVyNDY2NDU1MzA@._V1_UX67_CR0,0,67,98_AL_.jpg\" src=\"https://m.media-amazon.com/images/S/sash/4FyxwxECzL-U1J8.png\" width=\"67\"/>\n",
       " </a> </div>\n",
       " <div class=\"lister-item-content\">\n",
       " <h3 class=\"lister-item-header\">\n",
       " <span class=\"lister-item-index unbold text-primary\">1.</span>\n",
       " <a href=\"/title/tt20918700/\">The Last of Us: Part I</a>\n",
       " <span class=\"lister-item-year text-muted unbold\">(2022 Video Game)</span>\n",
       " </h3>\n",
       " <p class=\"text-muted\">\n",
       " <span class=\"genre\">\n",
       " Action, Adventure, Drama            </span>\n",
       " </p>\n",
       " <div class=\"ratings-bar\">\n",
       " <div class=\"inline-block ratings-imdb-rating\" data-value=\"9.8\" name=\"ir\">\n",
       " <span class=\"global-sprite rating-star imdb-rating\"></span>\n",
       " <strong>9.8</strong>\n",
       " </div>\n",
       " <div class=\"inline-block ratings-user-rating\">\n",
       " <span class=\"userRatingValue\" data-tconst=\"tt20918700\" id=\"urv_tt20918700\">\n",
       " <span class=\"global-sprite rating-star no-rating\"></span>\n",
       " <span class=\"rate\" data-no-rating=\"Rate this\" data-value=\"0\" name=\"ur\">Rate this</span>\n",
       " </span>\n",
       " <div class=\"starBarWidget\" id=\"sb_tt20918700\">\n",
       " <div class=\"rating rating-list\" data-csrf-token=\"\" data-ga-identifier=\"\" data-starbar-class=\"rating-list\" data-user=\"\" id=\"tt20918700|imdb|9.8|9.8|adv_li_tt||advsearch|title\" itemprop=\"aggregateRating\" itemscope=\"\" itemtype=\"http://schema.org/AggregateRating\" title=\"Users rated this 9.8/10 (1,741 votes) - click stars to rate\">\n",
       " <meta content=\"9.8\" itemprop=\"ratingValue\"/>\n",
       " <meta content=\"10\" itemprop=\"bestRating\"/>\n",
       " <meta content=\"1741\" itemprop=\"ratingCount\"/>\n",
       " <span class=\"rating-bg\"> </span>\n",
       " <span class=\"rating-imdb\" style=\"width: 137.2px\"> </span>\n",
       " <span class=\"rating-stars\">\n",
       " <a href=\"/register/login?why=vote\" rel=\"nofollow\" title=\"Register or login to rate this title\"><span>1</span></a>\n",
       " <a href=\"/register/login?why=vote\" rel=\"nofollow\" title=\"Register or login to rate this title\"><span>2</span></a>\n",
       " <a href=\"/register/login?why=vote\" rel=\"nofollow\" title=\"Register or login to rate this title\"><span>3</span></a>\n",
       " <a href=\"/register/login?why=vote\" rel=\"nofollow\" title=\"Register or login to rate this title\"><span>4</span></a>\n",
       " <a href=\"/register/login?why=vote\" rel=\"nofollow\" title=\"Register or login to rate this title\"><span>5</span></a>\n",
       " <a href=\"/register/login?why=vote\" rel=\"nofollow\" title=\"Register or login to rate this title\"><span>6</span></a>\n",
       " <a href=\"/register/login?why=vote\" rel=\"nofollow\" title=\"Register or login to rate this title\"><span>7</span></a>\n",
       " <a href=\"/register/login?why=vote\" rel=\"nofollow\" title=\"Register or login to rate this title\"><span>8</span></a>\n",
       " <a href=\"/register/login?why=vote\" rel=\"nofollow\" title=\"Register or login to rate this title\"><span>9</span></a>\n",
       " <a href=\"/register/login?why=vote\" rel=\"nofollow\" title=\"Register or login to rate this title\"><span>10</span></a>\n",
       " </span>\n",
       " <span class=\"rating-rating\"><span class=\"value\">9.8</span><span class=\"grey\">/</span><span class=\"grey\">10</span></span>\n",
       " <span class=\"rating-cancel\"><a href=\"/title/tt20918700/vote\" rel=\"nofollow\" title=\"Delete\"><span>X</span></a></span>\n",
       "  </div>\n",
       " </div>\n",
       " </div>\n",
       " </div>\n",
       " <p class=\"text-muted\">\n",
       " Experience the emotional storytelling and unforgettable characters in The Last of Us, winner of over 200 Game of the Year awards, now rebuilt from the ground up for the PlayStation 5 console.</p>\n",
       " <p class=\"\">\n",
       "     Directors:\n",
       " <a href=\"/name/nm9585284/\">Matthew Gallant</a>, \n",
       " <a href=\"/name/nm3656507/\">Bruce Straley</a>\n",
       " <span class=\"ghost\">|</span> \n",
       "     Stars:\n",
       " <a href=\"/name/nm0424534/\">Ashley Johnson</a>, \n",
       " <a href=\"/name/nm1684869/\">Troy Baker</a>, \n",
       " <a href=\"/name/nm4153468/\">Hana Hayes</a>, \n",
       " <a href=\"/name/nm0682386/\">Jeffrey Pierce</a>\n",
       " </p>\n",
       " <p class=\"sort-num_votes-visible\">\n",
       " <span class=\"text-muted\">Votes:</span>\n",
       " <span data-value=\"1741\" name=\"nv\">1,741</span>\n",
       " </p>\n",
       " </div>\n",
       " </div>,\n",
       " <div class=\"lister-item mode-advanced\">\n",
       " <div class=\"lister-top-right\">\n",
       " <div class=\"ribbonize\" data-caller=\"filmosearch\" data-tconst=\"tt5667286\"></div>\n",
       " </div>\n",
       " <div class=\"lister-item-image float-left\">\n",
       " <a href=\"/title/tt5667286/\"> <img alt=\"Wiedzmin 3: Dziki Gon Krew i wino\" class=\"loadlate\" data-tconst=\"tt5667286\" height=\"98\" loadlate=\"https://m.media-amazon.com/images/M/MV5BMTg2ZmY0MGUtZmFjZS00YjkxLTlmMWEtMDE0ZWQwYzBlODA2XkEyXkFqcGdeQXVyMzUwNzgzNzg@._V1_UY98_CR5,0,67,98_AL_.jpg\" src=\"https://m.media-amazon.com/images/S/sash/4FyxwxECzL-U1J8.png\" width=\"67\"/>\n",
       " </a> </div>\n",
       " <div class=\"lister-item-content\">\n",
       " <h3 class=\"lister-item-header\">\n",
       " <span class=\"lister-item-index unbold text-primary\">2.</span>\n",
       " <a href=\"/title/tt5667286/\">Wiedzmin 3: Dziki Gon Krew i wino</a>\n",
       " <span class=\"lister-item-year text-muted unbold\">(2016 Video Game)</span>\n",
       " </h3>\n",
       " <p class=\"text-muted\">\n",
       " <span class=\"genre\">\n",
       " Action, Adventure, Drama            </span>\n",
       " </p>\n",
       " <div class=\"ratings-bar\">\n",
       " <div class=\"inline-block ratings-imdb-rating\" data-value=\"9.8\" name=\"ir\">\n",
       " <span class=\"global-sprite rating-star imdb-rating\"></span>\n",
       " <strong>9.8</strong>\n",
       " </div>\n",
       " <div class=\"inline-block ratings-user-rating\">\n",
       " <span class=\"userRatingValue\" data-tconst=\"tt5667286\" id=\"urv_tt5667286\">\n",
       " <span class=\"global-sprite rating-star no-rating\"></span>\n",
       " <span class=\"rate\" data-no-rating=\"Rate this\" data-value=\"0\" name=\"ur\">Rate this</span>\n",
       " </span>\n",
       " <div class=\"starBarWidget\" id=\"sb_tt5667286\">\n",
       " <div class=\"rating rating-list\" data-csrf-token=\"\" data-ga-identifier=\"\" data-starbar-class=\"rating-list\" data-user=\"\" id=\"tt5667286|imdb|9.8|9.8|adv_li_tt||advsearch|title\" itemprop=\"aggregateRating\" itemscope=\"\" itemtype=\"http://schema.org/AggregateRating\" title=\"Users rated this 9.8/10 (8,336 votes) - click stars to rate\">\n",
       " <meta content=\"9.8\" itemprop=\"ratingValue\"/>\n",
       " <meta content=\"10\" itemprop=\"bestRating\"/>\n",
       " <meta content=\"8336\" itemprop=\"ratingCount\"/>\n",
       " <span class=\"rating-bg\"> </span>\n",
       " <span class=\"rating-imdb\" style=\"width: 137.2px\"> </span>\n",
       " <span class=\"rating-stars\">\n",
       " <a href=\"/register/login?why=vote\" rel=\"nofollow\" title=\"Register or login to rate this title\"><span>1</span></a>\n",
       " <a href=\"/register/login?why=vote\" rel=\"nofollow\" title=\"Register or login to rate this title\"><span>2</span></a>\n",
       " <a href=\"/register/login?why=vote\" rel=\"nofollow\" title=\"Register or login to rate this title\"><span>3</span></a>\n",
       " <a href=\"/register/login?why=vote\" rel=\"nofollow\" title=\"Register or login to rate this title\"><span>4</span></a>\n",
       " <a href=\"/register/login?why=vote\" rel=\"nofollow\" title=\"Register or login to rate this title\"><span>5</span></a>\n",
       " <a href=\"/register/login?why=vote\" rel=\"nofollow\" title=\"Register or login to rate this title\"><span>6</span></a>\n",
       " <a href=\"/register/login?why=vote\" rel=\"nofollow\" title=\"Register or login to rate this title\"><span>7</span></a>\n",
       " <a href=\"/register/login?why=vote\" rel=\"nofollow\" title=\"Register or login to rate this title\"><span>8</span></a>\n",
       " <a href=\"/register/login?why=vote\" rel=\"nofollow\" title=\"Register or login to rate this title\"><span>9</span></a>\n",
       " <a href=\"/register/login?why=vote\" rel=\"nofollow\" title=\"Register or login to rate this title\"><span>10</span></a>\n",
       " </span>\n",
       " <span class=\"rating-rating\"><span class=\"value\">9.8</span><span class=\"grey\">/</span><span class=\"grey\">10</span></span>\n",
       " <span class=\"rating-cancel\"><a href=\"/title/tt5667286/vote\" rel=\"nofollow\" title=\"Delete\"><span>X</span></a></span>\n",
       "  </div>\n",
       " </div>\n",
       " </div>\n",
       " </div>\n",
       " <p class=\"text-muted\">\n",
       " Geralt is in the southern province of Toussaint where a monstrous serial killer is targeting knights with a dark past. Geralt and his old vampire friend investigate the killer's motives.</p>\n",
       " <p class=\"\">\n",
       "     Director:\n",
       " <a href=\"/name/nm2840922/\">Konrad Tomaszkiewicz</a>\n",
       " <span class=\"ghost\">|</span> \n",
       "     Stars:\n",
       " <a href=\"/name/nm0168339/\">Doug Cockle</a>, \n",
       " <a href=\"/name/nm1769728/\">MyAnna Buring</a>, \n",
       " <a href=\"/name/nm1553405/\">Antonia Bernath</a>, \n",
       " <a href=\"/name/nm1646345/\">Mark Noble</a>\n",
       " </p>\n",
       " <p class=\"sort-num_votes-visible\">\n",
       " <span class=\"text-muted\">Votes:</span>\n",
       " <span data-value=\"8336\" name=\"nv\">8,336</span>\n",
       " </p>\n",
       " </div>\n",
       " </div>,\n",
       " <div class=\"lister-item mode-advanced\">\n",
       " <div class=\"lister-top-right\">\n",
       " <div class=\"ribbonize\" data-caller=\"filmosearch\" data-tconst=\"tt13119450\"></div>\n",
       " </div>\n",
       " <div class=\"lister-item-image float-left\">\n",
       " <a href=\"/title/tt13119450/\"> <img alt=\"God of War: Ragnarök\" class=\"loadlate\" data-tconst=\"tt13119450\" height=\"98\" loadlate=\"https://m.media-amazon.com/images/M/MV5BMDQ1MmQ5NTItZTk0ZS00M2E5LTkzNmQtNDI2YWMyOGFlZWVjXkEyXkFqcGdeQXVyOTg3NjI1MTg@._V1_UY98_CR0,0,67,98_AL_.jpg\" src=\"https://m.media-amazon.com/images/S/sash/4FyxwxECzL-U1J8.png\" width=\"67\"/>\n",
       " </a> </div>\n",
       " <div class=\"lister-item-content\">\n",
       " <h3 class=\"lister-item-header\">\n",
       " <span class=\"lister-item-index unbold text-primary\">3.</span>\n",
       " <a href=\"/title/tt13119450/\">God of War: Ragnarök</a>\n",
       " <span class=\"lister-item-year text-muted unbold\">(2022 Video Game)</span>\n",
       " </h3>\n",
       " <p class=\"text-muted\">\n",
       " <span class=\"genre\">\n",
       " Action, Adventure, Drama            </span>\n",
       " </p>\n",
       " <div class=\"ratings-bar\">\n",
       " <div class=\"inline-block ratings-imdb-rating\" data-value=\"9.7\" name=\"ir\">\n",
       " <span class=\"global-sprite rating-star imdb-rating\"></span>\n",
       " <strong>9.7</strong>\n",
       " </div>\n",
       " <div class=\"inline-block ratings-user-rating\">\n",
       " <span class=\"userRatingValue\" data-tconst=\"tt13119450\" id=\"urv_tt13119450\">\n",
       " <span class=\"global-sprite rating-star no-rating\"></span>\n",
       " <span class=\"rate\" data-no-rating=\"Rate this\" data-value=\"0\" name=\"ur\">Rate this</span>\n",
       " </span>\n",
       " <div class=\"starBarWidget\" id=\"sb_tt13119450\">\n",
       " <div class=\"rating rating-list\" data-csrf-token=\"\" data-ga-identifier=\"\" data-starbar-class=\"rating-list\" data-user=\"\" id=\"tt13119450|imdb|9.7|9.7|adv_li_tt||advsearch|title\" itemprop=\"aggregateRating\" itemscope=\"\" itemtype=\"http://schema.org/AggregateRating\" title=\"Users rated this 9.7/10 (9,111 votes) - click stars to rate\">\n",
       " <meta content=\"9.7\" itemprop=\"ratingValue\"/>\n",
       " <meta content=\"10\" itemprop=\"bestRating\"/>\n",
       " <meta content=\"9111\" itemprop=\"ratingCount\"/>\n",
       " <span class=\"rating-bg\"> </span>\n",
       " <span class=\"rating-imdb\" style=\"width: 135.8px\"> </span>\n",
       " <span class=\"rating-stars\">\n",
       " <a href=\"/register/login?why=vote\" rel=\"nofollow\" title=\"Register or login to rate this title\"><span>1</span></a>\n",
       " <a href=\"/register/login?why=vote\" rel=\"nofollow\" title=\"Register or login to rate this title\"><span>2</span></a>\n",
       " <a href=\"/register/login?why=vote\" rel=\"nofollow\" title=\"Register or login to rate this title\"><span>3</span></a>\n",
       " <a href=\"/register/login?why=vote\" rel=\"nofollow\" title=\"Register or login to rate this title\"><span>4</span></a>\n",
       " <a href=\"/register/login?why=vote\" rel=\"nofollow\" title=\"Register or login to rate this title\"><span>5</span></a>\n",
       " <a href=\"/register/login?why=vote\" rel=\"nofollow\" title=\"Register or login to rate this title\"><span>6</span></a>\n",
       " <a href=\"/register/login?why=vote\" rel=\"nofollow\" title=\"Register or login to rate this title\"><span>7</span></a>\n",
       " <a href=\"/register/login?why=vote\" rel=\"nofollow\" title=\"Register or login to rate this title\"><span>8</span></a>\n",
       " <a href=\"/register/login?why=vote\" rel=\"nofollow\" title=\"Register or login to rate this title\"><span>9</span></a>\n",
       " <a href=\"/register/login?why=vote\" rel=\"nofollow\" title=\"Register or login to rate this title\"><span>10</span></a>\n",
       " </span>\n",
       " <span class=\"rating-rating\"><span class=\"value\">9.7</span><span class=\"grey\">/</span><span class=\"grey\">10</span></span>\n",
       " <span class=\"rating-cancel\"><a href=\"/title/tt13119450/vote\" rel=\"nofollow\" title=\"Delete\"><span>X</span></a></span>\n",
       "  </div>\n",
       " </div>\n",
       " </div>\n",
       " </div>\n",
       " <p class=\"text-muted\">\n",
       " Kratos and his son Atreus face the oncoming Norse apocalypse, Ragnarok.</p>\n",
       " <p class=\"\">\n",
       "     Director:\n",
       " <a href=\"/name/nm2161629/\">Eric Williams</a>\n",
       " <span class=\"ghost\">|</span> \n",
       "     Stars:\n",
       " <a href=\"/name/nm0431895/\">Christopher Judge</a>, \n",
       " <a href=\"/name/nm6129779/\">Sunny Suljic</a>, \n",
       " <a href=\"/name/nm0084426/\">Danielle Bisutti</a>, \n",
       " <a href=\"/name/nm0186060/\">Robert Craighead</a>\n",
       " </p>\n",
       " <p class=\"sort-num_votes-visible\">\n",
       " <span class=\"text-muted\">Votes:</span>\n",
       " <span data-value=\"9111\" name=\"nv\">9,111</span>\n",
       " </p>\n",
       " </div>\n",
       " </div>]"
      ]
     },
     "execution_count": 101,
     "metadata": {},
     "output_type": "execute_result"
    }
   ],
   "source": [
    "titulos[:3]"
   ]
  },
  {
   "cell_type": "code",
   "execution_count": 94,
   "id": "c71162f6",
   "metadata": {},
   "outputs": [
    {
     "data": {
      "text/plain": [
       "{'titulo': ['\\n\\n1.\\nThe Last of Us: Part I\\n(2022 Video Game)\\n\\n\\n\\nAction, Adventure, Drama            \\n\\n\\n\\n\\n9.8\\n\\n\\n\\n\\nRate this\\n\\n\\n\\n\\n\\n\\n\\xa0\\n\\xa0\\n\\n1\\n2\\n3\\n4\\n5\\n6\\n7\\n8\\n9\\n10\\n\\n9.8/10\\nX\\n\\xa0\\n\\n\\n\\n\\nExperience the emotional storytelling and unforgettable characters in The Last of Us, winner of over 200 Game of the Year awards, now rebuilt from the ground up for the PlayStation 5 console.\\n\\n    Directors:\\nMatthew Gallant, \\nBruce Straley\\n| \\n    Stars:\\nAshley Johnson, \\nTroy Baker, \\nHana Hayes, \\nJeffrey Pierce\\n\\n\\nVotes:\\n1,741\\n\\n',\n",
       "  \"\\n\\n2.\\nWiedzmin 3: Dziki Gon Krew i wino\\n(2016 Video Game)\\n\\n\\n\\nAction, Adventure, Drama            \\n\\n\\n\\n\\n9.8\\n\\n\\n\\n\\nRate this\\n\\n\\n\\n\\n\\n\\n\\xa0\\n\\xa0\\n\\n1\\n2\\n3\\n4\\n5\\n6\\n7\\n8\\n9\\n10\\n\\n9.8/10\\nX\\n\\xa0\\n\\n\\n\\n\\nGeralt is in the southern province of Toussaint where a monstrous serial killer is targeting knights with a dark past. Geralt and his old vampire friend investigate the killer's motives.\\n\\n    Director:\\nKonrad Tomaszkiewicz\\n| \\n    Stars:\\nDoug Cockle, \\nMyAnna Buring, \\nAntonia Bernath, \\nMark Noble\\n\\n\\nVotes:\\n8,336\\n\\n\",\n",
       "  '\\n\\n3.\\nGod of War: Ragnarök\\n(2022 Video Game)\\n\\n\\n\\nAction, Adventure, Drama            \\n\\n\\n\\n\\n9.7\\n\\n\\n\\n\\nRate this\\n\\n\\n\\n\\n\\n\\n\\xa0\\n\\xa0\\n\\n1\\n2\\n3\\n4\\n5\\n6\\n7\\n8\\n9\\n10\\n\\n9.7/10\\nX\\n\\xa0\\n\\n\\n\\n\\nKratos and his son Atreus face the oncoming Norse apocalypse, Ragnarok.\\n\\n    Director:\\nEric Williams\\n| \\n    Stars:\\nChristopher Judge, \\nSunny Suljic, \\nDanielle Bisutti, \\nRobert Craighead\\n\\n\\nVotes:\\n9,111\\n\\n',\n",
       "  '\\n\\n4.\\nThe Last of Us\\n(2013 Video Game)\\n\\n\\n\\nAction, Adventure, Drama            \\n\\n\\n\\n\\n9.7\\n\\n\\n\\n\\nRate this\\n\\n\\n\\n\\n\\n\\n\\xa0\\n\\xa0\\n\\n1\\n2\\n3\\n4\\n5\\n6\\n7\\n8\\n9\\n10\\n\\n9.7/10\\nX\\n\\xa0\\n\\n\\n\\n\\nIn a hostile, post-pandemic world, Joel and Ellie, brought together by desperate circumstances, must rely on each other to survive a brutal journey across what remains of the United States.\\n\\n    Directors:\\nNeil Druckmann, \\nBruce Straley\\n| \\n    Stars:\\nTroy Baker, \\nAshley Johnson, \\nHana Hayes, \\nJeffrey Pierce\\n\\n\\nVotes:\\n63,796\\n\\n',\n",
       "  '\\n\\n5.\\nRed Dead Redemption II\\n(2018 Video Game)\\n\\n\\n\\nAction, Adventure, Crime            \\n\\n\\n\\n\\n9.7\\n\\n\\n\\n\\nRate this\\n\\n\\n\\n\\n\\n\\n\\xa0\\n\\xa0\\n\\n1\\n2\\n3\\n4\\n5\\n6\\n7\\n8\\n9\\n10\\n\\n9.7/10\\nX\\n\\xa0\\n\\n\\n\\n\\nAmidst the decline of the Wild West at the turn of the 20th century, outlaw Arthur Morgan and his gang struggle to cope with the loss of their way of life.\\n\\n            \\n    Stars:\\nBenjamin Byron Davis, \\nRoger Clark, \\nRob Wiethoff, \\nCali Elizabeth Moore\\n\\n\\nVotes:\\n39,913\\n\\n',\n",
       "  '\\n\\n6.\\nWiedzmin 3: Dziki Gon\\n(2015 Video Game)\\n\\n\\n18\\n|\\n\\nAction, Adventure, Drama            \\n\\n\\n\\n\\n9.7\\n\\n\\n\\n\\nRate this\\n\\n\\n\\n\\n\\n\\n\\xa0\\n\\xa0\\n\\n1\\n2\\n3\\n4\\n5\\n6\\n7\\n8\\n9\\n10\\n\\n9.7/10\\nX\\n\\xa0\\n\\n\\n\\n\\nA monster hunter for hire embarks on an epic journey to find his former apprentice before The Wild Hunt can capture her and bring about the destruction of the world.\\n\\n    Director:\\nKonrad Tomaszkiewicz\\n| \\n    Stars:\\nDoug Cockle, \\nDenise Gough, \\nJo Wyatt, \\nJaimi Barbakoff\\n\\n\\nVotes:\\n28,021\\n\\n',\n",
       "  '\\n\\n7.\\nGod of War\\n(2018 Video Game)\\n\\n\\n18\\n|\\n\\nAction, Adventure, Drama            \\n\\n\\n\\n\\n9.6\\n\\n\\n\\n\\nRate this\\n\\n\\n\\n\\n\\n\\n\\xa0\\n\\xa0\\n\\n1\\n2\\n3\\n4\\n5\\n6\\n7\\n8\\n9\\n10\\n\\n9.6/10\\nX\\n\\xa0\\n\\n\\n\\n\\nAfter wiping out the gods of Mount Olympus, Kratos moves on to the frigid lands of Scandinavia, where he and his son must embark on an odyssey across a dangerous world of gods and monsters.\\n\\n    Director:\\nCory Barlog\\n| \\n    Stars:\\nChristopher Judge, \\nSunny Suljic, \\nJeremy Davies, \\nDanielle Bisutti\\n\\n\\nVotes:\\n30,244\\n\\n',\n",
       "  '\\n\\n8.\\nMass Effect: Legendary Edition\\n(2021 Video Game)\\n\\n\\n\\nAction, Adventure, Drama            \\n\\n\\n\\n\\n9.6\\n\\n\\n\\n\\nRate this\\n\\n\\n\\n\\n\\n\\n\\xa0\\n\\xa0\\n\\n1\\n2\\n3\\n4\\n5\\n6\\n7\\n8\\n9\\n10\\n\\n9.6/10\\nX\\n\\xa0\\n\\n\\n\\n\\nA compilation of the first three Mass Effect games.\\n\\n    Directors:\\nCasey Hudson, \\nMac Walters\\n| \\n    Stars:\\nSteven Barr, \\nKimberly Brooks, \\nKeith David, \\nSeth Green\\n\\n\\nVotes:\\n1,973\\n\\n',\n",
       "  \"\\n\\n9.\\nMetal Gear Solid\\n(1998 Video Game)\\n\\n\\n\\nAction, Adventure, Drama            \\n\\n\\n\\n\\n9.6\\n\\n\\n\\n\\nRate this\\n\\n\\n\\n\\n\\n\\n\\xa0\\n\\xa0\\n\\n1\\n2\\n3\\n4\\n5\\n6\\n7\\n8\\n9\\n10\\n\\n9.6/10\\nX\\n\\xa0\\n\\n\\n\\n\\nA crack government anti-terrorist squad takes over an obscure Alaskan nuclear disposal facility. Solid Snake is up for the task to infiltrate the facility, rescue the two hostages and thwart the terrorists' plans.\\n\\n    Director:\\nHideo Kojima\\n| \\n    Stars:\\nDavid Hayter, \\nPatric Zimmerman, \\nPeter Lurie, \\nAkio Ôtsuka\\n\\n\\nVotes:\\n11,982\\n\\n\",\n",
       "  '\\n\\n10.\\nThe Legend of Zelda: Ocarina of Time\\n(1998 Video Game)\\n\\n\\n7\\n|\\n\\nAction, Adventure, Fantasy            \\n\\n\\n\\n\\n9.6\\n\\n\\n\\n\\nRate this\\n\\n\\n\\n\\n\\n\\n\\xa0\\n\\xa0\\n\\n1\\n2\\n3\\n4\\n5\\n6\\n7\\n8\\n9\\n10\\n\\n9.6/10\\nX\\n\\xa0\\n\\n\\n\\n\\nA young Kokiri boy discovers that his destiny is to free the Seven Sages and save the land of Hyrule from the treacherous sorcerer Ganondorf.\\n\\n    Directors:\\nEiji Aonuma, \\nYoichi Yamada, \\nYoshiaki Koizumi, \\nShigeru Miyamoto, \\nTôru Ôsawa\\n| \\n    Stars:\\nNobuyuki Hiyama, \\nFujiko Takimoto, \\nJun Mizusawa, \\nTakashi Nagasako\\n\\n\\nVotes:\\n9,792\\n\\n',\n",
       "  \"\\n\\n11.\\nGrand Theft Auto V\\n(2013 Video Game)\\n\\n\\n18\\n|\\n\\nAction, Comedy, Crime            \\n\\n\\n\\n\\n9.5\\n\\n\\n\\n\\nRate this\\n\\n\\n\\n\\n\\n\\n\\xa0\\n\\xa0\\n\\n1\\n2\\n3\\n4\\n5\\n6\\n7\\n8\\n9\\n10\\n\\n9.5/10\\nX\\n\\xa0\\n\\n\\n\\n\\nThree very different criminals team up for a series of heists and walk into some of the most thrilling experiences in the corrupt city of Los Santos.\\n\\n            \\n    Stars:\\nShawn Fonteno, \\nNed Luke, \\nSteven Ogg, \\nGerald 'Slink' Johnson\\n\\n\\nVotes:\\n62,600\\n\\n\",\n",
       "  \"\\n\\n12.\\nUncharted 4: A Thief's End\\n(2016 Video Game)\\n\\n\\n\\nAction, Adventure, Drama            \\n\\n\\n\\n\\n9.5\\n\\n\\n\\n\\nRate this\\n\\n\\n\\n\\n\\n\\n\\xa0\\n\\xa0\\n\\n1\\n2\\n3\\n4\\n5\\n6\\n7\\n8\\n9\\n10\\n\\n9.5/10\\nX\\n\\xa0\\n\\n\\n\\n\\nThrown back into the dangerous underworld he'd tried to leave behind, Nathan Drake must decide what he's willing to sacrifice to save the ones he loves.\\n\\n    Directors:\\nNeil Druckmann, \\nBruce Straley\\n| \\n    Stars:\\nNolan North, \\nTroy Baker, \\nRichard McGonagle, \\nEmily Rose\\n\\n\\nVotes:\\n30,436\\n\\n\",\n",
       "  '\\n\\n13.\\nMass Effect 2\\n(2010 Video Game)\\n\\n\\n18\\n|\\n\\nAction, Adventure, Drama            \\n\\n\\n\\n\\n9.5\\n\\n\\n\\n\\nRate this\\n\\n\\n\\n\\n\\n\\n\\xa0\\n\\xa0\\n\\n1\\n2\\n3\\n4\\n5\\n6\\n7\\n8\\n9\\n10\\n\\n9.5/10\\nX\\n\\xa0\\n\\n\\n\\n\\nAfter being revived from death and having to join a pro-human organization without a choice, Commander Shepard must assemble a team, battle a new threat, and make tough choices in order to save the galaxy from total annihilation once more.\\n\\n    Director:\\nCasey Hudson\\n| \\n    Stars:\\nShohreh Aghdashloo, \\nMaggie Baird, \\nAdam Baldwin, \\nMichael Beattie\\n\\n\\nVotes:\\n20,272\\n\\n',\n",
       "  '\\n\\n14.\\nRed Dead Redemption\\n(2010 Video Game)\\n\\n\\n18\\n|\\n\\nAction, Adventure, Crime            \\n\\n\\n\\n\\n9.5\\n\\n\\n\\n\\nRate this\\n\\n\\n\\n\\n\\n\\n\\xa0\\n\\xa0\\n\\n1\\n2\\n3\\n4\\n5\\n6\\n7\\n8\\n9\\n10\\n\\n9.5/10\\nX\\n\\xa0\\n\\n\\n\\n\\nA former outlaw is forced by the federal government to hunt down the members of his old gang.\\n\\n            \\n    Stars:\\nRob Wiethoff, \\nJosh Blaylock, \\nSophia Marzocchi, \\nSpider Madison\\n\\n\\nVotes:\\n27,382\\n\\n',\n",
       "  '\\n\\n15.\\nPerusona 5: Za roiyaru\\n(2019 Video Game)\\n\\n\\n\\nAction, Adventure, Comedy            \\n\\n\\n\\n\\n9.5\\n\\n\\n\\n\\nRate this\\n\\n\\n\\n\\n\\n\\n\\xa0\\n\\xa0\\n\\n1\\n2\\n3\\n4\\n5\\n6\\n7\\n8\\n9\\n10\\n\\n9.5/10\\nX\\n\\xa0\\n\\n\\n\\n\\nA group of high school students create a vigilante group to expose the crimes of corrupt adults but soon find themselves in the midst of a worldwide conspiracy and targeted by powerful individuals who would do anything to silence them.\\n\\n    Director:\\nDaiki Itô\\n| \\n    Stars:\\nJun Fukuyama, \\nIkue Ôtani, \\nMamoru Miyano, \\nNana Mizuki\\n\\n\\nVotes:\\n1,502\\n\\n',\n",
       "  '\\n\\n16.\\nStar Wars: Knights of the Old Republic\\n(2003 Video Game)\\n\\n\\n\\nAction, Adventure, Fantasy            \\n\\n\\n\\n\\n9.5\\n\\n\\n\\n\\nRate this\\n\\n\\n\\n\\n\\n\\n\\xa0\\n\\xa0\\n\\n1\\n2\\n3\\n4\\n5\\n6\\n7\\n8\\n9\\n10\\n\\n9.5/10\\nX\\n\\xa0\\n\\n\\n\\n\\nA republic soldier, training to become a Jedi Knight, is given the task of halting the conquest of Darth Malak by discovering the location of a weapon known as the Star Forge.\\n\\n    Director:\\nCasey Hudson\\n| \\n    Stars:\\nJennifer Hale, \\nRaphael Sbarge, \\nRafael Ferrer, \\nJohn Cygan\\n\\n\\nVotes:\\n8,754\\n\\n',\n",
       "  '\\n\\n17.\\nMetal Gear Solid 3: Snake Eater\\n(2004 Video Game)\\n\\n\\n\\nAction, Adventure, Drama            \\n\\n\\n\\n\\n9.5\\n\\n\\n\\n\\nRate this\\n\\n\\n\\n\\n\\n\\n\\xa0\\n\\xa0\\n\\n1\\n2\\n3\\n4\\n5\\n6\\n7\\n8\\n9\\n10\\n\\n9.5/10\\nX\\n\\xa0\\n\\n\\n\\n\\nIn 1964, a U.S. government operative codenamed \"Snake\" must infiltrate mountainous Soviet territory to rescue a scientist building a weapon of terrible power.\\n\\n    Director:\\nHideo Kojima\\n| \\n    Stars:\\nDavid Hayter, \\nSuzetta Miñet, \\nJim Piddock, \\nHeather Halley\\n\\n\\nVotes:\\n10,625\\n\\n',\n",
       "  '\\n\\n18.\\nFainaru fantajî VII\\n(1997 Video Game)\\n\\n\\n\\nAction, Adventure, Drama            \\n\\n\\n\\n\\n9.5\\n\\n\\n\\n\\nRate this\\n\\n\\n\\n\\n\\n\\n\\xa0\\n\\xa0\\n\\n1\\n2\\n3\\n4\\n5\\n6\\n7\\n8\\n9\\n10\\n\\n9.5/10\\nX\\n\\xa0\\n\\n\\n\\n\\nA former soldier from an evil company joins a mercenary clan to fight the company he once served.\\n\\n    Directors:\\nYoshinori Kitase, \\nYasushi Matsumura, \\nMasato Yagi\\n\\n\\nVotes:\\n10,740\\n\\n',\n",
       "  '\\n\\n19.\\nWiedzmin 3: Dziki Gon - Serca z kamienia\\n(2015 Video Game)\\n\\n\\n\\nAction, Adventure, Drama            \\n\\n\\n\\n\\n9.5\\n\\n\\n\\n\\nRate this\\n\\n\\n\\n\\n\\n\\n\\xa0\\n\\xa0\\n\\n1\\n2\\n3\\n4\\n5\\n6\\n7\\n8\\n9\\n10\\n\\n9.5/10\\nX\\n\\xa0\\n\\n\\n\\n\\nGeralt is forced by a seemingly harmless merchant with sinister powers to complete three difficult tasks for a bored immortal, once a troubled nobleman who made a deal with the devil.\\n\\n    Director:\\nKonrad Tomaszkiewicz\\n| \\n    Stars:\\nDoug Cockle, \\nSusannah Fielding, \\nPaul Thornley, \\nAlex Norton\\n\\n\\nVotes:\\n6,941\\n\\n',\n",
       "  '\\n\\n20.\\nFallout 2: A Post-Nuclear Role-Playing Game\\n(1998 Video Game)\\n\\n\\n\\nAction, Adventure, Sci-Fi            \\n\\n\\n\\n\\n9.5\\n\\n\\n\\n\\nRate this\\n\\n\\n\\n\\n\\n\\n\\xa0\\n\\xa0\\n\\n1\\n2\\n3\\n4\\n5\\n6\\n7\\n8\\n9\\n10\\n\\n9.5/10\\nX\\n\\xa0\\n\\n\\n\\n\\nIn a post-nuclear future, the descendant of an ancient exiled hero must leave his tribe in search of the Garden of Eden Creation Kit, the last chance of survival for his people.\\n\\n    Director:\\nFeargus Urquhart\\n| \\n    Stars:\\nCharlie Adler, \\nRon Perlman, \\nDwight Schultz, \\nJason Marsden\\n\\n\\nVotes:\\n3,924\\n\\n',\n",
       "  '\\n\\n21.\\nChrono Trigger\\n(1995 Video Game)\\n\\n\\n\\nAction, Adventure, Fantasy            \\n\\n\\n\\n\\n9.5\\n\\n\\n\\n\\nRate this\\n\\n\\n\\n\\n\\n\\n\\xa0\\n\\xa0\\n\\n1\\n2\\n3\\n4\\n5\\n6\\n7\\n8\\n9\\n10\\n\\n9.5/10\\nX\\n\\xa0\\n\\n\\n\\n\\nCrono, a young boy, is thrust to adventure by destiny to destroy an oncoming threat that will destroy the world in 1999.\\n\\n    Directors:\\nYoshinori Kitase, \\nAkihiko Matsui, \\nTakashi Tokita, \\nNao Ito\\n\\n\\nVotes:\\n3,088\\n\\n',\n",
       "  '\\n\\n22.\\nMetal Gear Solid 3: Subsistence\\n(2005 Video Game)\\n\\n\\n\\nAction, Adventure, Drama            \\n\\n\\n\\n\\n9.5\\n\\n\\n\\n\\nRate this\\n\\n\\n\\n\\n\\n\\n\\xa0\\n\\xa0\\n\\n1\\n2\\n3\\n4\\n5\\n6\\n7\\n8\\n9\\n10\\n\\n9.5/10\\nX\\n\\xa0\\n\\n\\n\\n\\nEnhanced version of Metal Gear Solid 3: Snake Eater (2004) with many added features; such as the free range camera, new camouflage outfits, bonus levels and a theater mode.\\n\\n    Director:\\nHideo Kojima\\n| \\n    Stars:\\nDavid Hayter, \\nSuzetta Miñet, \\nJim Piddock, \\nHeather Halley\\n\\n\\nVotes:\\n2,590\\n\\n',\n",
       "  \"\\n\\n23.\\nElden Ring\\n(2022 Video Game)\\n\\n\\n\\nAction, Adventure, Fantasy            \\n\\n\\n\\n\\n9.4\\n\\n\\n\\n\\nRate this\\n\\n\\n\\n\\n\\n\\n\\xa0\\n\\xa0\\n\\n1\\n2\\n3\\n4\\n5\\n6\\n7\\n8\\n9\\n10\\n\\n9.4/10\\nX\\n\\xa0\\n\\n\\n\\n\\nIn a dark fantasy world created by Hidetaka Miyazaki (Dark Souls) and George R. R. Martin (A Song of Ice and Fire), the player is a Tarnished who is called back to the Lands Between to restore the Elden Ring and become the Elden Lord.\\n\\n    Directors:\\nHidetaka Miyazaki, \\nYui Tanimura\\n| \\n    Stars:\\nMartha Mackintosh, \\nAnthony Howell, \\nCon O'Neill, \\nRamon Tikaram\\n\\n\\nVotes:\\n5,786\\n\\n\",\n",
       "  '\\n\\n24.\\nGrand Theft Auto: San Andreas\\n(2004 Video Game)\\n\\n\\n\\nAction, Crime            \\n\\n\\n\\n\\n9.4\\n\\n\\n\\n\\nRate this\\n\\n\\n\\n\\n\\n\\n\\xa0\\n\\xa0\\n\\n1\\n2\\n3\\n4\\n5\\n6\\n7\\n8\\n9\\n10\\n\\n9.4/10\\nX\\n\\xa0\\n\\n\\n\\n\\nA family tragedy prompts gangster Carl \"CJ\" Johnson to return home, only to find it overrun by crime and corruption, which he must regain control of the streets before it gets even worse.\\n\\n            \\n    Stars:\\nYoung Maylay, \\nFaizon Love, \\nYolanda \\'Yo-Yo\\' Whittaker, \\nClifton Powell\\n\\n\\nVotes:\\n40,645\\n\\n',\n",
       "  '\\n\\n25.\\nThe Elder Scrolls V: Skyrim\\n(2011 Video Game)\\n\\n\\n\\nAction, Adventure, Fantasy            \\n\\n\\n\\n\\n9.4\\n\\n\\n\\n\\nRate this\\n\\n\\n\\n\\n\\n\\n\\xa0\\n\\xa0\\n\\n1\\n2\\n3\\n4\\n5\\n6\\n7\\n8\\n9\\n10\\n\\n9.4/10\\nX\\n\\xa0\\n\\n\\n\\n\\nAfter escaping execution, the last living Dragonborn must grow in strength and power to defeat the dragons that have once again begun to plague the land of Skyrim.\\n\\n    Directors:\\nTodd Howard, \\nNick James Pearce\\n| \\n    Stars:\\nMax von Sydow, \\nChristopher Plummer, \\nJoan Allen, \\nMichael Hogan\\n\\n\\nVotes:\\n30,548\\n\\n',\n",
       "  '\\n\\n26.\\nBatman: Arkham City\\n(2011 Video Game)\\n\\n\\n16\\n|\\n\\nAction, Adventure, Crime            \\n\\n\\n\\n\\n9.4\\n\\n\\n\\n\\nRate this\\n\\n\\n\\n\\n\\n\\n\\xa0\\n\\xa0\\n\\n1\\n2\\n3\\n4\\n5\\n6\\n7\\n8\\n9\\n10\\n\\n9.4/10\\nX\\n\\xa0\\n\\n\\n\\n\\nWhen part of Gotham is turned into a private reserve for criminals known as Arkham City, all hell is sure to break loose, and the Dark Knight is the only one who can stop it.\\n\\n    Director:\\nSefton Hill\\n| \\n    Stars:\\nKevin Conroy, \\nMark Hamill, \\nDavid Kaye, \\nCarlos Alazraqui\\n\\n\\nVotes:\\n31,722\\n\\n',\n",
       "  \"\\n\\n27.\\nUncharted 2: El reino de los ladrones\\n(2009 Video Game)\\n\\n\\n16\\n|\\n\\nAction, Adventure, Fantasy            \\n\\n\\n\\n\\n9.4\\n\\n\\n\\n\\nRate this\\n\\n\\n\\n\\n\\n\\n\\xa0\\n\\xa0\\n\\n1\\n2\\n3\\n4\\n5\\n6\\n7\\n8\\n9\\n10\\n\\n9.4/10\\nX\\n\\xa0\\n\\n\\n\\n\\nAfter being tracked down by Harry Flynn, Nathan Drake goes on a quest for Marco Polo's lost fleet. However when things take an unexpected turn for the worst, Drake must rely on those closest to him in order to find the Cintomani Stone.\\n\\n    Directors:\\nAmy Hennig, \\nBruce Straley\\n| \\n    Stars:\\nNolan North, \\nEmily Rose, \\nClaudia Black, \\nRichard McGonagle\\n\\n\\nVotes:\\n25,809\\n\\n\",\n",
       "  '\\n\\n28.\\nThe Legend of Zelda: Breath of the Wild\\n(2017 Video Game)\\n\\n\\n12\\n|\\n\\nAction, Adventure, Fantasy            \\n\\n\\n\\n\\n9.4\\n\\n\\n\\n\\nRate this\\n\\n\\n\\n\\n\\n\\n\\xa0\\n\\xa0\\n\\n1\\n2\\n3\\n4\\n5\\n6\\n7\\n8\\n9\\n10\\n\\n9.4/10\\nX\\n\\xa0\\n\\n\\n\\n\\nAfter a century of hibernation, Link reawakens to once again save a ruined Hyrule from a great evil.\\n\\n    Directors:\\nHidemaro Fujibayashi, \\nHiroki Hirano, \\nKentaro Tominaga\\n| \\n    Stars:\\nKengo Takanashi, \\nYû Shimamura, \\nKôji Takeda, \\nNoboru Yamaguchi\\n\\n\\nVotes:\\n7,761\\n\\n',\n",
       "  '\\n\\n29.\\nPortal 2\\n(2011 Video Game)\\n\\n\\n12\\n|\\n\\nAdventure, Comedy, Sci-Fi            \\n\\n\\n\\n\\n9.4\\n\\n\\n\\n\\nRate this\\n\\n\\n\\n\\n\\n\\n\\xa0\\n\\xa0\\n\\n1\\n2\\n3\\n4\\n5\\n6\\n7\\n8\\n9\\n10\\n\\n9.4/10\\nX\\n\\xa0\\n\\n\\n\\n\\nMany years after \"Portal,\" Chell reawakens at Aperture Science and tries to stop GLaDOS once again with the help of Wheatley, who has his own plans for the historical facility.\\n\\n            \\n    Stars:\\nEllen McLain, \\nStephen Merchant, \\nJ.K. Simmons, \\nJoe Micheals\\n\\n\\nVotes:\\n16,083\\n\\n',\n",
       "  '\\n\\n30.\\nHalf-Life 2\\n(2004 Video Game)\\n\\n\\n\\nAction, Adventure, Sci-Fi            \\n\\n\\n\\n\\n9.4\\n\\n\\n\\n\\nRate this\\n\\n\\n\\n\\n\\n\\n\\xa0\\n\\xa0\\n\\n1\\n2\\n3\\n4\\n5\\n6\\n7\\n8\\n9\\n10\\n\\n9.4/10\\nX\\n\\xa0\\n\\n\\n\\n\\nDr. Freeman is taken out of stasis by his \"employer\" to help rid the planet of invading aliens forces known as the Combine that entered through the portals he helped create.\\n\\n    Director:\\nDavid Speyrer\\n| \\n    Stars:\\nRobert Guillaume, \\nRobert Culp, \\nLouis Gossett Jr., \\nMichelle Forbes\\n\\n\\nVotes:\\n16,412\\n\\n',\n",
       "  \"\\n\\n31.\\nHalf-Life: Alyx\\n(2020 Video Game)\\n\\n\\n\\nAction, Adventure, Horror            \\n\\n\\n\\n\\n9.4\\n\\n\\n\\n\\nRate this\\n\\n\\n\\n\\n\\n\\n\\xa0\\n\\xa0\\n\\n1\\n2\\n3\\n4\\n5\\n6\\n7\\n8\\n9\\n10\\n\\n9.4/10\\nX\\n\\xa0\\n\\n\\n\\n\\nA VR game of an impossible fight against a vicious alien race known as the Combine, set between the events of Half-Life and Half-Life 2. Play as Alyx Vance, humanity's only chance for survival.\\n\\n            \\n    Stars:\\nOzioma Akagha, \\nJames Moses Black, \\nRhys Darby, \\nTony Todd\\n\\n\\nVotes:\\n798\\n\\n\",\n",
       "  '\\n\\n32.\\nSilent Hill 2\\n(2001 Video Game)\\n\\n\\n\\nDrama, Horror, Mystery            \\n\\n\\n\\n\\n9.4\\n\\n\\n\\n\\nRate this\\n\\n\\n\\n\\n\\n\\n\\xa0\\n\\xa0\\n\\n1\\n2\\n3\\n4\\n5\\n6\\n7\\n8\\n9\\n10\\n\\n9.4/10\\nX\\n\\xa0\\n\\n\\n\\n\\nAfter receiving a letter from his late wife, from Silent Hill, James Sunderland makes his way to the town in an attempt to find her.\\n\\n    Directors:\\nTakayuki Kobayashi, \\nMasashi Tsuboyama\\n| \\n    Stars:\\nGuy Cihi, \\nMonica Horgan, \\nDonna Burke, \\nDavid Schaufele\\n\\n\\nVotes:\\n6,862\\n\\n',\n",
       "  '\\n\\n33.\\nMetal Gear Solid 4: Guns of the Patriots\\n(2008 Video Game)\\n\\n\\n18\\n|\\n\\nAction, Adventure, Drama            \\n\\n\\n\\n\\n9.4\\n\\n\\n\\n\\nRate this\\n\\n\\n\\n\\n\\n\\n\\xa0\\n\\xa0\\n\\n1\\n2\\n3\\n4\\n5\\n6\\n7\\n8\\n9\\n10\\n\\n9.4/10\\nX\\n\\xa0\\n\\n\\n\\n\\nWhen the nations of the world rely upon private military companies to fight their battles for them, renegade Liquid Ocelot emerges as the head of a potent coalition of mercenary powers. Solid Snake returns to save the world once again.\\n\\n    Director:\\nHideo Kojima\\n| \\n    Stars:\\nDavid Hayter, \\nJosh Keaton, \\nPeter Lurie, \\nPaul Eiding\\n\\n\\nVotes:\\n10,752\\n\\n',\n",
       "  \"\\n\\n34.\\nUncharted: The Nathan Drake Collection\\n(2015 Video Game)\\n\\n\\n\\nAction, Adventure, Fantasy            \\n\\n\\n\\n\\n9.4\\n\\n\\n\\n\\nRate this\\n\\n\\n\\n\\n\\n\\n\\xa0\\n\\xa0\\n\\n1\\n2\\n3\\n4\\n5\\n6\\n7\\n8\\n9\\n10\\n\\n9.4/10\\nX\\n\\xa0\\n\\n\\n\\n\\nA remastered collection of Uncharted: El Tesoro de Drake (2007), Uncharted 2: El reino de los ladrones (2009), and Uncharted 3: Drake's Deception (2011) for PlayStation 4.\\n\\n    Director:\\nAmy Hennig\\n| \\n    Stars:\\nNolan North, \\nEmily Rose, \\nRichard McGonagle, \\nClaudia Black\\n\\n\\nVotes:\\n5,640\\n\\n\",\n",
       "  \"\\n\\n35.\\nForgotten Realms: Baldur's Gate II - Shadows of Amn\\n(2000 Video Game)\\n\\n\\n\\nAction, Adventure, Fantasy            \\n\\n\\n\\n\\n9.4\\n\\n\\n\\n\\nRate this\\n\\n\\n\\n\\n\\n\\n\\xa0\\n\\xa0\\n\\n1\\n2\\n3\\n4\\n5\\n6\\n7\\n8\\n9\\n10\\n\\n9.4/10\\nX\\n\\xa0\\n\\n\\n\\n\\nJon Irenicus, a sadistic secretive powerful mage bent on revenge, captures Gorion's ward and his/her party for a diabolical experiment.\\n\\n    Director:\\nFeargus Urquhart\\n| \\n    Stars:\\nDavid Warner, \\nCharlie Adler, \\nDee Bradley Baker, \\nMichael Bell\\n\\n\\nVotes:\\n2,124\\n\\n\",\n",
       "  \"\\n\\n36.\\nBloodborne: The Old Hunters\\n(2015 Video Game)\\n\\n\\n\\nAction, Adventure, Fantasy            \\n\\n\\n\\n\\n9.4\\n\\n\\n\\n\\nRate this\\n\\n\\n\\n\\n\\n\\n\\xa0\\n\\xa0\\n\\n1\\n2\\n3\\n4\\n5\\n6\\n7\\n8\\n9\\n10\\n\\n9.4/10\\nX\\n\\xa0\\n\\n\\n\\n\\nIn this DLC for Bloodborne, the player-Hunter is transported to the sinister Hunter's Nightmare, a demented place where hunters who become drunk with blood are sent to.\\n\\n    Director:\\nHidetaka Miyazaki\\n| \\n    Stars:\\nEvetta Muradasilova, \\nDes McAleer, \\nGrant Gillespie, \\nLotte Rice\\n\\n\\nVotes:\\n1,660\\n\\n\",\n",
       "  '\\n\\n37.\\nBatman: Arkham Collection\\n(2018 Video Game)\\n\\n\\n\\nAdventure            \\n\\n\\n\\n\\n9.4\\n\\n\\n\\n\\nRate this\\n\\n\\n\\n\\n\\n\\n\\xa0\\n\\xa0\\n\\n1\\n2\\n3\\n4\\n5\\n6\\n7\\n8\\n9\\n10\\n\\n9.4/10\\nX\\n\\xa0\\n\\n\\n\\n\\nThis contains all previous Arkham games apart from Batman Arkham origins and Batman Arkham origins blackgate\\n\\n    Director:\\nSefton Hill\\n\\n\\nVotes:\\n369\\n\\n',\n",
       "  \"\\n\\n38.\\nPlanescape: Torment\\n(1999 Video Game)\\n\\n\\n\\nAdventure, Drama, Fantasy            \\n\\n\\n\\n\\n9.4\\n\\n\\n\\n\\nRate this\\n\\n\\n\\n\\n\\n\\n\\xa0\\n\\xa0\\n\\n1\\n2\\n3\\n4\\n5\\n6\\n7\\n8\\n9\\n10\\n\\n9.4/10\\nX\\n\\xa0\\n\\n\\n\\n\\nIn the city of Sigil, the only place from which all realities of the Planescape universe can be reached, an immortal amnesiac, the Nameless One, must uncover his past, the mystery of his immortality as well as who's trying to kill him.\\n\\n            \\n    Stars:\\nMichael T. Weiss, \\nRob Paulsen, \\nJennifer Hale, \\nSheena Easton\\n\\n\\nVotes:\\n2,060\\n\\n\",\n",
       "  '\\n\\n39.\\nPersona 5\\n(2016 Video Game)\\n\\n\\n\\nAction, Adventure, Comedy            \\n\\n\\n\\n\\n9.3\\n\\n\\n\\n\\nRate this\\n\\n\\n\\n\\n\\n\\n\\xa0\\n\\xa0\\n\\n1\\n2\\n3\\n4\\n5\\n6\\n7\\n8\\n9\\n10\\n\\n9.3/10\\nX\\n\\xa0\\n\\n\\n\\n\\nA group of high school students create a vigilante group to expose the crimes of corrupt adults but soon find themselves in the midst of a worldwide conspiracy and targeted by powerful individuals who would do anything to silence them.\\n\\n    Director:\\nKatsura Hashino\\n| \\n    Stars:\\nJun Fukuyama, \\nMamoru Miyano, \\nNana Mizuki, \\nIkue Ôtani\\n\\n\\nVotes:\\n2,864\\n\\n',\n",
       "  '\\n\\n40.\\nBloodborne\\n(2015 Video Game)\\n\\n\\n16\\n|\\n\\nAction, Adventure, Fantasy            \\n\\n\\n\\n\\n9.3\\n\\n\\n\\n\\nRate this\\n\\n\\n\\n\\n\\n\\n\\xa0\\n\\xa0\\n\\n1\\n2\\n3\\n4\\n5\\n6\\n7\\n8\\n9\\n10\\n\\n9.3/10\\nX\\n\\xa0\\n\\n\\n\\n\\nA hunter awakens in the plagued lands of Yharnam, where the denizens have succumb to beast hood, in an attempt to learn the truth and how to end the plague, unbeknownst of the true horror lurking within the city.\\n\\n    Director:\\nHidetaka Miyazaki\\n| \\n    Stars:\\nDaniel Fine, \\nJoe Sims, \\nWilliam Vanderpuye, \\nAndrew Tiernan\\n\\n\\nVotes:\\n5,937\\n\\n',\n",
       "  '\\n\\n41.\\nP.T.\\n(2014 Video Game)\\n\\n\\n\\nHorror, Mystery            \\n\\n\\n\\n\\n9.3\\n\\n\\n\\n\\nRate this\\n\\n\\n\\n\\n\\n\\n\\xa0\\n\\xa0\\n\\n1\\n2\\n3\\n4\\n5\\n6\\n7\\n8\\n9\\n10\\n\\n9.3/10\\nX\\n\\xa0\\n\\n\\n\\n\\nThe player must navigate a series of continuously looping hallways, solving cryptic puzzles, all while being hunted by a hostile apparition named Lisa.\\n\\n    Directors:\\nGuillermo del Toro, \\nHideo Kojima\\n| \\n    Star:\\nNorman Reedus\\n\\n\\nVotes:\\n1,924\\n\\n',\n",
       "  '\\n\\n42.\\nKingdom Hearts II\\n(2005 Video Game)\\n\\n\\n12\\n|\\n\\nAction, Adventure, Family            \\n\\n\\n\\n\\n9.3\\n\\n\\n\\n\\nRate this\\n\\n\\n\\n\\n\\n\\n\\xa0\\n\\xa0\\n\\n1\\n2\\n3\\n4\\n5\\n6\\n7\\n8\\n9\\n10\\n\\n9.3/10\\nX\\n\\xa0\\n\\n\\n\\n\\nSora and friends face mysterious new enemies as they continue their journey to save all worlds, and find Riku and King Mickey.\\n\\n    Director:\\nTetsuya Nomura\\n| \\n    Stars:\\nHaley Joel Osment, \\nDavid Gallagher, \\nHayden Panettiere, \\nJesse McCartney\\n\\n\\nVotes:\\n7,257\\n\\n',\n",
       "  '\\n\\n43.\\nUncharted: Legacy of Thieves Collection\\n(2022 Video Game)\\n\\n\\n\\nAction, Adventure, Drama            \\n\\n\\n\\n\\n9.3\\n\\n\\n\\n\\nRate this\\n\\n\\n\\n\\n\\n\\n\\xa0\\n\\xa0\\n\\n1\\n2\\n3\\n4\\n5\\n6\\n7\\n8\\n9\\n10\\n\\n9.3/10\\nX\\n\\xa0\\n\\n\\n\\n\\nNathan Drake and Chloe Frazer are forced to confront their pasts and forge their own legacies.\\n\\n    Directors:\\nNeil Druckmann, \\nKurt Margenau, \\nBruce Straley\\n| \\n    Stars:\\nNolan North, \\nTroy Baker, \\nRichard McGonagle, \\nEmily Rose\\n\\n\\nVotes:\\n414\\n\\n',\n",
       "  '\\n\\n44.\\nWanda to kyozô\\n(2005 Video Game)\\n\\n\\n\\nAction, Adventure, Drama            \\n\\n\\n\\n\\n9.3\\n\\n\\n\\n\\nRate this\\n\\n\\n\\n\\n\\n\\n\\xa0\\n\\xa0\\n\\n1\\n2\\n3\\n4\\n5\\n6\\n7\\n8\\n9\\n10\\n\\n9.3/10\\nX\\n\\xa0\\n\\n\\n\\n\\nA young man brings a deceased woman to a forbidden land inhabited by colossal beings said to house the power to revive the dead.\\n\\n    Director:\\nFumito Ueda\\n| \\n    Stars:\\nKenji Nojima, \\nKazuhiro Nakata, \\nKyôko Hikami, \\nNaoki Bando\\n\\n\\nVotes:\\n4,175\\n\\n',\n",
       "  \"\\n\\n45.\\nDisco Elysium - The Final Cut\\n(2021 Video Game)\\n\\n\\n\\nComedy, Crime, Drama            \\n\\n\\n\\n\\n9.3\\n\\n\\n\\n\\nRate this\\n\\n\\n\\n\\n\\n\\n\\xa0\\n\\xa0\\n\\n1\\n2\\n3\\n4\\n5\\n6\\n7\\n8\\n9\\n10\\n\\n9.3/10\\nX\\n\\xa0\\n\\n\\n\\n\\nYou're a detective with a unique skill system at your disposal and a whole city to carve your path across. Interrogate unforgettable characters, crack murders or take bribes. Become a hero or an absolute disaster of a human being.\\n\\n            \\n    Stars:\\nLenval Brown, \\nMikee W. Goodman, \\nJullian Champenois, \\nTegen Hitchens\\n\\n\\nVotes:\\n458\\n\\n\",\n",
       "  '\\n\\n46.\\nThe Secret of Monkey Island\\n(1990 Video Game)\\n\\n\\n\\nAdventure, Comedy, Fantasy            \\n\\n\\n\\n\\n9.3\\n\\n\\n\\n\\nRate this\\n\\n\\n\\n\\n\\n\\n\\xa0\\n\\xa0\\n\\n1\\n2\\n3\\n4\\n5\\n6\\n7\\n8\\n9\\n10\\n\\n9.3/10\\nX\\n\\xa0\\n\\n\\n\\n\\nYoung pirate wanna-be Guybrush Threepwood sets out to pass the Three Trials, woo the governess Elaine Marley, reach the fabled Monkey Island and vanquish the nefarious ghost pirate LeChuck.\\n\\n    Directors:\\nRon Gilbert, \\nHal Barwood\\n| \\n    Stars:\\nDominic Armato, \\nEarl Boen, \\nAlexandra Boyd, \\nLeilani Jones\\n\\n\\nVotes:\\n3,171\\n\\n',\n",
       "  '\\n\\n47.\\nThe Legend of Zelda: A Link to the Past\\n(1991 Video Game)\\n\\n\\n7\\n|\\n\\nAction, Adventure, Fantasy            \\n\\n\\n\\n\\n9.3\\n\\n\\n\\n\\nRate this\\n\\n\\n\\n\\n\\n\\n\\xa0\\n\\xa0\\n\\n1\\n2\\n3\\n4\\n5\\n6\\n7\\n8\\n9\\n10\\n\\n9.3/10\\nX\\n\\xa0\\n\\n\\n\\n\\nThe wizard Agahnim has abducted seven maidens, intent on using their power to open a portal to the Dark World. Armed with a trusty sword and shield, Link begins a great and treacherous journey.\\n\\n    Directors:\\nTakashi Tezuka, \\nHidemaro Fujibayashi\\n| \\n    Star:\\nFujiko Takimoto\\n\\n\\nVotes:\\n3,486\\n\\n',\n",
       "  '\\n\\n48.\\nKingdom Hearts II: Final Mix+\\n(2007 Video Game)\\n\\n\\n\\nAction, Adventure, Family            \\n\\n\\n\\n\\n9.3\\n\\n\\n\\n\\nRate this\\n\\n\\n\\n\\n\\n\\n\\xa0\\n\\xa0\\n\\n1\\n2\\n3\\n4\\n5\\n6\\n7\\n8\\n9\\n10\\n\\n9.3/10\\nX\\n\\xa0\\n\\n\\n\\n\\nSora and friends must set out on another adventure to find his long lost friends and stop Organization XIII.\\n\\n    Director:\\nTetsuya Nomura\\n| \\n    Stars:\\nHaley Joel Osment, \\nDavid Gallagher, \\nHayden Panettiere, \\nJesse McCartney\\n\\n\\nVotes:\\n1,303\\n\\n',\n",
       "  '\\n\\n49.\\nBurnhouse Lane\\n(2022 Video Game)\\n\\n\\n\\nDrama, Horror, Mystery            \\n\\n\\n\\n\\n9.3\\n\\n\\n\\n\\nRate this\\n\\n\\n\\n\\n\\n\\n\\xa0\\n\\xa0\\n\\n1\\n2\\n3\\n4\\n5\\n6\\n7\\n8\\n9\\n10\\n\\n9.3/10\\nX\\n\\xa0\\n\\n\\n\\n\\nStory about death, friendship and everlasting hope that no matter how bad things get there is always a reason to go on.\\n\\n    Director:\\nRemigiusz Michalski\\n| \\n    Stars:\\nElizabeth Nightingale, \\nMadison Mitts, \\nDavey Cadaver, \\nJonathan Cox\\n\\n\\nVotes:\\n15\\n\\n',\n",
       "  \"\\n\\n50.\\nKingdom Hearts HD 2.5 Remix\\n(2014 Video Game)\\n\\n\\n\\nAction, Adventure, Family            \\n\\n\\n\\n\\n9.3\\n\\n\\n\\n\\nRate this\\n\\n\\n\\n\\n\\n\\n\\xa0\\n\\xa0\\n\\n1\\n2\\n3\\n4\\n5\\n6\\n7\\n8\\n9\\n10\\n\\n9.3/10\\nX\\n\\xa0\\n\\n\\n\\n\\nAfter the events of Kingdom Hearts HD 1.5 Remix (2013), a boy named Roxas wakes up in Twilight Town trying to make it through his last days of summer vacation when he finds out that his dreams are actually Sora's memories and he must return them to him.\\n\\n    Directors:\\nTetsuya Nomura, \\nTai Yasue\\n| \\n    Stars:\\nHaley Joel Osment, \\nDavid Gallagher, \\nHayden Panettiere, \\nJesse McCartney\\n\\n\\nVotes:\\n877\\n\\n\",\n",
       "  '\\n\\n1.\\nThe Last of Us: Part I\\n(2022 Video Game)\\n\\n\\n\\nAction, Adventure, Drama            \\n\\n\\n\\n\\n9.8\\n\\n\\n\\n\\nRate this\\n\\n\\n\\n\\n\\n\\n\\xa0\\n\\xa0\\n\\n1\\n2\\n3\\n4\\n5\\n6\\n7\\n8\\n9\\n10\\n\\n9.8/10\\nX\\n\\xa0\\n\\n\\n\\n\\nExperience the emotional storytelling and unforgettable characters in The Last of Us, winner of over 200 Game of the Year awards, now rebuilt from the ground up for the PlayStation 5 console.\\n\\n    Directors:\\nMatthew Gallant, \\nBruce Straley\\n| \\n    Stars:\\nAshley Johnson, \\nTroy Baker, \\nHana Hayes, \\nJeffrey Pierce\\n\\n\\nVotes:\\n1,741\\n\\n',\n",
       "  \"\\n\\n2.\\nWiedzmin 3: Dziki Gon Krew i wino\\n(2016 Video Game)\\n\\n\\n\\nAction, Adventure, Drama            \\n\\n\\n\\n\\n9.8\\n\\n\\n\\n\\nRate this\\n\\n\\n\\n\\n\\n\\n\\xa0\\n\\xa0\\n\\n1\\n2\\n3\\n4\\n5\\n6\\n7\\n8\\n9\\n10\\n\\n9.8/10\\nX\\n\\xa0\\n\\n\\n\\n\\nGeralt is in the southern province of Toussaint where a monstrous serial killer is targeting knights with a dark past. Geralt and his old vampire friend investigate the killer's motives.\\n\\n    Director:\\nKonrad Tomaszkiewicz\\n| \\n    Stars:\\nDoug Cockle, \\nMyAnna Buring, \\nAntonia Bernath, \\nMark Noble\\n\\n\\nVotes:\\n8,336\\n\\n\",\n",
       "  '\\n\\n3.\\nGod of War: Ragnarök\\n(2022 Video Game)\\n\\n\\n\\nAction, Adventure, Drama            \\n\\n\\n\\n\\n9.7\\n\\n\\n\\n\\nRate this\\n\\n\\n\\n\\n\\n\\n\\xa0\\n\\xa0\\n\\n1\\n2\\n3\\n4\\n5\\n6\\n7\\n8\\n9\\n10\\n\\n9.7/10\\nX\\n\\xa0\\n\\n\\n\\n\\nKratos and his son Atreus face the oncoming Norse apocalypse, Ragnarok.\\n\\n    Director:\\nEric Williams\\n| \\n    Stars:\\nChristopher Judge, \\nSunny Suljic, \\nDanielle Bisutti, \\nRobert Craighead\\n\\n\\nVotes:\\n9,111\\n\\n',\n",
       "  '\\n\\n4.\\nThe Last of Us\\n(2013 Video Game)\\n\\n\\n\\nAction, Adventure, Drama            \\n\\n\\n\\n\\n9.7\\n\\n\\n\\n\\nRate this\\n\\n\\n\\n\\n\\n\\n\\xa0\\n\\xa0\\n\\n1\\n2\\n3\\n4\\n5\\n6\\n7\\n8\\n9\\n10\\n\\n9.7/10\\nX\\n\\xa0\\n\\n\\n\\n\\nIn a hostile, post-pandemic world, Joel and Ellie, brought together by desperate circumstances, must rely on each other to survive a brutal journey across what remains of the United States.\\n\\n    Directors:\\nNeil Druckmann, \\nBruce Straley\\n| \\n    Stars:\\nTroy Baker, \\nAshley Johnson, \\nHana Hayes, \\nJeffrey Pierce\\n\\n\\nVotes:\\n63,796\\n\\n',\n",
       "  '\\n\\n5.\\nRed Dead Redemption II\\n(2018 Video Game)\\n\\n\\n\\nAction, Adventure, Crime            \\n\\n\\n\\n\\n9.7\\n\\n\\n\\n\\nRate this\\n\\n\\n\\n\\n\\n\\n\\xa0\\n\\xa0\\n\\n1\\n2\\n3\\n4\\n5\\n6\\n7\\n8\\n9\\n10\\n\\n9.7/10\\nX\\n\\xa0\\n\\n\\n\\n\\nAmidst the decline of the Wild West at the turn of the 20th century, outlaw Arthur Morgan and his gang struggle to cope with the loss of their way of life.\\n\\n            \\n    Stars:\\nBenjamin Byron Davis, \\nRoger Clark, \\nRob Wiethoff, \\nCali Elizabeth Moore\\n\\n\\nVotes:\\n39,913\\n\\n',\n",
       "  '\\n\\n6.\\nWiedzmin 3: Dziki Gon\\n(2015 Video Game)\\n\\n\\n18\\n|\\n\\nAction, Adventure, Drama            \\n\\n\\n\\n\\n9.7\\n\\n\\n\\n\\nRate this\\n\\n\\n\\n\\n\\n\\n\\xa0\\n\\xa0\\n\\n1\\n2\\n3\\n4\\n5\\n6\\n7\\n8\\n9\\n10\\n\\n9.7/10\\nX\\n\\xa0\\n\\n\\n\\n\\nA monster hunter for hire embarks on an epic journey to find his former apprentice before The Wild Hunt can capture her and bring about the destruction of the world.\\n\\n    Director:\\nKonrad Tomaszkiewicz\\n| \\n    Stars:\\nDoug Cockle, \\nDenise Gough, \\nJo Wyatt, \\nJaimi Barbakoff\\n\\n\\nVotes:\\n28,021\\n\\n',\n",
       "  '\\n\\n7.\\nGod of War\\n(2018 Video Game)\\n\\n\\n18\\n|\\n\\nAction, Adventure, Drama            \\n\\n\\n\\n\\n9.6\\n\\n\\n\\n\\nRate this\\n\\n\\n\\n\\n\\n\\n\\xa0\\n\\xa0\\n\\n1\\n2\\n3\\n4\\n5\\n6\\n7\\n8\\n9\\n10\\n\\n9.6/10\\nX\\n\\xa0\\n\\n\\n\\n\\nAfter wiping out the gods of Mount Olympus, Kratos moves on to the frigid lands of Scandinavia, where he and his son must embark on an odyssey across a dangerous world of gods and monsters.\\n\\n    Director:\\nCory Barlog\\n| \\n    Stars:\\nChristopher Judge, \\nSunny Suljic, \\nJeremy Davies, \\nDanielle Bisutti\\n\\n\\nVotes:\\n30,244\\n\\n',\n",
       "  '\\n\\n8.\\nMass Effect: Legendary Edition\\n(2021 Video Game)\\n\\n\\n\\nAction, Adventure, Drama            \\n\\n\\n\\n\\n9.6\\n\\n\\n\\n\\nRate this\\n\\n\\n\\n\\n\\n\\n\\xa0\\n\\xa0\\n\\n1\\n2\\n3\\n4\\n5\\n6\\n7\\n8\\n9\\n10\\n\\n9.6/10\\nX\\n\\xa0\\n\\n\\n\\n\\nA compilation of the first three Mass Effect games.\\n\\n    Directors:\\nCasey Hudson, \\nMac Walters\\n| \\n    Stars:\\nSteven Barr, \\nKimberly Brooks, \\nKeith David, \\nSeth Green\\n\\n\\nVotes:\\n1,973\\n\\n',\n",
       "  \"\\n\\n9.\\nMetal Gear Solid\\n(1998 Video Game)\\n\\n\\n\\nAction, Adventure, Drama            \\n\\n\\n\\n\\n9.6\\n\\n\\n\\n\\nRate this\\n\\n\\n\\n\\n\\n\\n\\xa0\\n\\xa0\\n\\n1\\n2\\n3\\n4\\n5\\n6\\n7\\n8\\n9\\n10\\n\\n9.6/10\\nX\\n\\xa0\\n\\n\\n\\n\\nA crack government anti-terrorist squad takes over an obscure Alaskan nuclear disposal facility. Solid Snake is up for the task to infiltrate the facility, rescue the two hostages and thwart the terrorists' plans.\\n\\n    Director:\\nHideo Kojima\\n| \\n    Stars:\\nDavid Hayter, \\nPatric Zimmerman, \\nPeter Lurie, \\nAkio Ôtsuka\\n\\n\\nVotes:\\n11,982\\n\\n\",\n",
       "  '\\n\\n10.\\nThe Legend of Zelda: Ocarina of Time\\n(1998 Video Game)\\n\\n\\n7\\n|\\n\\nAction, Adventure, Fantasy            \\n\\n\\n\\n\\n9.6\\n\\n\\n\\n\\nRate this\\n\\n\\n\\n\\n\\n\\n\\xa0\\n\\xa0\\n\\n1\\n2\\n3\\n4\\n5\\n6\\n7\\n8\\n9\\n10\\n\\n9.6/10\\nX\\n\\xa0\\n\\n\\n\\n\\nA young Kokiri boy discovers that his destiny is to free the Seven Sages and save the land of Hyrule from the treacherous sorcerer Ganondorf.\\n\\n    Directors:\\nEiji Aonuma, \\nYoichi Yamada, \\nYoshiaki Koizumi, \\nShigeru Miyamoto, \\nTôru Ôsawa\\n| \\n    Stars:\\nNobuyuki Hiyama, \\nFujiko Takimoto, \\nJun Mizusawa, \\nTakashi Nagasako\\n\\n\\nVotes:\\n9,792\\n\\n',\n",
       "  \"\\n\\n11.\\nGrand Theft Auto V\\n(2013 Video Game)\\n\\n\\n18\\n|\\n\\nAction, Comedy, Crime            \\n\\n\\n\\n\\n9.5\\n\\n\\n\\n\\nRate this\\n\\n\\n\\n\\n\\n\\n\\xa0\\n\\xa0\\n\\n1\\n2\\n3\\n4\\n5\\n6\\n7\\n8\\n9\\n10\\n\\n9.5/10\\nX\\n\\xa0\\n\\n\\n\\n\\nThree very different criminals team up for a series of heists and walk into some of the most thrilling experiences in the corrupt city of Los Santos.\\n\\n            \\n    Stars:\\nShawn Fonteno, \\nNed Luke, \\nSteven Ogg, \\nGerald 'Slink' Johnson\\n\\n\\nVotes:\\n62,600\\n\\n\",\n",
       "  \"\\n\\n12.\\nUncharted 4: A Thief's End\\n(2016 Video Game)\\n\\n\\n\\nAction, Adventure, Drama            \\n\\n\\n\\n\\n9.5\\n\\n\\n\\n\\nRate this\\n\\n\\n\\n\\n\\n\\n\\xa0\\n\\xa0\\n\\n1\\n2\\n3\\n4\\n5\\n6\\n7\\n8\\n9\\n10\\n\\n9.5/10\\nX\\n\\xa0\\n\\n\\n\\n\\nThrown back into the dangerous underworld he'd tried to leave behind, Nathan Drake must decide what he's willing to sacrifice to save the ones he loves.\\n\\n    Directors:\\nNeil Druckmann, \\nBruce Straley\\n| \\n    Stars:\\nNolan North, \\nTroy Baker, \\nRichard McGonagle, \\nEmily Rose\\n\\n\\nVotes:\\n30,436\\n\\n\",\n",
       "  '\\n\\n13.\\nMass Effect 2\\n(2010 Video Game)\\n\\n\\n18\\n|\\n\\nAction, Adventure, Drama            \\n\\n\\n\\n\\n9.5\\n\\n\\n\\n\\nRate this\\n\\n\\n\\n\\n\\n\\n\\xa0\\n\\xa0\\n\\n1\\n2\\n3\\n4\\n5\\n6\\n7\\n8\\n9\\n10\\n\\n9.5/10\\nX\\n\\xa0\\n\\n\\n\\n\\nAfter being revived from death and having to join a pro-human organization without a choice, Commander Shepard must assemble a team, battle a new threat, and make tough choices in order to save the galaxy from total annihilation once more.\\n\\n    Director:\\nCasey Hudson\\n| \\n    Stars:\\nShohreh Aghdashloo, \\nMaggie Baird, \\nAdam Baldwin, \\nMichael Beattie\\n\\n\\nVotes:\\n20,272\\n\\n',\n",
       "  '\\n\\n14.\\nRed Dead Redemption\\n(2010 Video Game)\\n\\n\\n18\\n|\\n\\nAction, Adventure, Crime            \\n\\n\\n\\n\\n9.5\\n\\n\\n\\n\\nRate this\\n\\n\\n\\n\\n\\n\\n\\xa0\\n\\xa0\\n\\n1\\n2\\n3\\n4\\n5\\n6\\n7\\n8\\n9\\n10\\n\\n9.5/10\\nX\\n\\xa0\\n\\n\\n\\n\\nA former outlaw is forced by the federal government to hunt down the members of his old gang.\\n\\n            \\n    Stars:\\nRob Wiethoff, \\nJosh Blaylock, \\nSophia Marzocchi, \\nSpider Madison\\n\\n\\nVotes:\\n27,382\\n\\n',\n",
       "  '\\n\\n15.\\nPerusona 5: Za roiyaru\\n(2019 Video Game)\\n\\n\\n\\nAction, Adventure, Comedy            \\n\\n\\n\\n\\n9.5\\n\\n\\n\\n\\nRate this\\n\\n\\n\\n\\n\\n\\n\\xa0\\n\\xa0\\n\\n1\\n2\\n3\\n4\\n5\\n6\\n7\\n8\\n9\\n10\\n\\n9.5/10\\nX\\n\\xa0\\n\\n\\n\\n\\nA group of high school students create a vigilante group to expose the crimes of corrupt adults but soon find themselves in the midst of a worldwide conspiracy and targeted by powerful individuals who would do anything to silence them.\\n\\n    Director:\\nDaiki Itô\\n| \\n    Stars:\\nJun Fukuyama, \\nIkue Ôtani, \\nMamoru Miyano, \\nNana Mizuki\\n\\n\\nVotes:\\n1,502\\n\\n',\n",
       "  '\\n\\n16.\\nStar Wars: Knights of the Old Republic\\n(2003 Video Game)\\n\\n\\n\\nAction, Adventure, Fantasy            \\n\\n\\n\\n\\n9.5\\n\\n\\n\\n\\nRate this\\n\\n\\n\\n\\n\\n\\n\\xa0\\n\\xa0\\n\\n1\\n2\\n3\\n4\\n5\\n6\\n7\\n8\\n9\\n10\\n\\n9.5/10\\nX\\n\\xa0\\n\\n\\n\\n\\nA republic soldier, training to become a Jedi Knight, is given the task of halting the conquest of Darth Malak by discovering the location of a weapon known as the Star Forge.\\n\\n    Director:\\nCasey Hudson\\n| \\n    Stars:\\nJennifer Hale, \\nRaphael Sbarge, \\nRafael Ferrer, \\nJohn Cygan\\n\\n\\nVotes:\\n8,754\\n\\n',\n",
       "  '\\n\\n17.\\nMetal Gear Solid 3: Snake Eater\\n(2004 Video Game)\\n\\n\\n\\nAction, Adventure, Drama            \\n\\n\\n\\n\\n9.5\\n\\n\\n\\n\\nRate this\\n\\n\\n\\n\\n\\n\\n\\xa0\\n\\xa0\\n\\n1\\n2\\n3\\n4\\n5\\n6\\n7\\n8\\n9\\n10\\n\\n9.5/10\\nX\\n\\xa0\\n\\n\\n\\n\\nIn 1964, a U.S. government operative codenamed \"Snake\" must infiltrate mountainous Soviet territory to rescue a scientist building a weapon of terrible power.\\n\\n    Director:\\nHideo Kojima\\n| \\n    Stars:\\nDavid Hayter, \\nSuzetta Miñet, \\nJim Piddock, \\nHeather Halley\\n\\n\\nVotes:\\n10,625\\n\\n',\n",
       "  '\\n\\n18.\\nFainaru fantajî VII\\n(1997 Video Game)\\n\\n\\n\\nAction, Adventure, Drama            \\n\\n\\n\\n\\n9.5\\n\\n\\n\\n\\nRate this\\n\\n\\n\\n\\n\\n\\n\\xa0\\n\\xa0\\n\\n1\\n2\\n3\\n4\\n5\\n6\\n7\\n8\\n9\\n10\\n\\n9.5/10\\nX\\n\\xa0\\n\\n\\n\\n\\nA former soldier from an evil company joins a mercenary clan to fight the company he once served.\\n\\n    Directors:\\nYoshinori Kitase, \\nYasushi Matsumura, \\nMasato Yagi\\n\\n\\nVotes:\\n10,740\\n\\n',\n",
       "  '\\n\\n19.\\nWiedzmin 3: Dziki Gon - Serca z kamienia\\n(2015 Video Game)\\n\\n\\n\\nAction, Adventure, Drama            \\n\\n\\n\\n\\n9.5\\n\\n\\n\\n\\nRate this\\n\\n\\n\\n\\n\\n\\n\\xa0\\n\\xa0\\n\\n1\\n2\\n3\\n4\\n5\\n6\\n7\\n8\\n9\\n10\\n\\n9.5/10\\nX\\n\\xa0\\n\\n\\n\\n\\nGeralt is forced by a seemingly harmless merchant with sinister powers to complete three difficult tasks for a bored immortal, once a troubled nobleman who made a deal with the devil.\\n\\n    Director:\\nKonrad Tomaszkiewicz\\n| \\n    Stars:\\nDoug Cockle, \\nSusannah Fielding, \\nPaul Thornley, \\nAlex Norton\\n\\n\\nVotes:\\n6,941\\n\\n',\n",
       "  '\\n\\n20.\\nFallout 2: A Post-Nuclear Role-Playing Game\\n(1998 Video Game)\\n\\n\\n\\nAction, Adventure, Sci-Fi            \\n\\n\\n\\n\\n9.5\\n\\n\\n\\n\\nRate this\\n\\n\\n\\n\\n\\n\\n\\xa0\\n\\xa0\\n\\n1\\n2\\n3\\n4\\n5\\n6\\n7\\n8\\n9\\n10\\n\\n9.5/10\\nX\\n\\xa0\\n\\n\\n\\n\\nIn a post-nuclear future, the descendant of an ancient exiled hero must leave his tribe in search of the Garden of Eden Creation Kit, the last chance of survival for his people.\\n\\n    Director:\\nFeargus Urquhart\\n| \\n    Stars:\\nCharlie Adler, \\nRon Perlman, \\nDwight Schultz, \\nJason Marsden\\n\\n\\nVotes:\\n3,924\\n\\n',\n",
       "  '\\n\\n21.\\nChrono Trigger\\n(1995 Video Game)\\n\\n\\n\\nAction, Adventure, Fantasy            \\n\\n\\n\\n\\n9.5\\n\\n\\n\\n\\nRate this\\n\\n\\n\\n\\n\\n\\n\\xa0\\n\\xa0\\n\\n1\\n2\\n3\\n4\\n5\\n6\\n7\\n8\\n9\\n10\\n\\n9.5/10\\nX\\n\\xa0\\n\\n\\n\\n\\nCrono, a young boy, is thrust to adventure by destiny to destroy an oncoming threat that will destroy the world in 1999.\\n\\n    Directors:\\nYoshinori Kitase, \\nAkihiko Matsui, \\nTakashi Tokita, \\nNao Ito\\n\\n\\nVotes:\\n3,088\\n\\n',\n",
       "  '\\n\\n22.\\nMetal Gear Solid 3: Subsistence\\n(2005 Video Game)\\n\\n\\n\\nAction, Adventure, Drama            \\n\\n\\n\\n\\n9.5\\n\\n\\n\\n\\nRate this\\n\\n\\n\\n\\n\\n\\n\\xa0\\n\\xa0\\n\\n1\\n2\\n3\\n4\\n5\\n6\\n7\\n8\\n9\\n10\\n\\n9.5/10\\nX\\n\\xa0\\n\\n\\n\\n\\nEnhanced version of Metal Gear Solid 3: Snake Eater (2004) with many added features; such as the free range camera, new camouflage outfits, bonus levels and a theater mode.\\n\\n    Director:\\nHideo Kojima\\n| \\n    Stars:\\nDavid Hayter, \\nSuzetta Miñet, \\nJim Piddock, \\nHeather Halley\\n\\n\\nVotes:\\n2,590\\n\\n',\n",
       "  \"\\n\\n23.\\nElden Ring\\n(2022 Video Game)\\n\\n\\n\\nAction, Adventure, Fantasy            \\n\\n\\n\\n\\n9.4\\n\\n\\n\\n\\nRate this\\n\\n\\n\\n\\n\\n\\n\\xa0\\n\\xa0\\n\\n1\\n2\\n3\\n4\\n5\\n6\\n7\\n8\\n9\\n10\\n\\n9.4/10\\nX\\n\\xa0\\n\\n\\n\\n\\nIn a dark fantasy world created by Hidetaka Miyazaki (Dark Souls) and George R. R. Martin (A Song of Ice and Fire), the player is a Tarnished who is called back to the Lands Between to restore the Elden Ring and become the Elden Lord.\\n\\n    Directors:\\nHidetaka Miyazaki, \\nYui Tanimura\\n| \\n    Stars:\\nMartha Mackintosh, \\nAnthony Howell, \\nCon O'Neill, \\nRamon Tikaram\\n\\n\\nVotes:\\n5,786\\n\\n\",\n",
       "  '\\n\\n24.\\nGrand Theft Auto: San Andreas\\n(2004 Video Game)\\n\\n\\n\\nAction, Crime            \\n\\n\\n\\n\\n9.4\\n\\n\\n\\n\\nRate this\\n\\n\\n\\n\\n\\n\\n\\xa0\\n\\xa0\\n\\n1\\n2\\n3\\n4\\n5\\n6\\n7\\n8\\n9\\n10\\n\\n9.4/10\\nX\\n\\xa0\\n\\n\\n\\n\\nA family tragedy prompts gangster Carl \"CJ\" Johnson to return home, only to find it overrun by crime and corruption, which he must regain control of the streets before it gets even worse.\\n\\n            \\n    Stars:\\nYoung Maylay, \\nFaizon Love, \\nYolanda \\'Yo-Yo\\' Whittaker, \\nClifton Powell\\n\\n\\nVotes:\\n40,645\\n\\n',\n",
       "  '\\n\\n25.\\nThe Elder Scrolls V: Skyrim\\n(2011 Video Game)\\n\\n\\n\\nAction, Adventure, Fantasy            \\n\\n\\n\\n\\n9.4\\n\\n\\n\\n\\nRate this\\n\\n\\n\\n\\n\\n\\n\\xa0\\n\\xa0\\n\\n1\\n2\\n3\\n4\\n5\\n6\\n7\\n8\\n9\\n10\\n\\n9.4/10\\nX\\n\\xa0\\n\\n\\n\\n\\nAfter escaping execution, the last living Dragonborn must grow in strength and power to defeat the dragons that have once again begun to plague the land of Skyrim.\\n\\n    Directors:\\nTodd Howard, \\nNick James Pearce\\n| \\n    Stars:\\nMax von Sydow, \\nChristopher Plummer, \\nJoan Allen, \\nMichael Hogan\\n\\n\\nVotes:\\n30,548\\n\\n',\n",
       "  '\\n\\n26.\\nBatman: Arkham City\\n(2011 Video Game)\\n\\n\\n16\\n|\\n\\nAction, Adventure, Crime            \\n\\n\\n\\n\\n9.4\\n\\n\\n\\n\\nRate this\\n\\n\\n\\n\\n\\n\\n\\xa0\\n\\xa0\\n\\n1\\n2\\n3\\n4\\n5\\n6\\n7\\n8\\n9\\n10\\n\\n9.4/10\\nX\\n\\xa0\\n\\n\\n\\n\\nWhen part of Gotham is turned into a private reserve for criminals known as Arkham City, all hell is sure to break loose, and the Dark Knight is the only one who can stop it.\\n\\n    Director:\\nSefton Hill\\n| \\n    Stars:\\nKevin Conroy, \\nMark Hamill, \\nDavid Kaye, \\nCarlos Alazraqui\\n\\n\\nVotes:\\n31,722\\n\\n',\n",
       "  \"\\n\\n27.\\nUncharted 2: El reino de los ladrones\\n(2009 Video Game)\\n\\n\\n16\\n|\\n\\nAction, Adventure, Fantasy            \\n\\n\\n\\n\\n9.4\\n\\n\\n\\n\\nRate this\\n\\n\\n\\n\\n\\n\\n\\xa0\\n\\xa0\\n\\n1\\n2\\n3\\n4\\n5\\n6\\n7\\n8\\n9\\n10\\n\\n9.4/10\\nX\\n\\xa0\\n\\n\\n\\n\\nAfter being tracked down by Harry Flynn, Nathan Drake goes on a quest for Marco Polo's lost fleet. However when things take an unexpected turn for the worst, Drake must rely on those closest to him in order to find the Cintomani Stone.\\n\\n    Directors:\\nAmy Hennig, \\nBruce Straley\\n| \\n    Stars:\\nNolan North, \\nEmily Rose, \\nClaudia Black, \\nRichard McGonagle\\n\\n\\nVotes:\\n25,809\\n\\n\",\n",
       "  '\\n\\n28.\\nThe Legend of Zelda: Breath of the Wild\\n(2017 Video Game)\\n\\n\\n12\\n|\\n\\nAction, Adventure, Fantasy            \\n\\n\\n\\n\\n9.4\\n\\n\\n\\n\\nRate this\\n\\n\\n\\n\\n\\n\\n\\xa0\\n\\xa0\\n\\n1\\n2\\n3\\n4\\n5\\n6\\n7\\n8\\n9\\n10\\n\\n9.4/10\\nX\\n\\xa0\\n\\n\\n\\n\\nAfter a century of hibernation, Link reawakens to once again save a ruined Hyrule from a great evil.\\n\\n    Directors:\\nHidemaro Fujibayashi, \\nHiroki Hirano, \\nKentaro Tominaga\\n| \\n    Stars:\\nKengo Takanashi, \\nYû Shimamura, \\nKôji Takeda, \\nNoboru Yamaguchi\\n\\n\\nVotes:\\n7,761\\n\\n',\n",
       "  '\\n\\n29.\\nPortal 2\\n(2011 Video Game)\\n\\n\\n12\\n|\\n\\nAdventure, Comedy, Sci-Fi            \\n\\n\\n\\n\\n9.4\\n\\n\\n\\n\\nRate this\\n\\n\\n\\n\\n\\n\\n\\xa0\\n\\xa0\\n\\n1\\n2\\n3\\n4\\n5\\n6\\n7\\n8\\n9\\n10\\n\\n9.4/10\\nX\\n\\xa0\\n\\n\\n\\n\\nMany years after \"Portal,\" Chell reawakens at Aperture Science and tries to stop GLaDOS once again with the help of Wheatley, who has his own plans for the historical facility.\\n\\n            \\n    Stars:\\nEllen McLain, \\nStephen Merchant, \\nJ.K. Simmons, \\nJoe Micheals\\n\\n\\nVotes:\\n16,083\\n\\n',\n",
       "  '\\n\\n30.\\nHalf-Life 2\\n(2004 Video Game)\\n\\n\\n\\nAction, Adventure, Sci-Fi            \\n\\n\\n\\n\\n9.4\\n\\n\\n\\n\\nRate this\\n\\n\\n\\n\\n\\n\\n\\xa0\\n\\xa0\\n\\n1\\n2\\n3\\n4\\n5\\n6\\n7\\n8\\n9\\n10\\n\\n9.4/10\\nX\\n\\xa0\\n\\n\\n\\n\\nDr. Freeman is taken out of stasis by his \"employer\" to help rid the planet of invading aliens forces known as the Combine that entered through the portals he helped create.\\n\\n    Director:\\nDavid Speyrer\\n| \\n    Stars:\\nRobert Guillaume, \\nRobert Culp, \\nLouis Gossett Jr., \\nMichelle Forbes\\n\\n\\nVotes:\\n16,412\\n\\n',\n",
       "  \"\\n\\n31.\\nHalf-Life: Alyx\\n(2020 Video Game)\\n\\n\\n\\nAction, Adventure, Horror            \\n\\n\\n\\n\\n9.4\\n\\n\\n\\n\\nRate this\\n\\n\\n\\n\\n\\n\\n\\xa0\\n\\xa0\\n\\n1\\n2\\n3\\n4\\n5\\n6\\n7\\n8\\n9\\n10\\n\\n9.4/10\\nX\\n\\xa0\\n\\n\\n\\n\\nA VR game of an impossible fight against a vicious alien race known as the Combine, set between the events of Half-Life and Half-Life 2. Play as Alyx Vance, humanity's only chance for survival.\\n\\n            \\n    Stars:\\nOzioma Akagha, \\nJames Moses Black, \\nRhys Darby, \\nTony Todd\\n\\n\\nVotes:\\n798\\n\\n\",\n",
       "  '\\n\\n32.\\nSilent Hill 2\\n(2001 Video Game)\\n\\n\\n\\nDrama, Horror, Mystery            \\n\\n\\n\\n\\n9.4\\n\\n\\n\\n\\nRate this\\n\\n\\n\\n\\n\\n\\n\\xa0\\n\\xa0\\n\\n1\\n2\\n3\\n4\\n5\\n6\\n7\\n8\\n9\\n10\\n\\n9.4/10\\nX\\n\\xa0\\n\\n\\n\\n\\nAfter receiving a letter from his late wife, from Silent Hill, James Sunderland makes his way to the town in an attempt to find her.\\n\\n    Directors:\\nTakayuki Kobayashi, \\nMasashi Tsuboyama\\n| \\n    Stars:\\nGuy Cihi, \\nMonica Horgan, \\nDonna Burke, \\nDavid Schaufele\\n\\n\\nVotes:\\n6,862\\n\\n',\n",
       "  '\\n\\n33.\\nMetal Gear Solid 4: Guns of the Patriots\\n(2008 Video Game)\\n\\n\\n18\\n|\\n\\nAction, Adventure, Drama            \\n\\n\\n\\n\\n9.4\\n\\n\\n\\n\\nRate this\\n\\n\\n\\n\\n\\n\\n\\xa0\\n\\xa0\\n\\n1\\n2\\n3\\n4\\n5\\n6\\n7\\n8\\n9\\n10\\n\\n9.4/10\\nX\\n\\xa0\\n\\n\\n\\n\\nWhen the nations of the world rely upon private military companies to fight their battles for them, renegade Liquid Ocelot emerges as the head of a potent coalition of mercenary powers. Solid Snake returns to save the world once again.\\n\\n    Director:\\nHideo Kojima\\n| \\n    Stars:\\nDavid Hayter, \\nJosh Keaton, \\nPeter Lurie, \\nPaul Eiding\\n\\n\\nVotes:\\n10,752\\n\\n',\n",
       "  \"\\n\\n34.\\nUncharted: The Nathan Drake Collection\\n(2015 Video Game)\\n\\n\\n\\nAction, Adventure, Fantasy            \\n\\n\\n\\n\\n9.4\\n\\n\\n\\n\\nRate this\\n\\n\\n\\n\\n\\n\\n\\xa0\\n\\xa0\\n\\n1\\n2\\n3\\n4\\n5\\n6\\n7\\n8\\n9\\n10\\n\\n9.4/10\\nX\\n\\xa0\\n\\n\\n\\n\\nA remastered collection of Uncharted: El Tesoro de Drake (2007), Uncharted 2: El reino de los ladrones (2009), and Uncharted 3: Drake's Deception (2011) for PlayStation 4.\\n\\n    Director:\\nAmy Hennig\\n| \\n    Stars:\\nNolan North, \\nEmily Rose, \\nRichard McGonagle, \\nClaudia Black\\n\\n\\nVotes:\\n5,640\\n\\n\",\n",
       "  \"\\n\\n35.\\nForgotten Realms: Baldur's Gate II - Shadows of Amn\\n(2000 Video Game)\\n\\n\\n\\nAction, Adventure, Fantasy            \\n\\n\\n\\n\\n9.4\\n\\n\\n\\n\\nRate this\\n\\n\\n\\n\\n\\n\\n\\xa0\\n\\xa0\\n\\n1\\n2\\n3\\n4\\n5\\n6\\n7\\n8\\n9\\n10\\n\\n9.4/10\\nX\\n\\xa0\\n\\n\\n\\n\\nJon Irenicus, a sadistic secretive powerful mage bent on revenge, captures Gorion's ward and his/her party for a diabolical experiment.\\n\\n    Director:\\nFeargus Urquhart\\n| \\n    Stars:\\nDavid Warner, \\nCharlie Adler, \\nDee Bradley Baker, \\nMichael Bell\\n\\n\\nVotes:\\n2,124\\n\\n\",\n",
       "  \"\\n\\n36.\\nBloodborne: The Old Hunters\\n(2015 Video Game)\\n\\n\\n\\nAction, Adventure, Fantasy            \\n\\n\\n\\n\\n9.4\\n\\n\\n\\n\\nRate this\\n\\n\\n\\n\\n\\n\\n\\xa0\\n\\xa0\\n\\n1\\n2\\n3\\n4\\n5\\n6\\n7\\n8\\n9\\n10\\n\\n9.4/10\\nX\\n\\xa0\\n\\n\\n\\n\\nIn this DLC for Bloodborne, the player-Hunter is transported to the sinister Hunter's Nightmare, a demented place where hunters who become drunk with blood are sent to.\\n\\n    Director:\\nHidetaka Miyazaki\\n| \\n    Stars:\\nEvetta Muradasilova, \\nDes McAleer, \\nGrant Gillespie, \\nLotte Rice\\n\\n\\nVotes:\\n1,660\\n\\n\",\n",
       "  '\\n\\n37.\\nBatman: Arkham Collection\\n(2018 Video Game)\\n\\n\\n\\nAdventure            \\n\\n\\n\\n\\n9.4\\n\\n\\n\\n\\nRate this\\n\\n\\n\\n\\n\\n\\n\\xa0\\n\\xa0\\n\\n1\\n2\\n3\\n4\\n5\\n6\\n7\\n8\\n9\\n10\\n\\n9.4/10\\nX\\n\\xa0\\n\\n\\n\\n\\nThis contains all previous Arkham games apart from Batman Arkham origins and Batman Arkham origins blackgate\\n\\n    Director:\\nSefton Hill\\n\\n\\nVotes:\\n369\\n\\n',\n",
       "  \"\\n\\n38.\\nPlanescape: Torment\\n(1999 Video Game)\\n\\n\\n\\nAdventure, Drama, Fantasy            \\n\\n\\n\\n\\n9.4\\n\\n\\n\\n\\nRate this\\n\\n\\n\\n\\n\\n\\n\\xa0\\n\\xa0\\n\\n1\\n2\\n3\\n4\\n5\\n6\\n7\\n8\\n9\\n10\\n\\n9.4/10\\nX\\n\\xa0\\n\\n\\n\\n\\nIn the city of Sigil, the only place from which all realities of the Planescape universe can be reached, an immortal amnesiac, the Nameless One, must uncover his past, the mystery of his immortality as well as who's trying to kill him.\\n\\n            \\n    Stars:\\nMichael T. Weiss, \\nRob Paulsen, \\nJennifer Hale, \\nSheena Easton\\n\\n\\nVotes:\\n2,060\\n\\n\",\n",
       "  '\\n\\n39.\\nPersona 5\\n(2016 Video Game)\\n\\n\\n\\nAction, Adventure, Comedy            \\n\\n\\n\\n\\n9.3\\n\\n\\n\\n\\nRate this\\n\\n\\n\\n\\n\\n\\n\\xa0\\n\\xa0\\n\\n1\\n2\\n3\\n4\\n5\\n6\\n7\\n8\\n9\\n10\\n\\n9.3/10\\nX\\n\\xa0\\n\\n\\n\\n\\nA group of high school students create a vigilante group to expose the crimes of corrupt adults but soon find themselves in the midst of a worldwide conspiracy and targeted by powerful individuals who would do anything to silence them.\\n\\n    Director:\\nKatsura Hashino\\n| \\n    Stars:\\nJun Fukuyama, \\nMamoru Miyano, \\nNana Mizuki, \\nIkue Ôtani\\n\\n\\nVotes:\\n2,864\\n\\n',\n",
       "  '\\n\\n40.\\nBloodborne\\n(2015 Video Game)\\n\\n\\n16\\n|\\n\\nAction, Adventure, Fantasy            \\n\\n\\n\\n\\n9.3\\n\\n\\n\\n\\nRate this\\n\\n\\n\\n\\n\\n\\n\\xa0\\n\\xa0\\n\\n1\\n2\\n3\\n4\\n5\\n6\\n7\\n8\\n9\\n10\\n\\n9.3/10\\nX\\n\\xa0\\n\\n\\n\\n\\nA hunter awakens in the plagued lands of Yharnam, where the denizens have succumb to beast hood, in an attempt to learn the truth and how to end the plague, unbeknownst of the true horror lurking within the city.\\n\\n    Director:\\nHidetaka Miyazaki\\n| \\n    Stars:\\nDaniel Fine, \\nJoe Sims, \\nWilliam Vanderpuye, \\nAndrew Tiernan\\n\\n\\nVotes:\\n5,937\\n\\n',\n",
       "  '\\n\\n41.\\nP.T.\\n(2014 Video Game)\\n\\n\\n\\nHorror, Mystery            \\n\\n\\n\\n\\n9.3\\n\\n\\n\\n\\nRate this\\n\\n\\n\\n\\n\\n\\n\\xa0\\n\\xa0\\n\\n1\\n2\\n3\\n4\\n5\\n6\\n7\\n8\\n9\\n10\\n\\n9.3/10\\nX\\n\\xa0\\n\\n\\n\\n\\nThe player must navigate a series of continuously looping hallways, solving cryptic puzzles, all while being hunted by a hostile apparition named Lisa.\\n\\n    Directors:\\nGuillermo del Toro, \\nHideo Kojima\\n| \\n    Star:\\nNorman Reedus\\n\\n\\nVotes:\\n1,924\\n\\n',\n",
       "  '\\n\\n42.\\nKingdom Hearts II\\n(2005 Video Game)\\n\\n\\n12\\n|\\n\\nAction, Adventure, Family            \\n\\n\\n\\n\\n9.3\\n\\n\\n\\n\\nRate this\\n\\n\\n\\n\\n\\n\\n\\xa0\\n\\xa0\\n\\n1\\n2\\n3\\n4\\n5\\n6\\n7\\n8\\n9\\n10\\n\\n9.3/10\\nX\\n\\xa0\\n\\n\\n\\n\\nSora and friends face mysterious new enemies as they continue their journey to save all worlds, and find Riku and King Mickey.\\n\\n    Director:\\nTetsuya Nomura\\n| \\n    Stars:\\nHaley Joel Osment, \\nDavid Gallagher, \\nHayden Panettiere, \\nJesse McCartney\\n\\n\\nVotes:\\n7,257\\n\\n',\n",
       "  '\\n\\n43.\\nUncharted: Legacy of Thieves Collection\\n(2022 Video Game)\\n\\n\\n\\nAction, Adventure, Drama            \\n\\n\\n\\n\\n9.3\\n\\n\\n\\n\\nRate this\\n\\n\\n\\n\\n\\n\\n\\xa0\\n\\xa0\\n\\n1\\n2\\n3\\n4\\n5\\n6\\n7\\n8\\n9\\n10\\n\\n9.3/10\\nX\\n\\xa0\\n\\n\\n\\n\\nNathan Drake and Chloe Frazer are forced to confront their pasts and forge their own legacies.\\n\\n    Directors:\\nNeil Druckmann, \\nKurt Margenau, \\nBruce Straley\\n| \\n    Stars:\\nNolan North, \\nTroy Baker, \\nRichard McGonagle, \\nEmily Rose\\n\\n\\nVotes:\\n414\\n\\n',\n",
       "  '\\n\\n44.\\nWanda to kyozô\\n(2005 Video Game)\\n\\n\\n\\nAction, Adventure, Drama            \\n\\n\\n\\n\\n9.3\\n\\n\\n\\n\\nRate this\\n\\n\\n\\n\\n\\n\\n\\xa0\\n\\xa0\\n\\n1\\n2\\n3\\n4\\n5\\n6\\n7\\n8\\n9\\n10\\n\\n9.3/10\\nX\\n\\xa0\\n\\n\\n\\n\\nA young man brings a deceased woman to a forbidden land inhabited by colossal beings said to house the power to revive the dead.\\n\\n    Director:\\nFumito Ueda\\n| \\n    Stars:\\nKenji Nojima, \\nKazuhiro Nakata, \\nKyôko Hikami, \\nNaoki Bando\\n\\n\\nVotes:\\n4,175\\n\\n',\n",
       "  \"\\n\\n45.\\nDisco Elysium - The Final Cut\\n(2021 Video Game)\\n\\n\\n\\nComedy, Crime, Drama            \\n\\n\\n\\n\\n9.3\\n\\n\\n\\n\\nRate this\\n\\n\\n\\n\\n\\n\\n\\xa0\\n\\xa0\\n\\n1\\n2\\n3\\n4\\n5\\n6\\n7\\n8\\n9\\n10\\n\\n9.3/10\\nX\\n\\xa0\\n\\n\\n\\n\\nYou're a detective with a unique skill system at your disposal and a whole city to carve your path across. Interrogate unforgettable characters, crack murders or take bribes. Become a hero or an absolute disaster of a human being.\\n\\n            \\n    Stars:\\nLenval Brown, \\nMikee W. Goodman, \\nJullian Champenois, \\nTegen Hitchens\\n\\n\\nVotes:\\n458\\n\\n\",\n",
       "  '\\n\\n46.\\nThe Secret of Monkey Island\\n(1990 Video Game)\\n\\n\\n\\nAdventure, Comedy, Fantasy            \\n\\n\\n\\n\\n9.3\\n\\n\\n\\n\\nRate this\\n\\n\\n\\n\\n\\n\\n\\xa0\\n\\xa0\\n\\n1\\n2\\n3\\n4\\n5\\n6\\n7\\n8\\n9\\n10\\n\\n9.3/10\\nX\\n\\xa0\\n\\n\\n\\n\\nYoung pirate wanna-be Guybrush Threepwood sets out to pass the Three Trials, woo the governess Elaine Marley, reach the fabled Monkey Island and vanquish the nefarious ghost pirate LeChuck.\\n\\n    Directors:\\nRon Gilbert, \\nHal Barwood\\n| \\n    Stars:\\nDominic Armato, \\nEarl Boen, \\nAlexandra Boyd, \\nLeilani Jones\\n\\n\\nVotes:\\n3,171\\n\\n',\n",
       "  '\\n\\n47.\\nThe Legend of Zelda: A Link to the Past\\n(1991 Video Game)\\n\\n\\n7\\n|\\n\\nAction, Adventure, Fantasy            \\n\\n\\n\\n\\n9.3\\n\\n\\n\\n\\nRate this\\n\\n\\n\\n\\n\\n\\n\\xa0\\n\\xa0\\n\\n1\\n2\\n3\\n4\\n5\\n6\\n7\\n8\\n9\\n10\\n\\n9.3/10\\nX\\n\\xa0\\n\\n\\n\\n\\nThe wizard Agahnim has abducted seven maidens, intent on using their power to open a portal to the Dark World. Armed with a trusty sword and shield, Link begins a great and treacherous journey.\\n\\n    Directors:\\nTakashi Tezuka, \\nHidemaro Fujibayashi\\n| \\n    Star:\\nFujiko Takimoto\\n\\n\\nVotes:\\n3,486\\n\\n',\n",
       "  '\\n\\n48.\\nKingdom Hearts II: Final Mix+\\n(2007 Video Game)\\n\\n\\n\\nAction, Adventure, Family            \\n\\n\\n\\n\\n9.3\\n\\n\\n\\n\\nRate this\\n\\n\\n\\n\\n\\n\\n\\xa0\\n\\xa0\\n\\n1\\n2\\n3\\n4\\n5\\n6\\n7\\n8\\n9\\n10\\n\\n9.3/10\\nX\\n\\xa0\\n\\n\\n\\n\\nSora and friends must set out on another adventure to find his long lost friends and stop Organization XIII.\\n\\n    Director:\\nTetsuya Nomura\\n| \\n    Stars:\\nHaley Joel Osment, \\nDavid Gallagher, \\nHayden Panettiere, \\nJesse McCartney\\n\\n\\nVotes:\\n1,303\\n\\n',\n",
       "  '\\n\\n49.\\nBurnhouse Lane\\n(2022 Video Game)\\n\\n\\n\\nDrama, Horror, Mystery            \\n\\n\\n\\n\\n9.3\\n\\n\\n\\n\\nRate this\\n\\n\\n\\n\\n\\n\\n\\xa0\\n\\xa0\\n\\n1\\n2\\n3\\n4\\n5\\n6\\n7\\n8\\n9\\n10\\n\\n9.3/10\\nX\\n\\xa0\\n\\n\\n\\n\\nStory about death, friendship and everlasting hope that no matter how bad things get there is always a reason to go on.\\n\\n    Director:\\nRemigiusz Michalski\\n| \\n    Stars:\\nElizabeth Nightingale, \\nMadison Mitts, \\nDavey Cadaver, \\nJonathan Cox\\n\\n\\nVotes:\\n15\\n\\n',\n",
       "  \"\\n\\n50.\\nKingdom Hearts HD 2.5 Remix\\n(2014 Video Game)\\n\\n\\n\\nAction, Adventure, Family            \\n\\n\\n\\n\\n9.3\\n\\n\\n\\n\\nRate this\\n\\n\\n\\n\\n\\n\\n\\xa0\\n\\xa0\\n\\n1\\n2\\n3\\n4\\n5\\n6\\n7\\n8\\n9\\n10\\n\\n9.3/10\\nX\\n\\xa0\\n\\n\\n\\n\\nAfter the events of Kingdom Hearts HD 1.5 Remix (2013), a boy named Roxas wakes up in Twilight Town trying to make it through his last days of summer vacation when he finds out that his dreams are actually Sora's memories and he must return them to him.\\n\\n    Directors:\\nTetsuya Nomura, \\nTai Yasue\\n| \\n    Stars:\\nHaley Joel Osment, \\nDavid Gallagher, \\nHayden Panettiere, \\nJesse McCartney\\n\\n\\nVotes:\\n877\\n\\n\"],\n",
       " 'rating': []}"
      ]
     },
     "execution_count": 94,
     "metadata": {},
     "output_type": "execute_result"
    }
   ],
   "source": [
    "for a in titulos: \n",
    "    resultados_rating[\"titulo\"].append(a.getText())\n",
    "    \n",
    "resultados_rating"
   ]
  },
  {
   "cell_type": "code",
   "execution_count": 96,
   "id": "91db0953",
   "metadata": {},
   "outputs": [
    {
     "data": {
      "text/plain": [
       "\"\\n\\n2.\\nWiedzmin 3: Dziki Gon Krew i wino\\n(2016 Video Game)\\n\\n\\n\\nAction, Adventure, Drama            \\n\\n\\n\\n\\n9.8\\n\\n\\n\\n\\nRate this\\n\\n\\n\\n\\n\\n\\n\\xa0\\n\\xa0\\n\\n1\\n2\\n3\\n4\\n5\\n6\\n7\\n8\\n9\\n10\\n\\n9.8/10\\nX\\n\\xa0\\n\\n\\n\\n\\nGeralt is in the southern province of Toussaint where a monstrous serial killer is targeting knights with a dark past. Geralt and his old vampire friend investigate the killer's motives.\\n\\n    Director:\\nKonrad Tomaszkiewicz\\n| \\n    Stars:\\nDoug Cockle, \\nMyAnna Buring, \\nAntonia Bernath, \\nMark Noble\\n\\n\\nVotes:\\n8,336\\n\\n\""
      ]
     },
     "execution_count": 96,
     "metadata": {},
     "output_type": "execute_result"
    }
   ],
   "source": [
    "resultados_rating[\"titulo\"][1]"
   ]
  },
  {
   "cell_type": "code",
   "execution_count": 97,
   "id": "f131badd",
   "metadata": {},
   "outputs": [
    {
     "ename": "IndexError",
     "evalue": "list index out of range",
     "output_type": "error",
     "traceback": [
      "\u001b[1;31m---------------------------------------------------------------------------\u001b[0m",
      "\u001b[1;31mIndexError\u001b[0m                                Traceback (most recent call last)",
      "Cell \u001b[1;32mIn [97], line 1\u001b[0m\n\u001b[1;32m----> 1\u001b[0m \u001b[43mresultados_rating\u001b[49m\u001b[43m[\u001b[49m\u001b[38;5;124;43m\"\u001b[39;49m\u001b[38;5;124;43mrating\u001b[39;49m\u001b[38;5;124;43m\"\u001b[39;49m\u001b[43m]\u001b[49m\u001b[43m[\u001b[49m\u001b[38;5;241;43m1\u001b[39;49m\u001b[43m]\u001b[49m\n",
      "\u001b[1;31mIndexError\u001b[0m: list index out of range"
     ]
    }
   ],
   "source": [
    "resultados_rating[\"rating\"][1]"
   ]
  },
  {
   "cell_type": "code",
   "execution_count": null,
   "id": "c56a4360",
   "metadata": {},
   "outputs": [],
   "source": []
  }
 ],
 "metadata": {
  "kernelspec": {
   "display_name": "IRONHACK2022",
   "language": "python",
   "name": "ironhack2022"
  },
  "language_info": {
   "codemirror_mode": {
    "name": "ipython",
    "version": 3
   },
   "file_extension": ".py",
   "mimetype": "text/x-python",
   "name": "python",
   "nbconvert_exporter": "python",
   "pygments_lexer": "ipython3",
   "version": "3.9.13"
  }
 },
 "nbformat": 4,
 "nbformat_minor": 5
}

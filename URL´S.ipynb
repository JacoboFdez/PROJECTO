{
 "cells": [
  {
   "cell_type": "code",
   "execution_count": 1,
   "id": "1cf0400f",
   "metadata": {},
   "outputs": [],
   "source": [
    "import requests\n",
    "import pandas as pd\n",
    "from time import sleep\n",
    "import numpy as np\n",
    "import re\n",
    "\n",
    "from bs4 import BeautifulSoup\n",
    "from selenium import webdriver\n",
    "from webdriver_manager.chrome import ChromeDriverManager\n",
    "from selenium.webdriver.common.keys import Keys\n",
    "from selenium.webdriver.chrome.options import Options\n",
    "\n",
    "\n",
    "\n",
    "\n",
    "import warnings\n",
    "warnings.filterwarnings('ignore')"
   ]
  },
  {
   "cell_type": "code",
   "execution_count": 2,
   "id": "18500859",
   "metadata": {},
   "outputs": [],
   "source": [
    "opciones= Options()\n",
    "opciones.add_experimental_option('excludeSwitches', ['enable-automation'])\n",
    "opciones.add_experimental_option('useAutomationExtension', False)\n",
    "opciones.add_argument('--start-maximized')\n",
    "opciones.add_argument('user.data-dir=selenium') \n",
    "opciones.add_argument('--incognito')"
   ]
  },
  {
   "cell_type": "code",
   "execution_count": 22,
   "id": "9ce26ef3",
   "metadata": {},
   "outputs": [
    {
     "name": "stdout",
     "output_type": "stream",
     "text": [
      "The current url is:https://www.imdb.com/search/title/?title_type=video_game&sort=user_rating,desc&ref_\n",
      "The current url is:https://www.imdb.com/search/title/?title_type=video_game&sort=user_rating,desc&start=51&ref_=adv_nxt\n",
      "The current url is:https://www.imdb.com/search/title/?title_type=video_game&sort=user_rating,desc&start=101&ref_=adv_nxt\n",
      "the current url is:https://www.imdb.com/search/title/?title_type=video_game&sort=user_rating,desc&start=151&ref_=adv_nxt\n",
      "The current url is:https://www.imdb.com/search/title/?title_type=video_game&sort=user_rating,desc&start=201&ref_=adv_nxt\n",
      "The current url is:https://www.imdb.com/search/title/?title_type=video_game&sort=user_rating,desc&start=251&ref_=adv_nxt\n",
      "the current url is:https://www.imdb.com/search/title/?title_type=video_game&sort=user_rating,desc&start=301&ref_=adv_nxt\n"
     ]
    }
   ],
   "source": [
    "driver = webdriver.Chrome(ChromeDriverManager().install())\n",
    "\n",
    "\n",
    "driver.get(\"https://www.imdb.com/search/title/?title_type=video_game&sort=user_rating,desc&ref_\")\n",
    "driver.implicitly_wait(3)\n",
    "\n",
    "if \n",
    "\n",
    "\n",
    "print(\"The current url is:\"+str(driver.current_url))\n",
    "driver.find_element(\"xpath\",'//*[@id=\"main\"]/div/div[1]/div[2]/a').click()\n",
    "print(\"The current url is:\"+str(driver.current_url))\n",
    "driver.find_element(\"xpath\",'//*[@id=\"main\"]/div/div[1]/div[2]/a[2]').click()\n",
    "print(\"The current url is:\"+str(driver.current_url))\n",
    "driver.find_element(\"xpath\",'//*[@id=\"main\"]/div/div[1]/div[2]/a[2]').click()\n",
    "print(\"the current url is:\"+str(driver.current_url))\n",
    "driver.find_element(\"xpath\",'//*[@id=\"main\"]/div/div[1]/div[2]/a[2]').click()\n",
    "print(\"The current url is:\"+str(driver.current_url))\n",
    "driver.find_element(\"xpath\",'//*[@id=\"main\"]/div/div[1]/div[2]/a[2]').click()\n",
    "print(\"The current url is:\"+str(driver.current_url))\n",
    "driver.find_element(\"xpath\",'//*[@id=\"main\"]/div/div[1]/div[2]/a[2]').click()\n",
    "print(\"the current url is:\"+str(driver.current_url))\n",
    "\n",
    "driver.quit()\n"
   ]
  },
  {
   "cell_type": "code",
   "execution_count": 23,
   "id": "d4bce927",
   "metadata": {},
   "outputs": [],
   "source": [
    "##"
   ]
  },
  {
   "cell_type": "code",
   "execution_count": null,
   "id": "154da29e",
   "metadata": {},
   "outputs": [],
   "source": []
  }
 ],
 "metadata": {
  "kernelspec": {
   "display_name": "IRONHACK2022",
   "language": "python",
   "name": "ironhack2022"
  },
  "language_info": {
   "codemirror_mode": {
    "name": "ipython",
    "version": 3
   },
   "file_extension": ".py",
   "mimetype": "text/x-python",
   "name": "python",
   "nbconvert_exporter": "python",
   "pygments_lexer": "ipython3",
   "version": "3.9.13"
  }
 },
 "nbformat": 4,
 "nbformat_minor": 5
}

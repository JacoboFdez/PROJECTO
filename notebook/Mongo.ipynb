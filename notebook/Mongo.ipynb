{
 "cells": [
  {
   "cell_type": "code",
   "execution_count": 14,
   "id": "59ea5aed",
   "metadata": {},
   "outputs": [],
   "source": [
    "import pandas as pd \n",
    "import numpy as np \n",
    "import pymongo "
   ]
  },
  {
   "cell_type": "code",
   "execution_count": 15,
   "id": "23cf0c5b",
   "metadata": {},
   "outputs": [
    {
     "data": {
      "text/plain": [
       "MongoClient(host=['localhost:27017'], document_class=dict, tz_aware=False, connect=True)"
      ]
     },
     "execution_count": 15,
     "metadata": {},
     "output_type": "execute_result"
    }
   ],
   "source": [
    "# nos conectamos con Mongo\n",
    "\n",
    "cliente = pymongo.MongoClient()\n",
    "cliente"
   ]
  },
  {
   "cell_type": "code",
   "execution_count": 16,
   "id": "2d59004f",
   "metadata": {},
   "outputs": [
    {
     "data": {
      "text/plain": [
       "['MONGOLAB', 'STEAM', 'admin', 'config', 'local']"
      ]
     },
     "execution_count": 16,
     "metadata": {},
     "output_type": "execute_result"
    }
   ],
   "source": [
    "\n",
    "cliente.list_database_names()"
   ]
  },
  {
   "cell_type": "code",
   "execution_count": 17,
   "id": "31e2d658",
   "metadata": {},
   "outputs": [],
   "source": [
    "mydb = cliente[\"PROJECTO\"]"
   ]
  },
  {
   "cell_type": "code",
   "execution_count": 18,
   "id": "19c1ab35",
   "metadata": {},
   "outputs": [],
   "source": [
    "coleccion = mydb.detalles"
   ]
  },
  {
   "cell_type": "code",
   "execution_count": 21,
   "id": "f0b6de49",
   "metadata": {},
   "outputs": [
    {
     "data": {
      "text/html": [
       "<div>\n",
       "<style scoped>\n",
       "    .dataframe tbody tr th:only-of-type {\n",
       "        vertical-align: middle;\n",
       "    }\n",
       "\n",
       "    .dataframe tbody tr th {\n",
       "        vertical-align: top;\n",
       "    }\n",
       "\n",
       "    .dataframe thead th {\n",
       "        text-align: right;\n",
       "    }\n",
       "</style>\n",
       "<table border=\"1\" class=\"dataframe\">\n",
       "  <thead>\n",
       "    <tr style=\"text-align: right;\">\n",
       "      <th></th>\n",
       "      <th>title</th>\n",
       "      <th>developer</th>\n",
       "      <th>publisher</th>\n",
       "      <th>multiplayer_or_singleplayer</th>\n",
       "      <th>price</th>\n",
       "      <th>ReleaseDate</th>\n",
       "      <th>rating</th>\n",
       "      <th>genre</th>\n",
       "    </tr>\n",
       "  </thead>\n",
       "  <tbody>\n",
       "    <tr>\n",
       "      <th>0</th>\n",
       "      <td>Counter-Strike: Global Offensive</td>\n",
       "      <td>Valve;Hidden Path Entertainment</td>\n",
       "      <td>Valve</td>\n",
       "      <td>Multi-player;Steam Achievements;Full controlle...</td>\n",
       "      <td>Free to play</td>\n",
       "      <td>Nov 1 2000</td>\n",
       "      <td>9.2</td>\n",
       "      <td>Action</td>\n",
       "    </tr>\n",
       "    <tr>\n",
       "      <th>1</th>\n",
       "      <td>Dota 2</td>\n",
       "      <td>Valve</td>\n",
       "      <td>Valve</td>\n",
       "      <td>Multi-player;Co-op;Steam Trading Cards;Steam W...</td>\n",
       "      <td>Free to play</td>\n",
       "      <td>Nov 1 2000</td>\n",
       "      <td>9.2</td>\n",
       "      <td>Action</td>\n",
       "    </tr>\n",
       "    <tr>\n",
       "      <th>2</th>\n",
       "      <td>Warhammer 40,000: Darktide</td>\n",
       "      <td>Valve</td>\n",
       "      <td>Valve</td>\n",
       "      <td>Multi-player</td>\n",
       "      <td>2,199</td>\n",
       "      <td>Nov 1 2000</td>\n",
       "      <td>9.2</td>\n",
       "      <td>Action</td>\n",
       "    </tr>\n",
       "    <tr>\n",
       "      <th>3</th>\n",
       "      <td>Call of Duty®: Modern Warfare® II</td>\n",
       "      <td>Valve</td>\n",
       "      <td>Valve</td>\n",
       "      <td>Multi-player</td>\n",
       "      <td>4,999</td>\n",
       "      <td>Nov 1 2000</td>\n",
       "      <td>9.2</td>\n",
       "      <td>Action</td>\n",
       "    </tr>\n",
       "    <tr>\n",
       "      <th>4</th>\n",
       "      <td>Apex Legends</td>\n",
       "      <td>Valve</td>\n",
       "      <td>Valve</td>\n",
       "      <td>Multi-player</td>\n",
       "      <td>Free to play</td>\n",
       "      <td>Nov 1 2000</td>\n",
       "      <td>9.2</td>\n",
       "      <td>Action</td>\n",
       "    </tr>\n",
       "  </tbody>\n",
       "</table>\n",
       "</div>"
      ],
      "text/plain": [
       "                               title                        developer  \\\n",
       "0   Counter-Strike: Global Offensive  Valve;Hidden Path Entertainment   \n",
       "1                             Dota 2                            Valve   \n",
       "2         Warhammer 40,000: Darktide                            Valve   \n",
       "3  Call of Duty®: Modern Warfare® II                            Valve   \n",
       "4                      Apex Legends                            Valve   \n",
       "\n",
       "  publisher                        multiplayer_or_singleplayer         price  \\\n",
       "0     Valve  Multi-player;Steam Achievements;Full controlle...  Free to play   \n",
       "1     Valve  Multi-player;Co-op;Steam Trading Cards;Steam W...  Free to play   \n",
       "2     Valve                                       Multi-player         2,199   \n",
       "3     Valve                                       Multi-player         4,999   \n",
       "4     Valve                                       Multi-player  Free to play   \n",
       "\n",
       "  ReleaseDate  rating   genre  \n",
       "0  Nov 1 2000     9.2  Action  \n",
       "1  Nov 1 2000     9.2  Action  \n",
       "2  Nov 1 2000     9.2  Action  \n",
       "3  Nov 1 2000     9.2  Action  \n",
       "4  Nov 1 2000     9.2  Action  "
      ]
     },
     "execution_count": 21,
     "metadata": {},
     "output_type": "execute_result"
    }
   ],
   "source": [
    "df_MONGO = pd.read_csv(\"../data/LAST.csv\")\n",
    "df_MONGO.head()"
   ]
  },
  {
   "cell_type": "code",
   "execution_count": 22,
   "id": "3af37362",
   "metadata": {},
   "outputs": [
    {
     "data": {
      "text/plain": [
       "<pymongo.results.InsertManyResult at 0x293e2bd1e50>"
      ]
     },
     "execution_count": 22,
     "metadata": {},
     "output_type": "execute_result"
    }
   ],
   "source": [
    "coleccion.insert_many(df_MONGO.to_dict(\"records\"))"
   ]
  }
 ],
 "metadata": {
  "kernelspec": {
   "display_name": "Python 3 (ipykernel)",
   "language": "python",
   "name": "python3"
  },
  "language_info": {
   "codemirror_mode": {
    "name": "ipython",
    "version": 3
   },
   "file_extension": ".py",
   "mimetype": "text/x-python",
   "name": "python",
   "nbconvert_exporter": "python",
   "pygments_lexer": "ipython3",
   "version": "3.9.13"
  }
 },
 "nbformat": 4,
 "nbformat_minor": 5
}

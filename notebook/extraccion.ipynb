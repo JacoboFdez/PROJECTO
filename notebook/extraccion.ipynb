{
 "cells": [
  {
   "cell_type": "code",
   "execution_count": 1,
   "id": "8e34f89e",
   "metadata": {},
   "outputs": [],
   "source": [
    "import requests\n",
    "import pandas as pd\n",
    "from time import sleep\n",
    "import numpy as np\n",
    "import re\n",
    "\n",
    "from bs4 import BeautifulSoup\n",
    "from selenium import webdriver\n",
    "from webdriver_manager.chrome import ChromeDriverManager\n",
    "from selenium.webdriver.common.keys import Keys\n",
    "from selenium.webdriver.chrome.options import Options\n",
    "\n",
    "\n",
    "\n",
    "\n",
    "import warnings\n",
    "warnings.filterwarnings('ignore')"
   ]
  },
  {
   "cell_type": "markdown",
   "id": "64de8791",
   "metadata": {},
   "source": [
    "# 1- obtencion de url\n"
   ]
  },
  {
   "cell_type": "code",
   "execution_count": 2,
   "id": "d0f2a237",
   "metadata": {},
   "outputs": [],
   "source": [
    "opciones= Options()\n",
    "opciones.add_experimental_option('excludeSwitches', ['enable-automation'])\n",
    "opciones.add_experimental_option('useAutomationExtension', False)\n",
    "opciones.add_argument('--start-maximized')\n",
    "opciones.add_argument('user.data-dir=selenium') \n",
    "opciones.add_argument('--incognito')"
   ]
  },
  {
   "cell_type": "code",
   "execution_count": 3,
   "id": "5d0c9233",
   "metadata": {},
   "outputs": [],
   "source": [
    "limite = 10000"
   ]
  },
  {
   "cell_type": "code",
   "execution_count": 4,
   "id": "9f975996",
   "metadata": {},
   "outputs": [
    {
     "name": "stdout",
     "output_type": "stream",
     "text": [
      "The current url is:https://www.imdb.com/search/title/?title_type=video_game&sort=user_rating,desc&ref_\n",
      "The current url is:https://www.imdb.com/search/title/?title_type=video_game&sort=user_rating,desc&start=51&ref_=adv_nxt\n",
      "The current url is:https://www.imdb.com/search/title/?title_type=video_game&sort=user_rating,desc&start=51&ref_=adv_nxt\n"
     ]
    }
   ],
   "source": [
    "lista_urls = []\n",
    "for i in range(1, int(limite), 50):\n",
    "    lista_urls.append(f\"https://www.imdb.com/search/title/?title_type=video_game&sort=user_rating,desc&start={i}&ref_=adv_nxt\")\n",
    "    \n",
    "driver = webdriver.Chrome(ChromeDriverManager().install())\n",
    "data = driver.get(\"https://www.imdb.com/search/title/?title_type=video_game&sort=user_rating,desc&ref_\")\n",
    "driver.implicitly_wait(3)\n",
    "print(\"The current url is:\"+str(driver.current_url))\n",
    "\n",
    "driver.find_element(\"xpath\",'//*[@id=\"main\"]/div/div[1]/div[2]/a').click()\n",
    "print(\"The current url is:\"+str(driver.current_url))\n",
    "\n",
    "try:        \n",
    "    print(\"The current url is:\"+str(driver.current_url))\n",
    "    lista_url.append(str(driver.current_url))\n",
    "    driver.find_element(\"xpath\",'/html/body/div[2]/div/div[2]/div[3]/div[1]/div/div[1]/div[2]/a[2]').click()\n",
    "except:\n",
    "    pass\n",
    "\n",
    "#driver.quit()\n",
    "    \n",
    "  "
   ]
  },
  {
   "cell_type": "code",
   "execution_count": 5,
   "id": "7b13c8d8",
   "metadata": {},
   "outputs": [
    {
     "data": {
      "text/plain": [
       "10000"
      ]
     },
     "execution_count": 5,
     "metadata": {},
     "output_type": "execute_result"
    }
   ],
   "source": [
    "limite = 10000\n",
    "limite"
   ]
  },
  {
   "cell_type": "code",
   "execution_count": 6,
   "id": "088c7ab2",
   "metadata": {},
   "outputs": [],
   "source": [
    "lista_urls = []\n",
    "for i in range(1, int(limite), 50):\n",
    "    lista_urls.append(f\"https://www.imdb.com/search/title/?title_type=video_game&sort=user_rating,desc&start={i}&ref_=adv_nxt\")\n",
    "    "
   ]
  },
  {
   "cell_type": "code",
   "execution_count": 29,
   "id": "4a639f54",
   "metadata": {},
   "outputs": [],
   "source": [
    "lista_urls.append(\"https://www.imdb.com/search/title/?sort=user_rating,desc&title_type=game\")"
   ]
  },
  {
   "cell_type": "markdown",
   "id": "54245690",
   "metadata": {},
   "source": [
    "# obtencion de datos (bs4)"
   ]
  },
  {
   "cell_type": "code",
   "execution_count": 13,
   "id": "d4624980",
   "metadata": {},
   "outputs": [],
   "source": [
    "diccionario = {\"titulo\":[],\n",
    "              \"rating\":[],\n",
    "              \"genre\":[]}"
   ]
  },
  {
   "cell_type": "code",
   "execution_count": 18,
   "id": "cc9451ef",
   "metadata": {},
   "outputs": [
    {
     "data": {
      "text/html": [
       "<div>\n",
       "<style scoped>\n",
       "    .dataframe tbody tr th:only-of-type {\n",
       "        vertical-align: middle;\n",
       "    }\n",
       "\n",
       "    .dataframe tbody tr th {\n",
       "        vertical-align: top;\n",
       "    }\n",
       "\n",
       "    .dataframe thead th {\n",
       "        text-align: right;\n",
       "    }\n",
       "</style>\n",
       "<table border=\"1\" class=\"dataframe\">\n",
       "  <thead>\n",
       "    <tr style=\"text-align: right;\">\n",
       "      <th></th>\n",
       "      <th>0</th>\n",
       "      <th>0</th>\n",
       "      <th>0</th>\n",
       "    </tr>\n",
       "  </thead>\n",
       "  <tbody>\n",
       "  </tbody>\n",
       "</table>\n",
       "</div>"
      ],
      "text/plain": [
       "Empty DataFrame\n",
       "Columns: [0, 0, 0]\n",
       "Index: []"
      ]
     },
     "execution_count": 18,
     "metadata": {},
     "output_type": "execute_result"
    }
   ],
   "source": [
    "df_final =pd.DataFrame(columns=[0,0,0])\n",
    "\n",
    "df_final"
   ]
  },
  {
   "cell_type": "code",
   "execution_count": 10,
   "id": "df3304c5",
   "metadata": {},
   "outputs": [
    {
     "ename": "ValueError",
     "evalue": "cannot use columns parameter with orient='columns'",
     "output_type": "error",
     "traceback": [
      "\u001b[1;31m---------------------------------------------------------------------------\u001b[0m",
      "\u001b[1;31mValueError\u001b[0m                                Traceback (most recent call last)",
      "Cell \u001b[1;32mIn [10], line 23\u001b[0m\n\u001b[0;32m     20\u001b[0m     diccionario[\u001b[38;5;124m\"\u001b[39m\u001b[38;5;124mgenre\u001b[39m\u001b[38;5;124m\"\u001b[39m]\u001b[38;5;241m.\u001b[39mappend(y\u001b[38;5;241m.\u001b[39mgetText()\u001b[38;5;241m.\u001b[39msplit(\u001b[38;5;124m\"\u001b[39m\u001b[38;5;130;01m\\n\u001b[39;00m\u001b[38;5;124m\"\u001b[39m)[\u001b[38;5;241m1\u001b[39m]\u001b[38;5;241m.\u001b[39mstrip())\n\u001b[0;32m     21\u001b[0m \u001b[38;5;66;03m#df_aux = pd.DataFrame.from_dict(diccionario) \u001b[39;00m\n\u001b[1;32m---> 23\u001b[0m df_titulo \u001b[38;5;241m=\u001b[39m \u001b[43mpd\u001b[49m\u001b[38;5;241;43m.\u001b[39;49m\u001b[43mDataFrame\u001b[49m\u001b[38;5;241;43m.\u001b[39;49m\u001b[43mfrom_dict\u001b[49m\u001b[43m(\u001b[49m\u001b[43mdiccionario\u001b[49m\u001b[43m[\u001b[49m\u001b[38;5;124;43m'\u001b[39;49m\u001b[38;5;124;43mtitulo\u001b[39;49m\u001b[38;5;124;43m'\u001b[39;49m\u001b[43m]\u001b[49m\u001b[43m,\u001b[49m\u001b[43mcolumns\u001b[49m\u001b[38;5;241;43m=\u001b[39;49m\u001b[43m[\u001b[49m\u001b[38;5;124;43m\"\u001b[39;49m\u001b[38;5;124;43mtitulo\u001b[39;49m\u001b[38;5;124;43m\"\u001b[39;49m\u001b[43m]\u001b[49m\u001b[43m)\u001b[49m \n\u001b[0;32m     24\u001b[0m df_rating \u001b[38;5;241m=\u001b[39m pd\u001b[38;5;241m.\u001b[39mDataFrame\u001b[38;5;241m.\u001b[39mfrom_dict(diccionario[\u001b[38;5;124m'\u001b[39m\u001b[38;5;124mrating\u001b[39m\u001b[38;5;124m'\u001b[39m],columns\u001b[38;5;241m=\u001b[39m[\u001b[38;5;124m\"\u001b[39m\u001b[38;5;124mrating\u001b[39m\u001b[38;5;124m\"\u001b[39m]) \n\u001b[0;32m     25\u001b[0m df_genre \u001b[38;5;241m=\u001b[39m pd\u001b[38;5;241m.\u001b[39mDataFrame\u001b[38;5;241m.\u001b[39mfrom_dict(diccionario[\u001b[38;5;124m'\u001b[39m\u001b[38;5;124mgenre\u001b[39m\u001b[38;5;124m'\u001b[39m],columns\u001b[38;5;241m=\u001b[39m[\u001b[38;5;124m\"\u001b[39m\u001b[38;5;124mgenre\u001b[39m\u001b[38;5;124m\"\u001b[39m]) \n",
      "File \u001b[1;32m~\\anaconda3\\envs\\IRONHACK2022\\lib\\site-packages\\pandas\\core\\frame.py:1754\u001b[0m, in \u001b[0;36mDataFrame.from_dict\u001b[1;34m(cls, data, orient, dtype, columns)\u001b[0m\n\u001b[0;32m   1752\u001b[0m \u001b[38;5;28;01melif\u001b[39;00m orient \u001b[38;5;241m==\u001b[39m \u001b[38;5;124m\"\u001b[39m\u001b[38;5;124mcolumns\u001b[39m\u001b[38;5;124m\"\u001b[39m \u001b[38;5;129;01mor\u001b[39;00m orient \u001b[38;5;241m==\u001b[39m \u001b[38;5;124m\"\u001b[39m\u001b[38;5;124mtight\u001b[39m\u001b[38;5;124m\"\u001b[39m:\n\u001b[0;32m   1753\u001b[0m     \u001b[38;5;28;01mif\u001b[39;00m columns \u001b[38;5;129;01mis\u001b[39;00m \u001b[38;5;129;01mnot\u001b[39;00m \u001b[38;5;28;01mNone\u001b[39;00m:\n\u001b[1;32m-> 1754\u001b[0m         \u001b[38;5;28;01mraise\u001b[39;00m \u001b[38;5;167;01mValueError\u001b[39;00m(\u001b[38;5;124mf\u001b[39m\u001b[38;5;124m\"\u001b[39m\u001b[38;5;124mcannot use columns parameter with orient=\u001b[39m\u001b[38;5;124m'\u001b[39m\u001b[38;5;132;01m{\u001b[39;00morient\u001b[38;5;132;01m}\u001b[39;00m\u001b[38;5;124m'\u001b[39m\u001b[38;5;124m\"\u001b[39m)\n\u001b[0;32m   1755\u001b[0m \u001b[38;5;28;01melse\u001b[39;00m:  \u001b[38;5;66;03m# pragma: no cover\u001b[39;00m\n\u001b[0;32m   1756\u001b[0m     \u001b[38;5;28;01mraise\u001b[39;00m \u001b[38;5;167;01mValueError\u001b[39;00m(\n\u001b[0;32m   1757\u001b[0m         \u001b[38;5;124mf\u001b[39m\u001b[38;5;124m\"\u001b[39m\u001b[38;5;124mExpected \u001b[39m\u001b[38;5;124m'\u001b[39m\u001b[38;5;124mindex\u001b[39m\u001b[38;5;124m'\u001b[39m\u001b[38;5;124m, \u001b[39m\u001b[38;5;124m'\u001b[39m\u001b[38;5;124mcolumns\u001b[39m\u001b[38;5;124m'\u001b[39m\u001b[38;5;124m or \u001b[39m\u001b[38;5;124m'\u001b[39m\u001b[38;5;124mtight\u001b[39m\u001b[38;5;124m'\u001b[39m\u001b[38;5;124m for orient parameter. \u001b[39m\u001b[38;5;124m\"\u001b[39m\n\u001b[0;32m   1758\u001b[0m         \u001b[38;5;124mf\u001b[39m\u001b[38;5;124m\"\u001b[39m\u001b[38;5;124mGot \u001b[39m\u001b[38;5;124m'\u001b[39m\u001b[38;5;132;01m{\u001b[39;00morient\u001b[38;5;132;01m}\u001b[39;00m\u001b[38;5;124m'\u001b[39m\u001b[38;5;124m instead\u001b[39m\u001b[38;5;124m\"\u001b[39m\n\u001b[0;32m   1759\u001b[0m     )\n",
      "\u001b[1;31mValueError\u001b[0m: cannot use columns parameter with orient='columns'"
     ]
    }
   ],
   "source": [
    "for i in lista_urls[:2]:\n",
    "    diccionario = {\"titulo\":[],\n",
    "              \"rating\":[],\n",
    "              \"genre\":[]}\n",
    "    df_final =pd.DataFrame(diccionario,columns=[\"titulo\",\"rating\",\"genre\"])\n",
    "    url = i\n",
    "    info = requests.get(url)\n",
    "    sopa = BeautifulSoup(info.content, 'html.parser') \n",
    "\n",
    "    titulos = sopa.find_all(\"h3\",{\"class\":\"lister-item-header\"})\n",
    "    for a in titulos: \n",
    "        diccionario[\"titulo\"].append(a.getText().split(\"\\n\")[2])\n",
    "\n",
    "    Rating = sopa.find_all(\"div\",{\"class\":\"inline-block ratings-imdb-rating\"})\n",
    "    for x in Rating: \n",
    "        diccionario[\"rating\"].append(x.getText().split(\"\\n\")[2])\n",
    "\n",
    "    Genre = sopa.find_all(\"span\",{\"class\":\"genre\"})\n",
    "    for y in Genre: \n",
    "        diccionario[\"genre\"].append(y.getText().split(\"\\n\")[1].strip())\n",
    "    #df_aux = pd.DataFrame.from_dict(diccionario) \n",
    "    \n",
    "    df_titulo = pd.DataFrame.from_dict(diccionario['titulo'],columns=[\"titulo\"]) \n",
    "    df_rating = pd.DataFrame.from_dict(diccionario['rating'],columns=[\"rating\"]) \n",
    "    df_genre = pd.DataFrame.from_dict(diccionario['genre'],columns=[\"genre\"]) \n",
    "    df_aux = pd.concat([df_titulo,df_rating,df_genre], axis = 1)        \n",
    "    df_final = pd.concat([df_final,df_aux])\n",
    "df_final    "
   ]
  },
  {
   "cell_type": "code",
   "execution_count": null,
   "id": "34a806fa",
   "metadata": {},
   "outputs": [],
   "source": [
    "titulos"
   ]
  },
  {
   "cell_type": "code",
   "execution_count": null,
   "id": "1846cc8a",
   "metadata": {
    "scrolled": true
   },
   "outputs": [],
   "source": [
    "df_final =pd.DataFrame()\n",
    "url = lista_urls[0]\n",
    "info = requests.get(url)\n",
    "sopa = BeautifulSoup(info.content, 'html.parser') \n",
    "\n",
    "titulos = sopa.find_all(\"h3\",{\"class\":\"lister-item-header\"})\n",
    "for a in titulos: \n",
    "    diccionario[\"titulo\"].append(a.getText().split(\"\\n\")[2])\n",
    "\n",
    "Rating = sopa.find_all(\"div\",{\"class\":\"inline-block ratings-imdb-rating\"})\n",
    "for x in Rating: \n",
    "    diccionario[\"rating\"].append(x.getText().split(\"\\n\")[2])\n",
    "\n",
    "Genre = sopa.find_all(\"span\",{\"class\":\"genre\"})\n",
    "for y in Genre: \n",
    "    diccionario[\"genre\"].append(y.getText().split(\"\\n\")[1].strip())\n",
    "\n",
    "df_titulo = pd.DataFrame.from_dict(diccionario['titulo'] ) \n",
    "df_rating = pd.DataFrame.from_dict(diccionario['rating']) \n",
    "df_genre = pd.DataFrame.from_dict(diccionario['genre'] ) \n",
    "df_aux = pd.concat([df_titulo,df_rating,df_genre], axis = 1)        \n",
    "df_aux"
   ]
  },
  {
   "cell_type": "code",
   "execution_count": 21,
   "id": "b4303f81",
   "metadata": {},
   "outputs": [
    {
     "data": {
      "text/html": [
       "<div>\n",
       "<style scoped>\n",
       "    .dataframe tbody tr th:only-of-type {\n",
       "        vertical-align: middle;\n",
       "    }\n",
       "\n",
       "    .dataframe tbody tr th {\n",
       "        vertical-align: top;\n",
       "    }\n",
       "\n",
       "    .dataframe thead th {\n",
       "        text-align: right;\n",
       "    }\n",
       "</style>\n",
       "<table border=\"1\" class=\"dataframe\">\n",
       "  <thead>\n",
       "    <tr style=\"text-align: right;\">\n",
       "      <th></th>\n",
       "      <th>0</th>\n",
       "      <th>0</th>\n",
       "      <th>0</th>\n",
       "    </tr>\n",
       "  </thead>\n",
       "  <tbody>\n",
       "  </tbody>\n",
       "</table>\n",
       "</div>"
      ],
      "text/plain": [
       "Empty DataFrame\n",
       "Columns: [0, 0, 0]\n",
       "Index: []"
      ]
     },
     "execution_count": 21,
     "metadata": {},
     "output_type": "execute_result"
    }
   ],
   "source": [
    "pd.DataFrame(columns=[0,0,0])\n"
   ]
  },
  {
   "cell_type": "code",
   "execution_count": null,
   "id": "cebc3849",
   "metadata": {},
   "outputs": [],
   "source": [
    "df_final =pd.DataFrame(columns=[0,0,0])\n",
    "\n",
    "\n",
    "for i in lista_urls:\n",
    "    diccionario = {\"titulo\":[],\n",
    "                  \"rating\":[],\n",
    "                  \"genre\":[]}\n",
    "    #df_final =pd.DataFrame(columns=[\"titulo\",\"rating\",\"genre\"])\n",
    "    url = lista_urls[1]\n",
    "    info = requests.get(url)\n",
    "    sopa = BeautifulSoup(info.content, 'html.parser') \n",
    "\n",
    "    titulos = sopa.find_all(\"h3\",{\"class\":\"lister-item-header\"})\n",
    "    for a in titulos: \n",
    "        diccionario[\"titulo\"].append(a.getText().split(\"\\n\")[2])\n",
    "\n",
    "    Rating = sopa.find_all(\"div\",{\"class\":\"inline-block ratings-imdb-rating\"})\n",
    "    for x in Rating: \n",
    "        diccionario[\"rating\"].append(x.getText().split(\"\\n\")[2])\n",
    "\n",
    "    Genre = sopa.find_all(\"span\",{\"class\":\"genre\"})\n",
    "    for y in Genre: \n",
    "        diccionario[\"genre\"].append(y.getText().split(\"\\n\")[1].strip())\n",
    "\n",
    "    df_titulo = pd.DataFrame.from_dict(diccionario['titulo']) \n",
    "    df_rating = pd.DataFrame.from_dict(diccionario['rating']) \n",
    "    df_genre = pd.DataFrame.from_dict(diccionario['genre']) \n",
    "    df_aux = pd.concat([df_titulo,df_rating,df_genre], axis = 1)        \n",
    "    df_final = pd.concat([df_final,df_aux], axis = 0)    \n",
    "df_final"
   ]
  },
  {
   "cell_type": "code",
   "execution_count": 39,
   "id": "6c5e5dd6",
   "metadata": {},
   "outputs": [],
   "source": [
    "df_final.drop([\"level_0\"],axis = 1, inplace = True)"
   ]
  },
  {
   "cell_type": "code",
   "execution_count": 41,
   "id": "456385d7",
   "metadata": {},
   "outputs": [
    {
     "data": {
      "text/plain": [
       "Index(['index', 0, 0, 0], dtype='object')"
      ]
     },
     "execution_count": 41,
     "metadata": {},
     "output_type": "execute_result"
    }
   ],
   "source": [
    "df_final.columns"
   ]
  },
  {
   "cell_type": "code",
   "execution_count": 43,
   "id": "b3764045",
   "metadata": {},
   "outputs": [],
   "source": [
    "df_final.columns = [\"index\",\"title\",\"rating\",\"genre\"]"
   ]
  },
  {
   "cell_type": "code",
   "execution_count": 44,
   "id": "94785590",
   "metadata": {},
   "outputs": [
    {
     "data": {
      "text/plain": [
       "Index(['index', 'title', 'rating', 'genre'], dtype='object')"
      ]
     },
     "execution_count": 44,
     "metadata": {},
     "output_type": "execute_result"
    }
   ],
   "source": [
    "df_final.columns"
   ]
  },
  {
   "cell_type": "code",
   "execution_count": 49,
   "id": "d0f2d5cc",
   "metadata": {
    "scrolled": true
   },
   "outputs": [
    {
     "data": {
      "text/html": [
       "<div>\n",
       "<style scoped>\n",
       "    .dataframe tbody tr th:only-of-type {\n",
       "        vertical-align: middle;\n",
       "    }\n",
       "\n",
       "    .dataframe tbody tr th {\n",
       "        vertical-align: top;\n",
       "    }\n",
       "\n",
       "    .dataframe thead th {\n",
       "        text-align: right;\n",
       "    }\n",
       "</style>\n",
       "<table border=\"1\" class=\"dataframe\">\n",
       "  <thead>\n",
       "    <tr style=\"text-align: right;\">\n",
       "      <th></th>\n",
       "      <th>title</th>\n",
       "      <th>rating</th>\n",
       "      <th>genre</th>\n",
       "    </tr>\n",
       "  </thead>\n",
       "  <tbody>\n",
       "    <tr>\n",
       "      <th>0</th>\n",
       "      <td>Monkey Island 2: LeChuck's Revenge</td>\n",
       "      <td>9.3</td>\n",
       "      <td>Adventure, Comedy, Fantasy</td>\n",
       "    </tr>\n",
       "    <tr>\n",
       "      <th>1</th>\n",
       "      <td>Kingdom Hearts HD 2.5 Remix</td>\n",
       "      <td>9.3</td>\n",
       "      <td>Action, Adventure, Family</td>\n",
       "    </tr>\n",
       "    <tr>\n",
       "      <th>2</th>\n",
       "      <td>The Legend of Zelda: Ocarina of Time 3D</td>\n",
       "      <td>9.3</td>\n",
       "      <td>Action, Adventure, Family</td>\n",
       "    </tr>\n",
       "    <tr>\n",
       "      <th>3</th>\n",
       "      <td>Dofus</td>\n",
       "      <td>9.3</td>\n",
       "      <td>Adventure</td>\n",
       "    </tr>\n",
       "    <tr>\n",
       "      <th>4</th>\n",
       "      <td>Kingdom Hearts HD 1.5 + 2.5 Remix</td>\n",
       "      <td>9.3</td>\n",
       "      <td>Action, Adventure, Family</td>\n",
       "    </tr>\n",
       "    <tr>\n",
       "      <th>...</th>\n",
       "      <td>...</td>\n",
       "      <td>...</td>\n",
       "      <td>...</td>\n",
       "    </tr>\n",
       "    <tr>\n",
       "      <th>10045</th>\n",
       "      <td>Horizon: Forbidden West</td>\n",
       "      <td>9.1</td>\n",
       "      <td>Action, Adventure, Fantasy</td>\n",
       "    </tr>\n",
       "    <tr>\n",
       "      <th>10046</th>\n",
       "      <td>God of War</td>\n",
       "      <td>9.1</td>\n",
       "      <td>Action, Adventure, Drama</td>\n",
       "    </tr>\n",
       "    <tr>\n",
       "      <th>10047</th>\n",
       "      <td>God of War III</td>\n",
       "      <td>9.1</td>\n",
       "      <td>Action, Adventure, Drama</td>\n",
       "    </tr>\n",
       "    <tr>\n",
       "      <th>10048</th>\n",
       "      <td>Mass Effect</td>\n",
       "      <td>9.1</td>\n",
       "      <td>NaN</td>\n",
       "    </tr>\n",
       "    <tr>\n",
       "      <th>10049</th>\n",
       "      <td>Mass Effect 3</td>\n",
       "      <td>9.1</td>\n",
       "      <td>NaN</td>\n",
       "    </tr>\n",
       "  </tbody>\n",
       "</table>\n",
       "<p>10050 rows × 3 columns</p>\n",
       "</div>"
      ],
      "text/plain": [
       "                                         title rating  \\\n",
       "0           Monkey Island 2: LeChuck's Revenge    9.3   \n",
       "1                  Kingdom Hearts HD 2.5 Remix    9.3   \n",
       "2      The Legend of Zelda: Ocarina of Time 3D    9.3   \n",
       "3                                        Dofus    9.3   \n",
       "4            Kingdom Hearts HD 1.5 + 2.5 Remix    9.3   \n",
       "...                                        ...    ...   \n",
       "10045                  Horizon: Forbidden West    9.1   \n",
       "10046                               God of War    9.1   \n",
       "10047                           God of War III    9.1   \n",
       "10048                              Mass Effect    9.1   \n",
       "10049                            Mass Effect 3    9.1   \n",
       "\n",
       "                            genre  \n",
       "0      Adventure, Comedy, Fantasy  \n",
       "1       Action, Adventure, Family  \n",
       "2       Action, Adventure, Family  \n",
       "3                       Adventure  \n",
       "4       Action, Adventure, Family  \n",
       "...                           ...  \n",
       "10045  Action, Adventure, Fantasy  \n",
       "10046    Action, Adventure, Drama  \n",
       "10047    Action, Adventure, Drama  \n",
       "10048                         NaN  \n",
       "10049                         NaN  \n",
       "\n",
       "[10050 rows x 3 columns]"
      ]
     },
     "execution_count": 49,
     "metadata": {},
     "output_type": "execute_result"
    }
   ],
   "source": [
    "df_final"
   ]
  },
  {
   "cell_type": "code",
   "execution_count": 53,
   "id": "31d352e0",
   "metadata": {},
   "outputs": [],
   "source": [
    "url = \"https://www.imdb.com/search/title/?sort=user_rating,desc&title_type=game\"\n",
    "info = requests.get(url)\n",
    "sopa = BeautifulSoup(info.content, 'html.parser') "
   ]
  },
  {
   "cell_type": "code",
   "execution_count": 58,
   "id": "4f7a7517",
   "metadata": {},
   "outputs": [],
   "source": [
    "dicc2 = {\"titulo\":[],\n",
    "          \"rating\":[],\n",
    "        \"genre\":[]}"
   ]
  },
  {
   "cell_type": "code",
   "execution_count": 59,
   "id": "043aedd4",
   "metadata": {},
   "outputs": [],
   "source": [
    "titulos = sopa.find_all(\"h3\",{\"class\":\"lister-item-header\"})\n",
    "for a in titulos: \n",
    "    dicc2[\"titulo\"].append(a.getText().split(\"\\n\")[2])"
   ]
  },
  {
   "cell_type": "code",
   "execution_count": 61,
   "id": "24aced96",
   "metadata": {},
   "outputs": [
    {
     "data": {
      "text/plain": [
       "{'titulo': ['The Last of Us: Part I',\n",
       "  'Wiedzmin 3: Dziki Gon Krew i wino',\n",
       "  'God of War: Ragnarök',\n",
       "  'The Last of Us',\n",
       "  'Red Dead Redemption II',\n",
       "  'Wiedzmin 3: Dziki Gon',\n",
       "  'God of War',\n",
       "  'Mass Effect: Legendary Edition',\n",
       "  'Metal Gear Solid',\n",
       "  'The Legend of Zelda: Ocarina of Time',\n",
       "  'Grand Theft Auto V',\n",
       "  \"Uncharted 4: A Thief's End\",\n",
       "  'Red Dead Redemption',\n",
       "  'Mass Effect 2',\n",
       "  'Perusona 5: Za roiyaru',\n",
       "  'Metal Gear Solid 3: Snake Eater',\n",
       "  'Star Wars: Knights of the Old Republic',\n",
       "  'Fainaru fantajî VII',\n",
       "  'Wiedzmin 3: Dziki Gon - Serca z kamienia',\n",
       "  'Fallout 2: A Post-Nuclear Role-Playing Game',\n",
       "  'Chrono Trigger',\n",
       "  'Metal Gear Solid 3: Subsistence',\n",
       "  'Elden Ring',\n",
       "  'Grand Theft Auto: San Andreas',\n",
       "  'The Elder Scrolls V: Skyrim',\n",
       "  'Batman: Arkham City',\n",
       "  'Uncharted 2: El reino de los ladrones',\n",
       "  'The Legend of Zelda: Breath of the Wild',\n",
       "  'Portal 2',\n",
       "  'Half-Life 2',\n",
       "  'Half-Life: Alyx',\n",
       "  'Silent Hill 2',\n",
       "  'Metal Gear Solid 4: Guns of the Patriots',\n",
       "  'Uncharted: The Nathan Drake Collection',\n",
       "  'Uncharted: Legacy of Thieves Collection',\n",
       "  'Bloodborne: The Old Hunters',\n",
       "  \"Forgotten Realms: Baldur's Gate II - Shadows of Amn\",\n",
       "  'Planescape: Torment',\n",
       "  'Batman: Arkham Collection',\n",
       "  'Persona 5',\n",
       "  'Bloodborne',\n",
       "  'Kingdom Hearts II',\n",
       "  'P.T.',\n",
       "  'Fire Emblem: Engage',\n",
       "  'Disco Elysium - The Final Cut',\n",
       "  'Wanda to kyozô',\n",
       "  'The Secret of Monkey Island',\n",
       "  'The Legend of Zelda: A Link to the Past',\n",
       "  'Kingdom Hearts II: Final Mix+',\n",
       "  'Burnhouse Lane'],\n",
       " 'rating': [],\n",
       " 'genre': []}"
      ]
     },
     "execution_count": 61,
     "metadata": {},
     "output_type": "execute_result"
    }
   ],
   "source": [
    "dicc2"
   ]
  },
  {
   "cell_type": "code",
   "execution_count": 63,
   "id": "549e5834",
   "metadata": {},
   "outputs": [],
   "source": [
    "rating = sopa.find_all(\"div\",{\"class\":\"inline-block ratings-imdb-rating\"})\n",
    "\n",
    "for x in Rating: \n",
    "    dicc2[\"rating\"].append(x.getText().split(\"\\n\")[2])"
   ]
  },
  {
   "cell_type": "code",
   "execution_count": 64,
   "id": "3a445173",
   "metadata": {},
   "outputs": [],
   "source": [
    "genre = sopa.find_all(\"span\",{\"class\":\"genre\"})\n",
    "for y in Genre: \n",
    "    dicc2[\"genre\"].append(y.getText().split(\"\\n\")[1].strip())\n"
   ]
  },
  {
   "cell_type": "code",
   "execution_count": 65,
   "id": "c2fa15a9",
   "metadata": {},
   "outputs": [
    {
     "data": {
      "text/plain": [
       "{'titulo': ['The Last of Us: Part I',\n",
       "  'Wiedzmin 3: Dziki Gon Krew i wino',\n",
       "  'God of War: Ragnarök',\n",
       "  'The Last of Us',\n",
       "  'Red Dead Redemption II',\n",
       "  'Wiedzmin 3: Dziki Gon',\n",
       "  'God of War',\n",
       "  'Mass Effect: Legendary Edition',\n",
       "  'Metal Gear Solid',\n",
       "  'The Legend of Zelda: Ocarina of Time',\n",
       "  'Grand Theft Auto V',\n",
       "  \"Uncharted 4: A Thief's End\",\n",
       "  'Red Dead Redemption',\n",
       "  'Mass Effect 2',\n",
       "  'Perusona 5: Za roiyaru',\n",
       "  'Metal Gear Solid 3: Snake Eater',\n",
       "  'Star Wars: Knights of the Old Republic',\n",
       "  'Fainaru fantajî VII',\n",
       "  'Wiedzmin 3: Dziki Gon - Serca z kamienia',\n",
       "  'Fallout 2: A Post-Nuclear Role-Playing Game',\n",
       "  'Chrono Trigger',\n",
       "  'Metal Gear Solid 3: Subsistence',\n",
       "  'Elden Ring',\n",
       "  'Grand Theft Auto: San Andreas',\n",
       "  'The Elder Scrolls V: Skyrim',\n",
       "  'Batman: Arkham City',\n",
       "  'Uncharted 2: El reino de los ladrones',\n",
       "  'The Legend of Zelda: Breath of the Wild',\n",
       "  'Portal 2',\n",
       "  'Half-Life 2',\n",
       "  'Half-Life: Alyx',\n",
       "  'Silent Hill 2',\n",
       "  'Metal Gear Solid 4: Guns of the Patriots',\n",
       "  'Uncharted: The Nathan Drake Collection',\n",
       "  'Uncharted: Legacy of Thieves Collection',\n",
       "  'Bloodborne: The Old Hunters',\n",
       "  \"Forgotten Realms: Baldur's Gate II - Shadows of Amn\",\n",
       "  'Planescape: Torment',\n",
       "  'Batman: Arkham Collection',\n",
       "  'Persona 5',\n",
       "  'Bloodborne',\n",
       "  'Kingdom Hearts II',\n",
       "  'P.T.',\n",
       "  'Fire Emblem: Engage',\n",
       "  'Disco Elysium - The Final Cut',\n",
       "  'Wanda to kyozô',\n",
       "  'The Secret of Monkey Island',\n",
       "  'The Legend of Zelda: A Link to the Past',\n",
       "  'Kingdom Hearts II: Final Mix+',\n",
       "  'Burnhouse Lane'],\n",
       " 'rating': ['9.3',\n",
       "  '9.3',\n",
       "  '9.3',\n",
       "  '9.3',\n",
       "  '9.3',\n",
       "  '9.3',\n",
       "  '9.3',\n",
       "  '9.2',\n",
       "  '9.2',\n",
       "  '9.2',\n",
       "  '9.2',\n",
       "  '9.2',\n",
       "  '9.2',\n",
       "  '9.2',\n",
       "  '9.2',\n",
       "  '9.2',\n",
       "  '9.2',\n",
       "  '9.2',\n",
       "  '9.2',\n",
       "  '9.2',\n",
       "  '9.2',\n",
       "  '9.2',\n",
       "  '9.2',\n",
       "  '9.2',\n",
       "  '9.2',\n",
       "  '9.2',\n",
       "  '9.2',\n",
       "  '9.2',\n",
       "  '9.2',\n",
       "  '9.2',\n",
       "  '9.2',\n",
       "  '9.2',\n",
       "  '9.2',\n",
       "  '9.2',\n",
       "  '9.2',\n",
       "  '9.2',\n",
       "  '9.2',\n",
       "  '9.2',\n",
       "  '9.2',\n",
       "  '9.2',\n",
       "  '9.2',\n",
       "  '9.2',\n",
       "  '9.2',\n",
       "  '9.2',\n",
       "  '9.2',\n",
       "  '9.1',\n",
       "  '9.1',\n",
       "  '9.1',\n",
       "  '9.1',\n",
       "  '9.1'],\n",
       " 'genre': ['Adventure, Comedy, Fantasy',\n",
       "  'Action, Adventure, Family',\n",
       "  'Action, Adventure, Family',\n",
       "  'Adventure',\n",
       "  'Action, Adventure, Family',\n",
       "  'Comedy, Horror',\n",
       "  'Animation, Action, Fantasy',\n",
       "  'Action, Adventure, Drama',\n",
       "  'Action, Adventure, Fantasy',\n",
       "  'Action, Adventure, Drama',\n",
       "  'Action, Crime, Drama',\n",
       "  'Adventure, Comedy, Drama',\n",
       "  'Action, Adventure, Fantasy',\n",
       "  'Action, Adventure, Fantasy',\n",
       "  'Action, Adventure, Crime',\n",
       "  'Drama, Horror, Sci-Fi',\n",
       "  'Action, Adventure, Family',\n",
       "  'Action, Crime, Drama',\n",
       "  'Action, Sci-Fi, Thriller',\n",
       "  'Action, Crime, Drama',\n",
       "  'Action, Adventure, Sci-Fi',\n",
       "  'Action, Adventure, Crime',\n",
       "  'Action, Adventure, Drama',\n",
       "  'Drama, Horror, Thriller',\n",
       "  'Action, Adventure, Fantasy',\n",
       "  'Adventure, Comedy, Crime',\n",
       "  'Action, Adventure, Comedy',\n",
       "  'Action, Adventure, Family',\n",
       "  'Action, Adventure, Family',\n",
       "  'Action, Adventure, Sci-Fi',\n",
       "  'Action, Drama, Fantasy',\n",
       "  'Action, Fantasy',\n",
       "  'Action, Adventure, Fantasy',\n",
       "  'Action, Adventure, Drama',\n",
       "  'Action, Adventure, Drama',\n",
       "  'Action, Sci-Fi, Thriller',\n",
       "  'Action, Adventure, Comedy',\n",
       "  'Music, Musical',\n",
       "  'Action, Horror, Sci-Fi',\n",
       "  'Animation, Action, Adventure',\n",
       "  'Adventure, Horror, Mystery',\n",
       "  'Action, Adventure',\n",
       "  'Short',\n",
       "  'Action, Adventure, Sci-Fi',\n",
       "  'Action, Adventure, Fantasy',\n",
       "  'Action, Adventure, Fantasy',\n",
       "  'Action, Adventure, Drama',\n",
       "  'Action, Adventure, Drama']}"
      ]
     },
     "execution_count": 65,
     "metadata": {},
     "output_type": "execute_result"
    }
   ],
   "source": [
    "dicc2"
   ]
  },
  {
   "cell_type": "code",
   "execution_count": null,
   "id": "f3da413c",
   "metadata": {},
   "outputs": [],
   "source": []
  }
 ],
 "metadata": {
  "kernelspec": {
   "display_name": "IRONHACK2022",
   "language": "python",
   "name": "ironhack2022"
  },
  "language_info": {
   "codemirror_mode": {
    "name": "ipython",
    "version": 3
   },
   "file_extension": ".py",
   "mimetype": "text/x-python",
   "name": "python",
   "nbconvert_exporter": "python",
   "pygments_lexer": "ipython3",
   "version": "3.9.13"
  }
 },
 "nbformat": 4,
 "nbformat_minor": 5
}

{
 "cells": [
  {
   "cell_type": "markdown",
   "id": "a7e60146",
   "metadata": {},
   "source": [
    "Vamos a crear 4 tablas\n",
    "-top 10 juegos más jugados\n",
    "-top 10 juegos mejor valorados\n",
    "-qué porcentaje de juegos han sido desarrollados por la propia plataforma \n",
    "-de los juegos creados por Valve, cuales son los mejores valorados y los más jugados ?\n",
    "-Prefieren los jugadores los titulos 4 o más años de antiguedad ante las nuevas ofertas ? "
   ]
  },
  {
   "cell_type": "code",
   "execution_count": null,
   "id": "f6f21786",
   "metadata": {},
   "outputs": [],
   "source": []
  }
 ],
 "metadata": {
  "kernelspec": {
   "display_name": "IRONHACK2022",
   "language": "python",
   "name": "ironhack2022"
  },
  "language_info": {
   "codemirror_mode": {
    "name": "ipython",
    "version": 3
   },
   "file_extension": ".py",
   "mimetype": "text/x-python",
   "name": "python",
   "nbconvert_exporter": "python",
   "pygments_lexer": "ipython3",
   "version": "3.9.13"
  }
 },
 "nbformat": 4,
 "nbformat_minor": 5
}

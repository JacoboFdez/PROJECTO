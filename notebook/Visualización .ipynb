{
 "cells": [
  {
   "cell_type": "markdown",
   "id": "a7e60146",
   "metadata": {},
   "source": [
    "Vamos a crear 4 tablas\n",
    "-top 10 juegos más jugados\n",
    "-top 10 juegos mejor valorados\n",
    "-qué porcentaje de juegos han sido desarrollados por la propia plataforma \n",
    "-de los juegos creados por Valve, cuales son los mejores valorados y los más jugados ?\n",
    "-Prefieren los jugadores los titulos 4 o más años de antiguedad ante las nuevas ofertas ? "
   ]
  },
  {
   "cell_type": "code",
   "execution_count": null,
   "id": "8181cc80",
   "metadata": {},
   "outputs": [],
   "source": []
  },
  {
   "cell_type": "code",
   "execution_count": null,
   "id": "71cb01a9",
   "metadata": {},
   "outputs": [],
   "source": []
  },
  {
   "cell_type": "code",
   "execution_count": null,
   "id": "a638831c",
   "metadata": {},
   "outputs": [],
   "source": [
    "import matplotlib.pyplot as plt\n",
    "import seaborn as sns\n",
    "%matplotlib inline"
   ]
  },
  {
   "cell_type": "code",
   "execution_count": null,
   "id": "96f7795e",
   "metadata": {},
   "outputs": [],
   "source": [
    "def generate_cloud_normal(column, filename):\n",
    "\n",
    "    text = \" \".join(cat for cat in df_hours[column])\n",
    "\n",
    "    word_cloud = WordCloud(\n",
    "        width=7000,\n",
    "        height=2000,\n",
    "        background_color=\"black\",\n",
    "        colormap=\"OrRd\",\n",
    "        collocations=True,\n",
    "        stopwords=STOPWORDS,\n",
    "        ).generate(text)\n",
    "\n",
    "    plt.imshow(word_cloud)\n",
    "    plt.axis(\"off\")\n",
    "\n",
    "    \n",
    "    plt.show()\n",
    "\n",
    "    word_cloud.to_file(f'data/{filename}.png')"
   ]
  },
  {
   "cell_type": "code",
   "execution_count": null,
   "id": "5b814c99",
   "metadata": {},
   "outputs": [],
   "source": [
    "generate_cloud_normal(\"\\nName\", \"Hours Played\" )"
   ]
  },
  {
   "cell_type": "code",
   "execution_count": null,
   "id": "79913f0d",
   "metadata": {},
   "outputs": [],
   "source": [
    "top10Players=df_hours.sort_values(by='Peak No. of Players ',ascending=False).head(10)\n",
    "top10Players"
   ]
  },
  {
   "cell_type": "code",
   "execution_count": null,
   "id": "25776a06",
   "metadata": {},
   "outputs": [],
   "source": []
  },
  {
   "cell_type": "code",
   "execution_count": null,
   "id": "f6f21786",
   "metadata": {},
   "outputs": [],
   "source": [
    "#TOP JUEGOS POR  NÚMERO DE JUGADORES \n",
    "Max10Play = df_hours.sort_values(by='Peak No. of Players ',ascending=False).head(10)\n",
    "Max10Play"
   ]
  }
 ],
 "metadata": {
  "kernelspec": {
   "display_name": "IRONHACK2022",
   "language": "python",
   "name": "ironhack2022"
  },
  "language_info": {
   "codemirror_mode": {
    "name": "ipython",
    "version": 3
   },
   "file_extension": ".py",
   "mimetype": "text/x-python",
   "name": "python",
   "nbconvert_exporter": "python",
   "pygments_lexer": "ipython3",
   "version": "3.9.13"
  }
 },
 "nbformat": 4,
 "nbformat_minor": 5
}

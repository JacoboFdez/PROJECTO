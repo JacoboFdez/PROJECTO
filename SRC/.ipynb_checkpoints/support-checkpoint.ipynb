{
 "cells": [
  {
   "cell_type": "code",
   "execution_count": 2,
   "id": "0af9bb7f",
   "metadata": {},
   "outputs": [],
   "source": [
    "import pandas as pd\n",
    "import numpy as np"
   ]
  },
  {
   "cell_type": "code",
   "execution_count": 4,
   "id": "8a7e16bb",
   "metadata": {},
   "outputs": [],
   "source": [
    "def porcentaje_nulos(a):\n",
    "    return (a.isnull().sum() / a.shape[0] * 100).reset_index()"
   ]
  },
  {
   "cell_type": "code",
   "execution_count": 5,
   "id": "61480f7d",
   "metadata": {},
   "outputs": [],
   "source": [
    "def borrar_duplicados(a):\n",
    "    return (a).drop_duplicates()\n",
    "    "
   ]
  },
  {
   "cell_type": "code",
   "execution_count": 16,
   "id": "4fa96eea",
   "metadata": {},
   "outputs": [],
   "source": [
    "def informacion(a):\n",
    "    print(\"shape:\",a.shape)\n",
    "    print(\"description:\",a.describe().T)\n",
    "    print(\"null:\",a.isnull().sum())"
   ]
  },
  {
   "cell_type": "code",
   "execution_count": null,
   "id": "b2f8a209",
   "metadata": {},
   "outputs": [],
   "source": []
  }
 ],
 "metadata": {
  "kernelspec": {
   "display_name": "IRONHACK2022",
   "language": "python",
   "name": "ironhack2022"
  },
  "language_info": {
   "codemirror_mode": {
    "name": "ipython",
    "version": 3
   },
   "file_extension": ".py",
   "mimetype": "text/x-python",
   "name": "python",
   "nbconvert_exporter": "python",
   "pygments_lexer": "ipython3",
   "version": "3.9.13"
  }
 },
 "nbformat": 4,
 "nbformat_minor": 5
}

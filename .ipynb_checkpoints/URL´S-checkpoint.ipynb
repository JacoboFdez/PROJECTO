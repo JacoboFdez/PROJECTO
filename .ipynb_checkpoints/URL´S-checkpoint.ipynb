{
 "cells": [
  {
   "cell_type": "code",
   "execution_count": 8,
   "id": "6f882601",
   "metadata": {},
   "outputs": [],
   "source": [
    "import requests\n",
    "import pandas as pd\n",
    "from time import sleep\n",
    "import numpy as np\n",
    "import re\n",
    "\n",
    "from bs4 import BeautifulSoup\n",
    "from selenium import webdriver\n",
    "from webdriver_manager.chrome import ChromeDriverManager\n",
    "from selenium.webdriver.common.keys import Keys\n",
    "from selenium.webdriver.chrome.options import Options\n",
    "\n",
    "\n",
    "\n",
    "\n",
    "import warnings\n",
    "warnings.filterwarnings('ignore')"
   ]
  },
  {
   "cell_type": "code",
   "execution_count": 9,
   "id": "0750e56d",
   "metadata": {},
   "outputs": [],
   "source": [
    "opciones= Options()\n",
    "opciones.add_experimental_option('excludeSwitches', ['enable-automation'])\n",
    "opciones.add_experimental_option('useAutomationExtension', False)\n",
    "opciones.add_argument('--start-maximized')\n",
    "opciones.add_argument('user.data-dir=selenium') \n",
    "opciones.add_argument('--incognito')"
   ]
  },
  {
   "cell_type": "code",
   "execution_count": 10,
   "id": "93a3fa64",
   "metadata": {},
   "outputs": [],
   "source": [
    "##"
   ]
  },
  {
   "cell_type": "code",
   "execution_count": 14,
   "id": "5d9f41e8",
   "metadata": {},
   "outputs": [
    {
     "name": "stdout",
     "output_type": "stream",
     "text": [
      "The current url is:https://www.imdb.com/search/title/?title_type=video_game&sort=user_rating,desc&ref_\n",
      "The current url is:https://www.imdb.com/search/title/?title_type=video_game&sort=user_rating,desc&start=51&ref_=adv_nxt\n",
      "The current url is:https://www.imdb.com/search/title/?title_type=video_game&sort=user_rating,desc&start=51&ref_=adv_nxt\n"
     ]
    }
   ],
   "source": [
    "lista_url = []\n",
    "driver = webdriver.Chrome(ChromeDriverManager().install())\n",
    "data = driver.get(\"https://www.imdb.com/search/title/?title_type=video_game&sort=user_rating,desc&ref_\")\n",
    "driver.implicitly_wait(3)\n",
    "print(\"The current url is:\"+str(driver.current_url))\n",
    "\n",
    "driver.find_element(\"xpath\",'//*[@id=\"main\"]/div/div[1]/div[2]/a').click()\n",
    "print(\"The current url is:\"+str(driver.current_url))\n",
    "\n",
    "try:        \n",
    "    print(\"The current url is:\"+str(driver.current_url))\n",
    "    lista_url.append(str(driver.current_url))\n",
    "    driver.find_element(\"xpath\",'//*[@id=\"main\"]/div/div[1]/div[2]/a[2]').click()\n",
    "except:\n",
    "    pass\n",
    "\n",
    "#driver.quit()\n",
    "    \n",
    "  "
   ]
  },
  {
   "cell_type": "code",
   "execution_count": null,
   "id": "47c28adc",
   "metadata": {},
   "outputs": [],
   "source": [
    "#main > div > div.nav > div.desc > a.lister-page-next.next-page"
   ]
  },
  {
   "cell_type": "code",
   "execution_count": null,
   "id": "c863a4bd",
   "metadata": {},
   "outputs": [],
   "source": [
    "result_list = []\n",
    "\n",
    "for i in url_list[:3]: \n",
    "    driver.get(i)\n",
    "    try:\n",
    "        sleep(5)\n",
    "        driver.find_element_by_css_selector('#truste-consent-button').click()\n",
    "        sleep(2)\n",
    "        resultado = driver.find_element_by_css_selector(\"#inner-content > div.region-content-main > div.row > div:nth-child(5) > div:nth-child(1) > div > lib-city-history-observation > div > div.observation-table.ng-star-inserted\").text\n",
    "        result_list.append(resultado)\n",
    "    except: \n",
    "        sleep(5)\n",
    "        resultado = driver.find_element_by_css_selector(\"#inner-content > div.region-content-main > div.row > div:nth-child(5) > div:nth-child(1) > div > lib-city-history-observation > div > div.observation-table.ng-star-inserted\").text\n",
    "        result_list.append(resultado)\n",
    "driver.quit()"
   ]
  },
  {
   "cell_type": "code",
   "execution_count": null,
   "id": "37afb592",
   "metadata": {},
   "outputs": [],
   "source": []
  }
 ],
 "metadata": {
  "kernelspec": {
   "display_name": "IRONHACK2022",
   "language": "python",
   "name": "ironhack2022"
  },
  "language_info": {
   "codemirror_mode": {
    "name": "ipython",
    "version": 3
   },
   "file_extension": ".py",
   "mimetype": "text/x-python",
   "name": "python",
   "nbconvert_exporter": "python",
   "pygments_lexer": "ipython3",
   "version": "3.9.13"
  }
 },
 "nbformat": 4,
 "nbformat_minor": 5
}

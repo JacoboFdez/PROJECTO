{
 "cells": [
  {
   "cell_type": "markdown",
   "id": "4b59dfde",
   "metadata": {},
   "source": [
    "\n",
    "# Intentaremos usar selenium para scrapear la pagina de IMBD de videojuegos"
   ]
  },
  {
   "cell_type": "code",
   "execution_count": 2,
   "id": "d5d62994",
   "metadata": {},
   "outputs": [],
   "source": [
    "import requests\n",
    "import pandas as pd\n",
    "from time import sleep\n",
    "import numpy as np\n",
    "\n",
    "\n",
    "from selenium import webdriver\n",
    "from webdriver_manager.chrome import ChromeDriverManager\n",
    "from selenium.webdriver.common.keys import Keys\n",
    "from selenium.webdriver.chrome.options import Options\n",
    "\n",
    "\n",
    "\n",
    "\n",
    "import warnings\n",
    "warnings.filterwarnings('ignore')"
   ]
  },
  {
   "cell_type": "code",
   "execution_count": 3,
   "id": "4e485404",
   "metadata": {},
   "outputs": [],
   "source": [
    "opciones= Options()\n",
    "opciones.add_experimental_option('excludeSwitches', ['enable-automation'])\n",
    "opciones.add_experimental_option('useAutomationExtension', False)\n",
    "opciones.add_argument('--start-maximized')\n",
    "opciones.add_argument('user.data-dir=selenium') \n",
    "opciones.add_argument('--incognito')"
   ]
  },
  {
   "cell_type": "markdown",
   "id": "9c7ef4c1",
   "metadata": {},
   "source": [
    "# INFORMACIÓN DE RATING "
   ]
  },
  {
   "cell_type": "code",
   "execution_count": null,
   "id": "2b5017df",
   "metadata": {},
   "outputs": [],
   "source": []
  },
  {
   "cell_type": "code",
   "execution_count": 18,
   "id": "85a07406",
   "metadata": {},
   "outputs": [],
   "source": [
    "driver = webdriver.Chrome(ChromeDriverManager().install())\n",
    "\n",
    "\n",
    "driver.get(\"https://www.imdb.com/search/title/?sort=user_rating,desc&title_type=game\")\n",
    "driver.implicitly_wait(3)\n",
    "driver.find_element(\"xpath\",'//*[@id=\"main\"]/div/div[3]/div/div[1]/div[3]/h3/a').click()\n",
    "\n",
    "\n",
    "\n",
    "resultado_puntuacion = driver.find_element(\"xpath\",'//*[@id=\"__next\"]/main/div/section[1]/section/div[3]/section/section/div[2]/div[2]/div/div[1]').text"
   ]
  },
  {
   "cell_type": "code",
   "execution_count": 19,
   "id": "5fd943f9",
   "metadata": {},
   "outputs": [
    {
     "data": {
      "text/plain": [
       "''"
      ]
     },
     "execution_count": 19,
     "metadata": {},
     "output_type": "execute_result"
    }
   ],
   "source": [
    "resultado_puntuacion"
   ]
  },
  {
   "cell_type": "code",
   "execution_count": null,
   "id": "0072feca",
   "metadata": {},
   "outputs": [],
   "source": []
  }
 ],
 "metadata": {
  "kernelspec": {
   "display_name": "IRONHACK2022",
   "language": "python",
   "name": "ironhack2022"
  },
  "language_info": {
   "codemirror_mode": {
    "name": "ipython",
    "version": 3
   },
   "file_extension": ".py",
   "mimetype": "text/x-python",
   "name": "python",
   "nbconvert_exporter": "python",
   "pygments_lexer": "ipython3",
   "version": "3.9.13"
  }
 },
 "nbformat": 4,
 "nbformat_minor": 5
}

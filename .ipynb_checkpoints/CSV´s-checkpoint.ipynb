{
 "cells": [
  {
   "cell_type": "code",
   "execution_count": 5,
   "id": "ed62acab",
   "metadata": {},
   "outputs": [],
   "source": [
    "import pandas as pd \n",
    "import numpy as np \n",
    "from datetime import datetime\n",
    "import matplotlib.pyplot as plt\n",
    "import seaborn as sns\n",
    "import calendar \n",
    "%matplotlib inline\n",
    "from wordcloud import WordCloud, STOPWORDS\n",
    "import warnings\n",
    "warnings.filterwarnings('ignore')"
   ]
  },
  {
   "cell_type": "code",
   "execution_count": 6,
   "id": "da8d623b",
   "metadata": {},
   "outputs": [],
   "source": [
    "df_hours = pd.read_csv(\"data/Book1.csv\")\n",
    "df_title = pd.read_csv(\"data/games_steam.csv\")\n",
    "df_developer = pd.read_csv(\"data/games_data.csv\", encoding= 'unicode_escape')"
   ]
  },
  {
   "cell_type": "markdown",
   "id": "06c3b1fe",
   "metadata": {},
   "source": [
    "# EMPEZAMOS A TRABAJAR CON EL CSV DE HORAS Y PLAYERS,de aqui sacarémos los top 10 videojuegos jugados en referencia a horas y nº de Players\n"
   ]
  },
  {
   "cell_type": "code",
   "execution_count": 7,
   "id": "7a169393",
   "metadata": {
    "scrolled": true
   },
   "outputs": [
    {
     "data": {
      "text/html": [
       "<div>\n",
       "<style scoped>\n",
       "    .dataframe tbody tr th:only-of-type {\n",
       "        vertical-align: middle;\n",
       "    }\n",
       "\n",
       "    .dataframe tbody tr th {\n",
       "        vertical-align: top;\n",
       "    }\n",
       "\n",
       "    .dataframe thead th {\n",
       "        text-align: right;\n",
       "    }\n",
       "</style>\n",
       "<table border=\"1\" class=\"dataframe\">\n",
       "  <thead>\n",
       "    <tr style=\"text-align: right;\">\n",
       "      <th></th>\n",
       "      <th>ID</th>\n",
       "      <th>\\nName</th>\n",
       "      <th>Peak No. of Players</th>\n",
       "      <th>Hours Played</th>\n",
       "    </tr>\n",
       "  </thead>\n",
       "  <tbody>\n",
       "    <tr>\n",
       "      <th>0</th>\n",
       "      <td>1</td>\n",
       "      <td>Counter-Strike: Global Offensive</td>\n",
       "      <td>944,895</td>\n",
       "      <td>411,196,700</td>\n",
       "    </tr>\n",
       "    <tr>\n",
       "      <th>1</th>\n",
       "      <td>2</td>\n",
       "      <td>Lost Ark</td>\n",
       "      <td>580,042</td>\n",
       "      <td>279,812,296</td>\n",
       "    </tr>\n",
       "    <tr>\n",
       "      <th>2</th>\n",
       "      <td>3</td>\n",
       "      <td>Dota 2</td>\n",
       "      <td>719,422</td>\n",
       "      <td>326,014,122</td>\n",
       "    </tr>\n",
       "    <tr>\n",
       "      <th>3</th>\n",
       "      <td>4</td>\n",
       "      <td>PUBG: BATTLEGROUNDS</td>\n",
       "      <td>524,023</td>\n",
       "      <td>159,781,183</td>\n",
       "    </tr>\n",
       "    <tr>\n",
       "      <th>4</th>\n",
       "      <td>5</td>\n",
       "      <td>Apex Legends</td>\n",
       "      <td>370,651</td>\n",
       "      <td>137,813,200</td>\n",
       "    </tr>\n",
       "  </tbody>\n",
       "</table>\n",
       "</div>"
      ],
      "text/plain": [
       "   ID                            \\nName Peak No. of Players  Hours Played\n",
       "0   1  Counter-Strike: Global Offensive              944,895  411,196,700\n",
       "1   2                          Lost Ark              580,042  279,812,296\n",
       "2   3                            Dota 2              719,422  326,014,122\n",
       "3   4               PUBG: BATTLEGROUNDS              524,023  159,781,183\n",
       "4   5                      Apex Legends              370,651  137,813,200"
      ]
     },
     "execution_count": 7,
     "metadata": {},
     "output_type": "execute_result"
    }
   ],
   "source": [
    "df_hours.head()"
   ]
  },
  {
   "cell_type": "code",
   "execution_count": 8,
   "id": "4003d78f",
   "metadata": {},
   "outputs": [
    {
     "name": "stdout",
     "output_type": "stream",
     "text": [
      "<class 'pandas.core.frame.DataFrame'>\n",
      "RangeIndex: 200 entries, 0 to 199\n",
      "Data columns (total 4 columns):\n",
      " #   Column                Non-Null Count  Dtype \n",
      "---  ------                --------------  ----- \n",
      " 0   ID                    200 non-null    int64 \n",
      " 1   \n",
      "Name                 200 non-null    object\n",
      " 2   Peak No. of Players   200 non-null    object\n",
      " 3   Hours Played          200 non-null    object\n",
      "dtypes: int64(1), object(3)\n",
      "memory usage: 6.4+ KB\n"
     ]
    }
   ],
   "source": [
    "df_hours.info()"
   ]
  },
  {
   "cell_type": "code",
   "execution_count": 9,
   "id": "79701fe1",
   "metadata": {},
   "outputs": [
    {
     "data": {
      "text/plain": [
       "(200, 4)"
      ]
     },
     "execution_count": 9,
     "metadata": {},
     "output_type": "execute_result"
    }
   ],
   "source": [
    "\n",
    "nulos_hours = (df_hours.isnull().sum() / df_hours.shape[0] * 100).reset_index()\n",
    "nulos_hours = nulos_hours[nulos_hours[0] > 0]\n",
    "nulos_hours.columns = [\"columnas\", \"%_nulos\"]\n",
    "nulos_hours\n",
    "\n",
    "\n",
    "df_hours.shape"
   ]
  },
  {
   "cell_type": "code",
   "execution_count": 10,
   "id": "e7097907",
   "metadata": {},
   "outputs": [
    {
     "data": {
      "text/plain": [
       "(200, 4)"
      ]
     },
     "execution_count": 10,
     "metadata": {},
     "output_type": "execute_result"
    }
   ],
   "source": [
    "df_hours.shape"
   ]
  },
  {
   "cell_type": "code",
   "execution_count": 11,
   "id": "911ecd41",
   "metadata": {},
   "outputs": [
    {
     "data": {
      "text/html": [
       "<div>\n",
       "<style scoped>\n",
       "    .dataframe tbody tr th:only-of-type {\n",
       "        vertical-align: middle;\n",
       "    }\n",
       "\n",
       "    .dataframe tbody tr th {\n",
       "        vertical-align: top;\n",
       "    }\n",
       "\n",
       "    .dataframe thead th {\n",
       "        text-align: right;\n",
       "    }\n",
       "</style>\n",
       "<table border=\"1\" class=\"dataframe\">\n",
       "  <thead>\n",
       "    <tr style=\"text-align: right;\">\n",
       "      <th></th>\n",
       "      <th>ID</th>\n",
       "      <th>\\nName</th>\n",
       "      <th>Peak No. of Players</th>\n",
       "      <th>Hours Played</th>\n",
       "    </tr>\n",
       "  </thead>\n",
       "  <tbody>\n",
       "    <tr>\n",
       "      <th>0</th>\n",
       "      <td>1</td>\n",
       "      <td>Counter-Strike: Global Offensive</td>\n",
       "      <td>944,895</td>\n",
       "      <td>411,196,700</td>\n",
       "    </tr>\n",
       "    <tr>\n",
       "      <th>1</th>\n",
       "      <td>2</td>\n",
       "      <td>Lost Ark</td>\n",
       "      <td>580,042</td>\n",
       "      <td>279,812,296</td>\n",
       "    </tr>\n",
       "    <tr>\n",
       "      <th>2</th>\n",
       "      <td>3</td>\n",
       "      <td>Dota 2</td>\n",
       "      <td>719,422</td>\n",
       "      <td>326,014,122</td>\n",
       "    </tr>\n",
       "    <tr>\n",
       "      <th>3</th>\n",
       "      <td>4</td>\n",
       "      <td>PUBG: BATTLEGROUNDS</td>\n",
       "      <td>524,023</td>\n",
       "      <td>159,781,183</td>\n",
       "    </tr>\n",
       "    <tr>\n",
       "      <th>4</th>\n",
       "      <td>5</td>\n",
       "      <td>Apex Legends</td>\n",
       "      <td>370,651</td>\n",
       "      <td>137,813,200</td>\n",
       "    </tr>\n",
       "  </tbody>\n",
       "</table>\n",
       "</div>"
      ],
      "text/plain": [
       "   ID                            \\nName Peak No. of Players  Hours Played\n",
       "0   1  Counter-Strike: Global Offensive              944,895  411,196,700\n",
       "1   2                          Lost Ark              580,042  279,812,296\n",
       "2   3                            Dota 2              719,422  326,014,122\n",
       "3   4               PUBG: BATTLEGROUNDS              524,023  159,781,183\n",
       "4   5                      Apex Legends              370,651  137,813,200"
      ]
     },
     "execution_count": 11,
     "metadata": {},
     "output_type": "execute_result"
    }
   ],
   "source": [
    "df_hours.head()"
   ]
  },
  {
   "cell_type": "code",
   "execution_count": 12,
   "id": "077c6bdd",
   "metadata": {},
   "outputs": [
    {
     "data": {
      "text/plain": [
       "Index(['ID', '\\nName', 'Peak No. of Players ', 'Hours Played'], dtype='object')"
      ]
     },
     "execution_count": 12,
     "metadata": {},
     "output_type": "execute_result"
    }
   ],
   "source": [
    "df_hours.columns"
   ]
  },
  {
   "cell_type": "code",
   "execution_count": 13,
   "id": "48a44181",
   "metadata": {},
   "outputs": [],
   "source": [
    "df_hours['Hours Played']=df_hours['Hours Played'].str.replace(',','').astype('float64')\n"
   ]
  },
  {
   "cell_type": "code",
   "execution_count": 14,
   "id": "58d48b84",
   "metadata": {},
   "outputs": [],
   "source": [
    "df_hours['Peak No. of Players '] = df_hours['Peak No. of Players '].str.replace(',','').astype('float64')"
   ]
  },
  {
   "cell_type": "code",
   "execution_count": 15,
   "id": "cfa68014",
   "metadata": {
    "scrolled": true
   },
   "outputs": [
    {
     "name": "stdout",
     "output_type": "stream",
     "text": [
      "<class 'pandas.core.frame.DataFrame'>\n",
      "RangeIndex: 200 entries, 0 to 199\n",
      "Data columns (total 4 columns):\n",
      " #   Column                Non-Null Count  Dtype  \n",
      "---  ------                --------------  -----  \n",
      " 0   ID                    200 non-null    int64  \n",
      " 1   \n",
      "Name                 200 non-null    object \n",
      " 2   Peak No. of Players   200 non-null    float64\n",
      " 3   Hours Played          200 non-null    float64\n",
      "dtypes: float64(2), int64(1), object(1)\n",
      "memory usage: 6.4+ KB\n"
     ]
    }
   ],
   "source": [
    "df_hours.info()"
   ]
  },
  {
   "cell_type": "code",
   "execution_count": 16,
   "id": "2890a5a2",
   "metadata": {
    "scrolled": false
   },
   "outputs": [
    {
     "data": {
      "text/html": [
       "<div>\n",
       "<style scoped>\n",
       "    .dataframe tbody tr th:only-of-type {\n",
       "        vertical-align: middle;\n",
       "    }\n",
       "\n",
       "    .dataframe tbody tr th {\n",
       "        vertical-align: top;\n",
       "    }\n",
       "\n",
       "    .dataframe thead th {\n",
       "        text-align: right;\n",
       "    }\n",
       "</style>\n",
       "<table border=\"1\" class=\"dataframe\">\n",
       "  <thead>\n",
       "    <tr style=\"text-align: right;\">\n",
       "      <th></th>\n",
       "      <th>count</th>\n",
       "      <th>mean</th>\n",
       "      <th>std</th>\n",
       "      <th>min</th>\n",
       "      <th>25%</th>\n",
       "      <th>50%</th>\n",
       "      <th>75%</th>\n",
       "      <th>max</th>\n",
       "    </tr>\n",
       "  </thead>\n",
       "  <tbody>\n",
       "    <tr>\n",
       "      <th>ID</th>\n",
       "      <td>200.0</td>\n",
       "      <td>1.005000e+02</td>\n",
       "      <td>5.787918e+01</td>\n",
       "      <td>1.0</td>\n",
       "      <td>50.75</td>\n",
       "      <td>100.5</td>\n",
       "      <td>150.25</td>\n",
       "      <td>200.0</td>\n",
       "    </tr>\n",
       "    <tr>\n",
       "      <th>Peak No. of Players</th>\n",
       "      <td>200.0</td>\n",
       "      <td>4.044411e+04</td>\n",
       "      <td>1.051887e+05</td>\n",
       "      <td>2964.0</td>\n",
       "      <td>7609.50</td>\n",
       "      <td>14464.0</td>\n",
       "      <td>29625.50</td>\n",
       "      <td>944895.0</td>\n",
       "    </tr>\n",
       "    <tr>\n",
       "      <th>Hours Played</th>\n",
       "      <td>200.0</td>\n",
       "      <td>1.612826e+07</td>\n",
       "      <td>4.489661e+07</td>\n",
       "      <td>164366.0</td>\n",
       "      <td>2862349.25</td>\n",
       "      <td>4758623.5</td>\n",
       "      <td>11851169.75</td>\n",
       "      <td>411196700.0</td>\n",
       "    </tr>\n",
       "  </tbody>\n",
       "</table>\n",
       "</div>"
      ],
      "text/plain": [
       "                      count          mean           std       min         25%  \\\n",
       "ID                    200.0  1.005000e+02  5.787918e+01       1.0       50.75   \n",
       "Peak No. of Players   200.0  4.044411e+04  1.051887e+05    2964.0     7609.50   \n",
       "Hours Played          200.0  1.612826e+07  4.489661e+07  164366.0  2862349.25   \n",
       "\n",
       "                            50%          75%          max  \n",
       "ID                        100.5       150.25        200.0  \n",
       "Peak No. of Players     14464.0     29625.50     944895.0  \n",
       "Hours Played          4758623.5  11851169.75  411196700.0  "
      ]
     },
     "execution_count": 16,
     "metadata": {},
     "output_type": "execute_result"
    }
   ],
   "source": [
    "df_hours.describe().T"
   ]
  },
  {
   "cell_type": "code",
   "execution_count": 17,
   "id": "a7b1c180",
   "metadata": {
    "scrolled": true
   },
   "outputs": [
    {
     "data": {
      "text/html": [
       "<div>\n",
       "<style scoped>\n",
       "    .dataframe tbody tr th:only-of-type {\n",
       "        vertical-align: middle;\n",
       "    }\n",
       "\n",
       "    .dataframe tbody tr th {\n",
       "        vertical-align: top;\n",
       "    }\n",
       "\n",
       "    .dataframe thead th {\n",
       "        text-align: right;\n",
       "    }\n",
       "</style>\n",
       "<table border=\"1\" class=\"dataframe\">\n",
       "  <thead>\n",
       "    <tr style=\"text-align: right;\">\n",
       "      <th></th>\n",
       "      <th>ID</th>\n",
       "      <th>\\nName</th>\n",
       "      <th>Peak No. of Players</th>\n",
       "      <th>Hours Played</th>\n",
       "    </tr>\n",
       "  </thead>\n",
       "  <tbody>\n",
       "    <tr>\n",
       "      <th>0</th>\n",
       "      <td>1</td>\n",
       "      <td>Counter-Strike: Global Offensive</td>\n",
       "      <td>944895.0</td>\n",
       "      <td>411196700.0</td>\n",
       "    </tr>\n",
       "    <tr>\n",
       "      <th>2</th>\n",
       "      <td>3</td>\n",
       "      <td>Dota 2</td>\n",
       "      <td>719422.0</td>\n",
       "      <td>326014122.0</td>\n",
       "    </tr>\n",
       "    <tr>\n",
       "      <th>1</th>\n",
       "      <td>2</td>\n",
       "      <td>Lost Ark</td>\n",
       "      <td>580042.0</td>\n",
       "      <td>279812296.0</td>\n",
       "    </tr>\n",
       "    <tr>\n",
       "      <th>3</th>\n",
       "      <td>4</td>\n",
       "      <td>PUBG: BATTLEGROUNDS</td>\n",
       "      <td>524023.0</td>\n",
       "      <td>159781183.0</td>\n",
       "    </tr>\n",
       "    <tr>\n",
       "      <th>4</th>\n",
       "      <td>5</td>\n",
       "      <td>Apex Legends</td>\n",
       "      <td>370651.0</td>\n",
       "      <td>137813200.0</td>\n",
       "    </tr>\n",
       "    <tr>\n",
       "      <th>7</th>\n",
       "      <td>8</td>\n",
       "      <td>ELDEN RING</td>\n",
       "      <td>367192.0</td>\n",
       "      <td>130510173.0</td>\n",
       "    </tr>\n",
       "    <tr>\n",
       "      <th>5</th>\n",
       "      <td>6</td>\n",
       "      <td>Grand Theft Auto V</td>\n",
       "      <td>138025.0</td>\n",
       "      <td>60165044.0</td>\n",
       "    </tr>\n",
       "    <tr>\n",
       "      <th>9</th>\n",
       "      <td>10</td>\n",
       "      <td>Rust</td>\n",
       "      <td>141983.0</td>\n",
       "      <td>57656656.0</td>\n",
       "    </tr>\n",
       "    <tr>\n",
       "      <th>11</th>\n",
       "      <td>12</td>\n",
       "      <td>Team Fortress 2</td>\n",
       "      <td>94815.0</td>\n",
       "      <td>53764425.0</td>\n",
       "    </tr>\n",
       "    <tr>\n",
       "      <th>16</th>\n",
       "      <td>17</td>\n",
       "      <td>Destiny 2</td>\n",
       "      <td>93881.0</td>\n",
       "      <td>41697664.0</td>\n",
       "    </tr>\n",
       "  </tbody>\n",
       "</table>\n",
       "</div>"
      ],
      "text/plain": [
       "    ID                            \\nName  Peak No. of Players   Hours Played\n",
       "0    1  Counter-Strike: Global Offensive              944895.0   411196700.0\n",
       "2    3                            Dota 2              719422.0   326014122.0\n",
       "1    2                          Lost Ark              580042.0   279812296.0\n",
       "3    4               PUBG: BATTLEGROUNDS              524023.0   159781183.0\n",
       "4    5                      Apex Legends              370651.0   137813200.0\n",
       "7    8                        ELDEN RING              367192.0   130510173.0\n",
       "5    6                Grand Theft Auto V              138025.0    60165044.0\n",
       "9   10                              Rust              141983.0    57656656.0\n",
       "11  12                   Team Fortress 2               94815.0    53764425.0\n",
       "16  17                         Destiny 2               93881.0    41697664.0"
      ]
     },
     "execution_count": 17,
     "metadata": {},
     "output_type": "execute_result"
    }
   ],
   "source": [
    "#TOP JUEGOS POR HORAS DE TIEMPO JUGADAS\n",
    "Max10Played = df_hours.sort_values(by='Hours Played',ascending=False).head(10)\n",
    "Max10Played"
   ]
  },
  {
   "cell_type": "code",
   "execution_count": 18,
   "id": "026d10dc",
   "metadata": {},
   "outputs": [
    {
     "data": {
      "text/html": [
       "<div>\n",
       "<style scoped>\n",
       "    .dataframe tbody tr th:only-of-type {\n",
       "        vertical-align: middle;\n",
       "    }\n",
       "\n",
       "    .dataframe tbody tr th {\n",
       "        vertical-align: top;\n",
       "    }\n",
       "\n",
       "    .dataframe thead th {\n",
       "        text-align: right;\n",
       "    }\n",
       "</style>\n",
       "<table border=\"1\" class=\"dataframe\">\n",
       "  <thead>\n",
       "    <tr style=\"text-align: right;\">\n",
       "      <th></th>\n",
       "      <th>ID</th>\n",
       "      <th>\\nName</th>\n",
       "      <th>Peak No. of Players</th>\n",
       "      <th>Hours Played</th>\n",
       "    </tr>\n",
       "  </thead>\n",
       "  <tbody>\n",
       "    <tr>\n",
       "      <th>0</th>\n",
       "      <td>1</td>\n",
       "      <td>Counter-Strike: Global Offensive</td>\n",
       "      <td>944895.0</td>\n",
       "      <td>411196700.0</td>\n",
       "    </tr>\n",
       "    <tr>\n",
       "      <th>2</th>\n",
       "      <td>3</td>\n",
       "      <td>Dota 2</td>\n",
       "      <td>719422.0</td>\n",
       "      <td>326014122.0</td>\n",
       "    </tr>\n",
       "    <tr>\n",
       "      <th>1</th>\n",
       "      <td>2</td>\n",
       "      <td>Lost Ark</td>\n",
       "      <td>580042.0</td>\n",
       "      <td>279812296.0</td>\n",
       "    </tr>\n",
       "    <tr>\n",
       "      <th>3</th>\n",
       "      <td>4</td>\n",
       "      <td>PUBG: BATTLEGROUNDS</td>\n",
       "      <td>524023.0</td>\n",
       "      <td>159781183.0</td>\n",
       "    </tr>\n",
       "    <tr>\n",
       "      <th>4</th>\n",
       "      <td>5</td>\n",
       "      <td>Apex Legends</td>\n",
       "      <td>370651.0</td>\n",
       "      <td>137813200.0</td>\n",
       "    </tr>\n",
       "    <tr>\n",
       "      <th>7</th>\n",
       "      <td>8</td>\n",
       "      <td>ELDEN RING</td>\n",
       "      <td>367192.0</td>\n",
       "      <td>130510173.0</td>\n",
       "    </tr>\n",
       "    <tr>\n",
       "      <th>9</th>\n",
       "      <td>10</td>\n",
       "      <td>Rust</td>\n",
       "      <td>141983.0</td>\n",
       "      <td>57656656.0</td>\n",
       "    </tr>\n",
       "    <tr>\n",
       "      <th>6</th>\n",
       "      <td>7</td>\n",
       "      <td>NARAKA: BLADEPOINT</td>\n",
       "      <td>138617.0</td>\n",
       "      <td>39020908.0</td>\n",
       "    </tr>\n",
       "    <tr>\n",
       "      <th>5</th>\n",
       "      <td>6</td>\n",
       "      <td>Grand Theft Auto V</td>\n",
       "      <td>138025.0</td>\n",
       "      <td>60165044.0</td>\n",
       "    </tr>\n",
       "    <tr>\n",
       "      <th>12</th>\n",
       "      <td>13</td>\n",
       "      <td>Dread Hunger</td>\n",
       "      <td>107437.0</td>\n",
       "      <td>31239372.0</td>\n",
       "    </tr>\n",
       "  </tbody>\n",
       "</table>\n",
       "</div>"
      ],
      "text/plain": [
       "    ID                            \\nName  Peak No. of Players   Hours Played\n",
       "0    1  Counter-Strike: Global Offensive              944895.0   411196700.0\n",
       "2    3                            Dota 2              719422.0   326014122.0\n",
       "1    2                          Lost Ark              580042.0   279812296.0\n",
       "3    4               PUBG: BATTLEGROUNDS              524023.0   159781183.0\n",
       "4    5                      Apex Legends              370651.0   137813200.0\n",
       "7    8                        ELDEN RING              367192.0   130510173.0\n",
       "9   10                              Rust              141983.0    57656656.0\n",
       "6    7                NARAKA: BLADEPOINT              138617.0    39020908.0\n",
       "5    6                Grand Theft Auto V              138025.0    60165044.0\n",
       "12  13                      Dread Hunger              107437.0    31239372.0"
      ]
     },
     "execution_count": 18,
     "metadata": {},
     "output_type": "execute_result"
    }
   ],
   "source": [
    "#TOP JUEGOS POR  NÚMERO DE JUGADORES \n",
    "Max10Play = df_hours.sort_values(by='Peak No. of Players ',ascending=False).head(10)\n",
    "Max10Play"
   ]
  },
  {
   "cell_type": "code",
   "execution_count": 19,
   "id": "d929efca",
   "metadata": {},
   "outputs": [],
   "source": [
    "import matplotlib.pyplot as plt\n",
    "import seaborn as sns\n",
    "%matplotlib inline"
   ]
  },
  {
   "cell_type": "code",
   "execution_count": 20,
   "id": "373fe437",
   "metadata": {},
   "outputs": [],
   "source": [
    "def generate_cloud_normal(column, filename):\n",
    "\n",
    "    text = \" \".join(cat for cat in df_hours[column])\n",
    "\n",
    "    word_cloud = WordCloud(\n",
    "        width=7000,\n",
    "        height=2000,\n",
    "        background_color=\"black\",\n",
    "        colormap=\"OrRd\",\n",
    "        collocations=True,\n",
    "        stopwords=STOPWORDS,\n",
    "        ).generate(text)\n",
    "\n",
    "    plt.imshow(word_cloud)\n",
    "    plt.axis(\"off\")\n",
    "\n",
    "    \n",
    "    plt.show()\n",
    "\n",
    "    word_cloud.to_file(f'data/{filename}.png')"
   ]
  },
  {
   "cell_type": "code",
   "execution_count": null,
   "id": "9a9fb150",
   "metadata": {},
   "outputs": [],
   "source": [
    "generate_cloud_normal(\"\\nName\", \"Hours Played\" )"
   ]
  },
  {
   "cell_type": "code",
   "execution_count": null,
   "id": "6b330b69",
   "metadata": {},
   "outputs": [],
   "source": [
    "top10Players=df_hours.sort_values(by='Peak No. of Players ',ascending=False).head(10)\n",
    "top10Players"
   ]
  },
  {
   "cell_type": "code",
   "execution_count": null,
   "id": "bf822ed1",
   "metadata": {
    "scrolled": true
   },
   "outputs": [],
   "source": [
    "sns.set_style(\"darkgrid\")\n",
    "plt.figure(figsize=(16,8))\n",
    "sns.barplot(x='Peak No. of Players ',y='\\nName',data=Max10Played,palette='hls')\n",
    "plt.ylabel('Game Name',fontsize=15)\n",
    "plt.xlabel('Nº Players',fontsize=15)\n",
    "plt.title('Top 10 Players on',fontsize=18)"
   ]
  },
  {
   "cell_type": "markdown",
   "id": "126910b7",
   "metadata": {},
   "source": [
    "# AHORA INTENTAREMOS ENRIQUECER LA INFORMACIÓN CON  AÑOS DE LANZAMIENTO Y GENEROS DE LOS MISMOS, POR LO QUE INTENTAREMOS CONSEGUIR FILTROS DE LOS JUEGOS MAS JUGADOS SEGÚN SUS GENEROS Y VALORACIONES.\n",
    "#Serán los titulos más valorados los más jugados ?\n",
    "#Serán los juegos más jugados los mejores valorados? \n",
    "#INTENTAREMOS RESPONDER  A ESTAS QUESTIONES A PARTIR DE ESTE DATAFRAME . \n",
    "#UN "
   ]
  },
  {
   "cell_type": "code",
   "execution_count": null,
   "id": "31e80232",
   "metadata": {
    "scrolled": true
   },
   "outputs": [],
   "source": [
    "df_title.head(10)"
   ]
  },
  {
   "cell_type": "code",
   "execution_count": null,
   "id": "495758b8",
   "metadata": {},
   "outputs": [],
   "source": [
    "df_title.info()"
   ]
  },
  {
   "cell_type": "code",
   "execution_count": null,
   "id": "31cb2378",
   "metadata": {},
   "outputs": [],
   "source": [
    "df_title.shape"
   ]
  },
  {
   "cell_type": "code",
   "execution_count": null,
   "id": "4dbc60db",
   "metadata": {
    "scrolled": true
   },
   "outputs": [],
   "source": [
    "df_title.describe()"
   ]
  },
  {
   "cell_type": "code",
   "execution_count": null,
   "id": "570a36ce",
   "metadata": {},
   "outputs": [],
   "source": [
    "df_title.isnull().sum()"
   ]
  },
  {
   "cell_type": "code",
   "execution_count": null,
   "id": "3732cc9d",
   "metadata": {},
   "outputs": [],
   "source": [
    "#Calculamos el porcentaje de nulos que tiene nuestro dataset y en qué columna\n",
    "\n",
    "\n",
    "nulos = (df_title.isnull().sum() / df_title.shape[0] * 100).reset_index()\n",
    "nulos = nulos[nulos[0] > 0]\n",
    "nulos.columns = [\"columnas\", \"%_nulos\"]\n",
    "nulos"
   ]
  },
  {
   "cell_type": "markdown",
   "id": "20c0999d",
   "metadata": {},
   "source": [
    "# Vamos a crear una columna nueva en la que extraigamos solamente los años de lanzamiento y a partir de la misma sacaremos la cantidad de juegos que han salido por año"
   ]
  },
  {
   "cell_type": "code",
   "execution_count": null,
   "id": "4d935b60",
   "metadata": {},
   "outputs": [],
   "source": []
  },
  {
   "cell_type": "code",
   "execution_count": null,
   "id": "7217136d",
   "metadata": {},
   "outputs": [],
   "source": []
  },
  {
   "cell_type": "code",
   "execution_count": null,
   "id": "06dacdef",
   "metadata": {},
   "outputs": [],
   "source": []
  },
  {
   "cell_type": "code",
   "execution_count": null,
   "id": "80ccba34",
   "metadata": {},
   "outputs": [],
   "source": []
  },
  {
   "cell_type": "code",
   "execution_count": null,
   "id": "327b0fe5",
   "metadata": {},
   "outputs": [],
   "source": [
    "df_title= df_title.assign(Year = \"\")"
   ]
  },
  {
   "cell_type": "code",
   "execution_count": null,
   "id": "8e4ef99b",
   "metadata": {},
   "outputs": [],
   "source": [
    "df_title.head()"
   ]
  },
  {
   "cell_type": "code",
   "execution_count": null,
   "id": "b548a658",
   "metadata": {},
   "outputs": [],
   "source": [
    "df_title.drop(['GenreIsNonGame',\"GenreIsIndie\",\"GenreIsAction\",\"GenreIsAdventure\",\"GenreIsCasual\",\n",
    "               \"GenreIsStrategy\",\"GenreIsRPG\",\"GenreIsSimulation\",\"GenreIsEarlyAccess\",\"GenreIsFreeToPlay\",\n",
    "               \"GenreIsSports\",\"GenreIsRacing\",\"GenreIsMassivelyMultiplayer\"], axis=1,inplace = True)\n"
   ]
  },
  {
   "cell_type": "code",
   "execution_count": null,
   "id": "f02f03cb",
   "metadata": {
    "scrolled": true
   },
   "outputs": [],
   "source": [
    "df_title.columns"
   ]
  },
  {
   "cell_type": "code",
   "execution_count": null,
   "id": "a25a2a2d",
   "metadata": {},
   "outputs": [],
   "source": [
    "TopRated = df_title.sort_values(by='Metacritic',ascending=False).head(10)\n",
    "TopRated"
   ]
  },
  {
   "cell_type": "code",
   "execution_count": null,
   "id": "b80cc944",
   "metadata": {
    "scrolled": true
   },
   "outputs": [],
   "source": [
    "sns.set_style(\"darkgrid\")\n",
    "plt.figure(figsize=(16,8))\n",
    "sns.barplot(x='Metacritic',y='ResponseName',data=TopRated,palette='hls')\n",
    "plt.ylabel('Nombre',fontsize=15)\n",
    "plt.xlabel('Rate',fontsize=15)\n",
    "plt.title('Top 10 Games by Rating',fontsize=18)"
   ]
  },
  {
   "cell_type": "code",
   "execution_count": null,
   "id": "0f330b39",
   "metadata": {
    "scrolled": true
   },
   "outputs": [],
   "source": [
    "df_developer.describe().T"
   ]
  },
  {
   "cell_type": "code",
   "execution_count": null,
   "id": "d958c96c",
   "metadata": {
    "scrolled": true
   },
   "outputs": [],
   "source": [
    "df_release.head(10)"
   ]
  },
  {
   "cell_type": "code",
   "execution_count": null,
   "id": "b642da89",
   "metadata": {},
   "outputs": [],
   "source": [
    "unique_developer = df_developer[\"developer\"].unique().tolist()\n",
    "unique_developer"
   ]
  },
  {
   "cell_type": "code",
   "execution_count": null,
   "id": "16ee97be",
   "metadata": {},
   "outputs": [],
   "source": [
    "df_developer[\"genres\"].isnull().sum()"
   ]
  },
  {
   "cell_type": "code",
   "execution_count": null,
   "id": "f312d21b",
   "metadata": {},
   "outputs": [],
   "source": [
    "df_developer[\"price\"].unique"
   ]
  },
  {
   "cell_type": "code",
   "execution_count": null,
   "id": "11af1c33",
   "metadata": {},
   "outputs": [],
   "source": [
    "df_developer.info()"
   ]
  },
  {
   "cell_type": "code",
   "execution_count": null,
   "id": "923cbded",
   "metadata": {
    "scrolled": true
   },
   "outputs": [],
   "source": [
    "sns.set_style(\"darkgrid\")\n",
    "plt.figure(figsize=(16,8))\n",
    "sns.barplot(x='Metacritic',y='ResponseName',data=TopRated,palette='hls')\n",
    "plt.ylabel('Nombre',fontsize=15)\n",
    "plt.xlabel('Rate',fontsize=15)\n",
    "plt.title('Top 10 Games by Rating',fontsize=18)"
   ]
  },
  {
   "cell_type": "code",
   "execution_count": null,
   "id": "d5eb409a",
   "metadata": {},
   "outputs": [],
   "source": [
    "df_developer.head(2)"
   ]
  },
  {
   "cell_type": "code",
   "execution_count": null,
   "id": "bfc96fde",
   "metadata": {},
   "outputs": [],
   "source": [
    "df_developer.columns"
   ]
  },
  {
   "cell_type": "code",
   "execution_count": null,
   "id": "6054ac23",
   "metadata": {},
   "outputs": [],
   "source": [
    "df_developer.drop([\"genres\",\"detailed_review\",\"overall_review\",\"reviews\",\"percent_positive\",\n",
    "                 \"win_support\",\"mac_support\",\"lin_support\"],axis=1,inplace=True)"
   ]
  },
  {
   "cell_type": "code",
   "execution_count": null,
   "id": "5bf24157",
   "metadata": {},
   "outputs": [],
   "source": [
    "df_developer.head()"
   ]
  },
  {
   "cell_type": "code",
   "execution_count": null,
   "id": "0ef004c2",
   "metadata": {},
   "outputs": [],
   "source": [
    "df_developer[\"release_date\"].isnull().sum()"
   ]
  },
  {
   "cell_type": "code",
   "execution_count": null,
   "id": "58b32071",
   "metadata": {},
   "outputs": [],
   "source": [
    "df_developer.shape"
   ]
  },
  {
   "cell_type": "code",
   "execution_count": null,
   "id": "eba33d49",
   "metadata": {},
   "outputs": [],
   "source": []
  },
  {
   "cell_type": "code",
   "execution_count": null,
   "id": "08d88b20",
   "metadata": {},
   "outputs": [],
   "source": []
  },
  {
   "cell_type": "code",
   "execution_count": null,
   "id": "7c5f7ba7",
   "metadata": {},
   "outputs": [],
   "source": []
  },
  {
   "cell_type": "markdown",
   "id": "b541fb54",
   "metadata": {},
   "source": [
    "# DROPEAREMOS LAS COLUMNAS QUE NOS SOBREN QUE SERÁN LAS RELACIONADAS CON RATING Y GENERO, DADO QUE ESTA INFORMACIÓN LA SACAREMOS DEL SCRAPPING"
   ]
  },
  {
   "cell_type": "code",
   "execution_count": null,
   "id": "104071f7",
   "metadata": {},
   "outputs": [],
   "source": [
    "df_hours.head()"
   ]
  },
  {
   "cell_type": "code",
   "execution_count": null,
   "id": "75b68ee7",
   "metadata": {
    "scrolled": true
   },
   "outputs": [],
   "source": [
    "df_developer.head()"
   ]
  },
  {
   "cell_type": "code",
   "execution_count": null,
   "id": "d845c2b1",
   "metadata": {},
   "outputs": [],
   "source": [
    "df_developer.drop([\"release_date\"],axis = 1,inplace = True)"
   ]
  },
  {
   "cell_type": "code",
   "execution_count": null,
   "id": "08171760",
   "metadata": {
    "scrolled": true
   },
   "outputs": [],
   "source": [
    "df_title.head()"
   ]
  },
  {
   "cell_type": "code",
   "execution_count": null,
   "id": "e4c99c66",
   "metadata": {},
   "outputs": [],
   "source": [
    "df_developer.head()"
   ]
  },
  {
   "cell_type": "code",
   "execution_count": null,
   "id": "721d3f8d",
   "metadata": {},
   "outputs": [],
   "source": [
    "df_title[\"ReleaseDate\"].isnull().sum()"
   ]
  },
  {
   "cell_type": "code",
   "execution_count": null,
   "id": "892e7296",
   "metadata": {},
   "outputs": [],
   "source": [
    "df_title.shape"
   ]
  },
  {
   "cell_type": "code",
   "execution_count": null,
   "id": "73b405c7",
   "metadata": {},
   "outputs": [],
   "source": []
  }
 ],
 "metadata": {
  "kernelspec": {
   "display_name": "IRONHACK2022",
   "language": "python",
   "name": "ironhack2022"
  },
  "language_info": {
   "codemirror_mode": {
    "name": "ipython",
    "version": 3
   },
   "file_extension": ".py",
   "mimetype": "text/x-python",
   "name": "python",
   "nbconvert_exporter": "python",
   "pygments_lexer": "ipython3",
   "version": "3.9.13"
  }
 },
 "nbformat": 4,
 "nbformat_minor": 5
}
